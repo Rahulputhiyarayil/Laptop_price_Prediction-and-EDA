{
  "nbformat": 4,
  "nbformat_minor": 0,
  "metadata": {
    "colab": {
      "provenance": [],
      "collapsed_sections": []
    },
    "kernelspec": {
      "name": "python3",
      "display_name": "Python 3"
    },
    "language_info": {
      "name": "python"
    }
  },
  "cells": [
    {
      "cell_type": "markdown",
      "source": [
        "## **Importing Data and Libraries**"
      ],
      "metadata": {
        "id": "f7v6FZrwHjeu"
      }
    },
    {
      "cell_type": "code",
      "execution_count": null,
      "metadata": {
        "id": "c_5oTtrcpB9n"
      },
      "outputs": [],
      "source": [
        "import pandas as pd\n",
        "import numpy as np\n",
        "import matplotlib.pyplot as plt\n",
        "import seaborn as sns\n",
        "import regex as re\n",
        "%matplotlib inline\n",
        "from scipy import stats\n",
        "from sklearn.preprocessing import LabelEncoder\n",
        "from sklearn.model_selection import train_test_split\n",
        "from sklearn.linear_model import LinearRegression,Lasso\n",
        "from sklearn import metrics\n"
      ]
    },
    {
      "cell_type": "code",
      "source": [
        "from google.colab import files\n",
        "files.upload()"
      ],
      "metadata": {
        "id": "-wl8YGPJpeyI"
      },
      "execution_count": null,
      "outputs": []
    },
    {
      "cell_type": "code",
      "source": [
        "df=pd.read_csv('task7.csv')\n",
        "df.head()"
      ],
      "metadata": {
        "colab": {
          "base_uri": "https://localhost:8080/",
          "height": 206
        },
        "id": "6Nd5WYevtp9E",
        "outputId": "9bf05726-6d2b-4252-c64b-c3c995a67fa1"
      },
      "execution_count": 116,
      "outputs": [
        {
          "output_type": "execute_result",
          "data": {
            "text/plain": [
              "  company model_name  rating processor_name processor_type generation   ram  \\\n",
              "0  Lenovo    IdeaPad     4.4          Intel         Corei3    11thGen   8GB   \n",
              "1    ASUS        TUF     4.4          Intel         Corei5    10thGen   8GB   \n",
              "2     MSI       GF65     4.4          Intel         Corei7    10thGen  16GB   \n",
              "3    DELL     Vostro     3.9          Intel         Corei3    11thGen   8GB   \n",
              "4    ASUS       Core     4.3          Intel         Corei3    10thGen   4GB   \n",
              "\n",
              "                              os     storage       size  warranty(year)  \\\n",
              "0    Windows 10 Operating System  512 GB SSD  15.6 inch             2.0   \n",
              "1    Windows 10 Operating System  512 GB SSD  15.6 Inch             1.0   \n",
              "2    Windows 10 Operating System    1 TB SSD  15.6 inch             2.0   \n",
              "3    Windows 10 Operating System    1 TB HDD    14 inch             1.0   \n",
              "4    Windows 10 Operating System  512 GB SSD  15.6 inch             1.0   \n",
              "\n",
              "       price  \n",
              "0    ₹63,790  \n",
              "1    ₹89,990  \n",
              "2  ₹1,23,990  \n",
              "3    ₹41,715  \n",
              "4    ₹48,990  "
            ],
            "text/html": [
              "\n",
              "  <div id=\"df-41f2f709-c878-4098-b688-5fd918eea7c2\">\n",
              "    <div class=\"colab-df-container\">\n",
              "      <div>\n",
              "<style scoped>\n",
              "    .dataframe tbody tr th:only-of-type {\n",
              "        vertical-align: middle;\n",
              "    }\n",
              "\n",
              "    .dataframe tbody tr th {\n",
              "        vertical-align: top;\n",
              "    }\n",
              "\n",
              "    .dataframe thead th {\n",
              "        text-align: right;\n",
              "    }\n",
              "</style>\n",
              "<table border=\"1\" class=\"dataframe\">\n",
              "  <thead>\n",
              "    <tr style=\"text-align: right;\">\n",
              "      <th></th>\n",
              "      <th>company</th>\n",
              "      <th>model_name</th>\n",
              "      <th>rating</th>\n",
              "      <th>processor_name</th>\n",
              "      <th>processor_type</th>\n",
              "      <th>generation</th>\n",
              "      <th>ram</th>\n",
              "      <th>os</th>\n",
              "      <th>storage</th>\n",
              "      <th>size</th>\n",
              "      <th>warranty(year)</th>\n",
              "      <th>price</th>\n",
              "    </tr>\n",
              "  </thead>\n",
              "  <tbody>\n",
              "    <tr>\n",
              "      <th>0</th>\n",
              "      <td>Lenovo</td>\n",
              "      <td>IdeaPad</td>\n",
              "      <td>4.4</td>\n",
              "      <td>Intel</td>\n",
              "      <td>Corei3</td>\n",
              "      <td>11thGen</td>\n",
              "      <td>8GB</td>\n",
              "      <td>Windows 10 Operating System</td>\n",
              "      <td>512 GB SSD</td>\n",
              "      <td>15.6 inch</td>\n",
              "      <td>2.0</td>\n",
              "      <td>₹63,790</td>\n",
              "    </tr>\n",
              "    <tr>\n",
              "      <th>1</th>\n",
              "      <td>ASUS</td>\n",
              "      <td>TUF</td>\n",
              "      <td>4.4</td>\n",
              "      <td>Intel</td>\n",
              "      <td>Corei5</td>\n",
              "      <td>10thGen</td>\n",
              "      <td>8GB</td>\n",
              "      <td>Windows 10 Operating System</td>\n",
              "      <td>512 GB SSD</td>\n",
              "      <td>15.6 Inch</td>\n",
              "      <td>1.0</td>\n",
              "      <td>₹89,990</td>\n",
              "    </tr>\n",
              "    <tr>\n",
              "      <th>2</th>\n",
              "      <td>MSI</td>\n",
              "      <td>GF65</td>\n",
              "      <td>4.4</td>\n",
              "      <td>Intel</td>\n",
              "      <td>Corei7</td>\n",
              "      <td>10thGen</td>\n",
              "      <td>16GB</td>\n",
              "      <td>Windows 10 Operating System</td>\n",
              "      <td>1 TB SSD</td>\n",
              "      <td>15.6 inch</td>\n",
              "      <td>2.0</td>\n",
              "      <td>₹1,23,990</td>\n",
              "    </tr>\n",
              "    <tr>\n",
              "      <th>3</th>\n",
              "      <td>DELL</td>\n",
              "      <td>Vostro</td>\n",
              "      <td>3.9</td>\n",
              "      <td>Intel</td>\n",
              "      <td>Corei3</td>\n",
              "      <td>11thGen</td>\n",
              "      <td>8GB</td>\n",
              "      <td>Windows 10 Operating System</td>\n",
              "      <td>1 TB HDD</td>\n",
              "      <td>14 inch</td>\n",
              "      <td>1.0</td>\n",
              "      <td>₹41,715</td>\n",
              "    </tr>\n",
              "    <tr>\n",
              "      <th>4</th>\n",
              "      <td>ASUS</td>\n",
              "      <td>Core</td>\n",
              "      <td>4.3</td>\n",
              "      <td>Intel</td>\n",
              "      <td>Corei3</td>\n",
              "      <td>10thGen</td>\n",
              "      <td>4GB</td>\n",
              "      <td>Windows 10 Operating System</td>\n",
              "      <td>512 GB SSD</td>\n",
              "      <td>15.6 inch</td>\n",
              "      <td>1.0</td>\n",
              "      <td>₹48,990</td>\n",
              "    </tr>\n",
              "  </tbody>\n",
              "</table>\n",
              "</div>\n",
              "      <button class=\"colab-df-convert\" onclick=\"convertToInteractive('df-41f2f709-c878-4098-b688-5fd918eea7c2')\"\n",
              "              title=\"Convert this dataframe to an interactive table.\"\n",
              "              style=\"display:none;\">\n",
              "        \n",
              "  <svg xmlns=\"http://www.w3.org/2000/svg\" height=\"24px\"viewBox=\"0 0 24 24\"\n",
              "       width=\"24px\">\n",
              "    <path d=\"M0 0h24v24H0V0z\" fill=\"none\"/>\n",
              "    <path d=\"M18.56 5.44l.94 2.06.94-2.06 2.06-.94-2.06-.94-.94-2.06-.94 2.06-2.06.94zm-11 1L8.5 8.5l.94-2.06 2.06-.94-2.06-.94L8.5 2.5l-.94 2.06-2.06.94zm10 10l.94 2.06.94-2.06 2.06-.94-2.06-.94-.94-2.06-.94 2.06-2.06.94z\"/><path d=\"M17.41 7.96l-1.37-1.37c-.4-.4-.92-.59-1.43-.59-.52 0-1.04.2-1.43.59L10.3 9.45l-7.72 7.72c-.78.78-.78 2.05 0 2.83L4 21.41c.39.39.9.59 1.41.59.51 0 1.02-.2 1.41-.59l7.78-7.78 2.81-2.81c.8-.78.8-2.07 0-2.86zM5.41 20L4 18.59l7.72-7.72 1.47 1.35L5.41 20z\"/>\n",
              "  </svg>\n",
              "      </button>\n",
              "      \n",
              "  <style>\n",
              "    .colab-df-container {\n",
              "      display:flex;\n",
              "      flex-wrap:wrap;\n",
              "      gap: 12px;\n",
              "    }\n",
              "\n",
              "    .colab-df-convert {\n",
              "      background-color: #E8F0FE;\n",
              "      border: none;\n",
              "      border-radius: 50%;\n",
              "      cursor: pointer;\n",
              "      display: none;\n",
              "      fill: #1967D2;\n",
              "      height: 32px;\n",
              "      padding: 0 0 0 0;\n",
              "      width: 32px;\n",
              "    }\n",
              "\n",
              "    .colab-df-convert:hover {\n",
              "      background-color: #E2EBFA;\n",
              "      box-shadow: 0px 1px 2px rgba(60, 64, 67, 0.3), 0px 1px 3px 1px rgba(60, 64, 67, 0.15);\n",
              "      fill: #174EA6;\n",
              "    }\n",
              "\n",
              "    [theme=dark] .colab-df-convert {\n",
              "      background-color: #3B4455;\n",
              "      fill: #D2E3FC;\n",
              "    }\n",
              "\n",
              "    [theme=dark] .colab-df-convert:hover {\n",
              "      background-color: #434B5C;\n",
              "      box-shadow: 0px 1px 3px 1px rgba(0, 0, 0, 0.15);\n",
              "      filter: drop-shadow(0px 1px 2px rgba(0, 0, 0, 0.3));\n",
              "      fill: #FFFFFF;\n",
              "    }\n",
              "  </style>\n",
              "\n",
              "      <script>\n",
              "        const buttonEl =\n",
              "          document.querySelector('#df-41f2f709-c878-4098-b688-5fd918eea7c2 button.colab-df-convert');\n",
              "        buttonEl.style.display =\n",
              "          google.colab.kernel.accessAllowed ? 'block' : 'none';\n",
              "\n",
              "        async function convertToInteractive(key) {\n",
              "          const element = document.querySelector('#df-41f2f709-c878-4098-b688-5fd918eea7c2');\n",
              "          const dataTable =\n",
              "            await google.colab.kernel.invokeFunction('convertToInteractive',\n",
              "                                                     [key], {});\n",
              "          if (!dataTable) return;\n",
              "\n",
              "          const docLinkHtml = 'Like what you see? Visit the ' +\n",
              "            '<a target=\"_blank\" href=https://colab.research.google.com/notebooks/data_table.ipynb>data table notebook</a>'\n",
              "            + ' to learn more about interactive tables.';\n",
              "          element.innerHTML = '';\n",
              "          dataTable['output_type'] = 'display_data';\n",
              "          await google.colab.output.renderOutput(dataTable, element);\n",
              "          const docLink = document.createElement('div');\n",
              "          docLink.innerHTML = docLinkHtml;\n",
              "          element.appendChild(docLink);\n",
              "        }\n",
              "      </script>\n",
              "    </div>\n",
              "  </div>\n",
              "  "
            ]
          },
          "metadata": {},
          "execution_count": 116
        }
      ]
    },
    {
      "cell_type": "markdown",
      "source": [
        "## **Data Cleaning**"
      ],
      "metadata": {
        "id": "370yhmMxHrfF"
      }
    },
    {
      "cell_type": "code",
      "source": [
        "#Checking null values\n",
        "df.isnull().sum()"
      ],
      "metadata": {
        "colab": {
          "base_uri": "https://localhost:8080/"
        },
        "id": "BNF3HSh_VIKZ",
        "outputId": "bc0b709a-5419-4d9d-9518-172d17780034"
      },
      "execution_count": null,
      "outputs": [
        {
          "output_type": "execute_result",
          "data": {
            "text/plain": [
              "company             0\n",
              "model_name          0\n",
              "rating            180\n",
              "processor_name      0\n",
              "processor_type      0\n",
              "generation        135\n",
              "ram                 0\n",
              "os                  0\n",
              "storage             0\n",
              "size                0\n",
              "warranty(year)    171\n",
              "price               0\n",
              "dtype: int64"
            ]
          },
          "metadata": {},
          "execution_count": 5
        }
      ]
    },
    {
      "cell_type": "code",
      "source": [
        "df.info()"
      ],
      "metadata": {
        "colab": {
          "base_uri": "https://localhost:8080/"
        },
        "id": "DplvsZkPVNLe",
        "outputId": "648ec33b-a149-478b-b2c4-8b402f46d639"
      },
      "execution_count": null,
      "outputs": [
        {
          "output_type": "stream",
          "name": "stdout",
          "text": [
            "<class 'pandas.core.frame.DataFrame'>\n",
            "RangeIndex: 572 entries, 0 to 571\n",
            "Data columns (total 12 columns):\n",
            " #   Column          Non-Null Count  Dtype  \n",
            "---  ------          --------------  -----  \n",
            " 0   company         572 non-null    object \n",
            " 1   model_name      572 non-null    object \n",
            " 2   rating          392 non-null    float64\n",
            " 3   processor_name  572 non-null    object \n",
            " 4   processor_type  572 non-null    object \n",
            " 5   generation      437 non-null    object \n",
            " 6   ram             572 non-null    object \n",
            " 7   os              572 non-null    object \n",
            " 8   storage         572 non-null    object \n",
            " 9   size            572 non-null    object \n",
            " 10  warranty(year)  401 non-null    float64\n",
            " 11  price           572 non-null    object \n",
            "dtypes: float64(2), object(10)\n",
            "memory usage: 53.8+ KB\n"
          ]
        }
      ]
    },
    {
      "cell_type": "code",
      "source": [
        "df.shape"
      ],
      "metadata": {
        "colab": {
          "base_uri": "https://localhost:8080/"
        },
        "id": "YpsgIilMVNIo",
        "outputId": "710dcf21-a931-4556-c481-6c74538967f6"
      },
      "execution_count": null,
      "outputs": [
        {
          "output_type": "execute_result",
          "data": {
            "text/plain": [
              "(572, 11)"
            ]
          },
          "metadata": {},
          "execution_count": 7
        }
      ]
    },
    {
      "cell_type": "code",
      "source": [
        "#Dropping warranty column\n",
        "df.drop(['warranty(year)'],axis=1, inplace=True)"
      ],
      "metadata": {
        "id": "mzs4zv9WUnT9"
      },
      "execution_count": null,
      "outputs": []
    },
    {
      "cell_type": "code",
      "source": [
        "#Checking duplicates\n",
        "df[df.duplicated()]"
      ],
      "metadata": {
        "colab": {
          "base_uri": "https://localhost:8080/",
          "height": 1000
        },
        "id": "RU7JxlxcZRRR",
        "outputId": "038330dc-9363-42c0-f85a-2005d902c7e4"
      },
      "execution_count": null,
      "outputs": [
        {
          "output_type": "execute_result",
          "data": {
            "text/plain": [
              "     company  model_name  rating processor_name processor_type generation  \\\n",
              "41      ASUS    VivoBook     4.5          Intel         Corei5    11thGen   \n",
              "61     APPLE     MacBook     4.7          Apple    M1Processor        NaN   \n",
              "70        HP        Core     4.3          Intel         Corei3    11thGen   \n",
              "110  Infinix          X1     4.2          Intel         Corei3    10thGen   \n",
              "119      MSI        Core     NaN          Intel         Corei3    10thGen   \n",
              "125    APPLE     MacBook     4.7          Apple    M1Processor        NaN   \n",
              "136     ASUS    Vivobook     NaN          Intel         Corei3    11thGen   \n",
              "218     ASUS    VivoBook     4.4          Intel         Corei3    10thGen   \n",
              "220     DELL         XPS     NaN          Intel         Corei5    11thGen   \n",
              "223     DELL      Vostro     4.1          Intel         Corei5    11thGen   \n",
              "235     ASUS         TUF     4.4            AMD         Ryzen7        NaN   \n",
              "236     ASUS       Ryzen     4.6            AMD         Ryzen5        NaN   \n",
              "244   Lenovo        Core     NaN          Intel         Corei5    11thGen   \n",
              "245   Lenovo   Thinkbook     4.0          Intel         Corei5    11thGen   \n",
              "246   Lenovo        X390     NaN          Intel         Corei5    10thGen   \n",
              "247     ASUS     Zenbook     5.0          Intel         Corei5    11thGen   \n",
              "248   Lenovo        Yoga     4.0          Intel         Corei5    10thGen   \n",
              "249       LG        Gram     4.5          Intel         Corei5    10thGen   \n",
              "253     DELL    Inspiron     4.3          Intel         Corei5    10thGen   \n",
              "259    Avita        PURA     3.7            AMD        APUDual        NaN   \n",
              "284   Lenovo     Ideapad     NaN          Intel         Corei5    11thGen   \n",
              "286     ASUS         TUF     NaN          Intel         Corei7    11thGen   \n",
              "287     ASUS     ZenBook     4.8          Intel         Corei5    11thGen   \n",
              "300       HP    Pavilion     4.5            AMD         Ryzen5        NaN   \n",
              "310   Lenovo     Ideapad     NaN          Intel         Corei5    10thGen   \n",
              "325     ASUS  ExpertBook     NaN          Intel         Corei7    10thGen   \n",
              "326     ASUS  ExpertBook     NaN          Intel         Corei7    10thGen   \n",
              "329     ASUS         ROG     NaN          Intel         Corei7    10thGen   \n",
              "330   Lenovo     Ideapad     4.3          Intel         Corei5    11thGen   \n",
              "397     Vaio           E     4.1            AMD         Ryzen5        NaN   \n",
              "439   Lenovo        Core     NaN          Intel         Corei5    11thGen   \n",
              "518     Vaio           E     3.8            AMD         Ryzen7        NaN   \n",
              "524    Avita       Liber     3.4          Intel         Corei5     8thGen   \n",
              "525    Avita       Liber     3.4          Intel         Corei5     8thGen   \n",
              "528    Avita       Liber     NaN          Intel         Corei5     7thGen   \n",
              "529    Avita       Liber     NaN          Intel         Corei7     8thGen   \n",
              "530    Avita       Liber     NaN          Intel         Corei7     8thGen   \n",
              "531    Avita       Liber     NaN          Intel         Corei7     8thGen   \n",
              "539     DELL    Inspiron     NaN          Intel         Corei3    10thGen   \n",
              "544    Avita       Liber     NaN          Intel         Corei7     8thGen   \n",
              "\n",
              "      ram                             os              storage       size  \\\n",
              "41    8GB    Windows 10 Operating System           512 GB SSD    14 inch   \n",
              "61    8GB        Mac OS Operating System           256 GB SSD  13.3 inch   \n",
              "70    8GB    Windows 10 Operating System           512 GB SSD  15.6 inch   \n",
              "110   8GB    Windows 11 Operating System           256 GB SSD    14 inch   \n",
              "119   8GB    Windows 10 Operating System           512 GB SSD    14 inch   \n",
              "125   8GB        Mac OS Operating System           512 GB SSD  13.3 inch   \n",
              "136   8GB    Windows 11 Operating System  1 TB HDD|256 GB SSD  14.1 inch   \n",
              "218   4GB    Windows 10 Operating System           512 GB SSD    14 inch   \n",
              "220  16GB    Windows 10 Operating System           512 GB SSD  13.3 Inch   \n",
              "223   8GB    Windows 10 Operating System           512 GB SSD    14 inch   \n",
              "235   8GB    Windows 10 Operating System             1 TB SSD  15.6 inch   \n",
              "236   8GB    Windows 10 Operating System           512 GB SSD  15.6 inch   \n",
              "244  16GB    Windows 10 Operating System           512 GB SSD    15 inch   \n",
              "245   8GB    Windows 10 Operating System           512 GB SSD    15 inch   \n",
              "246   8GB    Windows 10 Operating System           512 GB SSD  13.3 inch   \n",
              "247  16GB    Windows 10 Operating System           512 GB SSD  13.3 inch   \n",
              "248   8GB    Windows 10 Operating System           512 GB SSD    14 inch   \n",
              "249   8GB    Windows 10 Operating System           256 GB SSD    14 inch   \n",
              "253   8GB    Windows 10 Operating System           512 GB SSD    14 inch   \n",
              "259   4GB    Windows 10 Operating System           128 GB SSD  14 inches   \n",
              "284   8GB    Windows 10 Operating System           512 GB SSD    14 inch   \n",
              "286   8GB    Windows 10 Operating System             1 TB SSD  15.6 Inch   \n",
              "287   8GB    Windows 10 Operating System           512 GB SSD    14 inch   \n",
              "300   8GB    Windows 10 Operating System  1 TB HDD|256 GB SSD  15.6 inch   \n",
              "310   8GB    Windows 11 Operating System           512 GB SSD  15.6 inch   \n",
              "325  16GB    Windows 10 Operating System             1 TB SSD    14 inch   \n",
              "326  16GB    Windows 10 Operating System             1 TB SSD    14 inch   \n",
              "329  32GB    Windows 10 Operating System             1 TB SSD  17.3 inch   \n",
              "330   8GB    Windows 10 Operating System  1 TB HDD|256 GB SSD  15.6 inch   \n",
              "397   8GB    Windows 10 Operating System           512 GB SSD  15.6 inch   \n",
              "439  16GB    Windows 10 Operating System           512 GB SSD  15.6 inch   \n",
              "518   8GB    Windows 10 Operating System           512 GB SSD  15.6 inch   \n",
              "524   8GB    Windows 10 Operating System           512 GB SSD    14 inch   \n",
              "525   8GB    Windows 10 Operating System           512 GB SSD    14 inch   \n",
              "528   8GB    Windows 10 Operating System           512 GB SSD  13.3 inch   \n",
              "529   8GB    Windows 10 Operating System           256 GB SSD    14 inch   \n",
              "530   8GB    Windows 10 Operating System           256 GB SSD    14 inch   \n",
              "531   8GB    Windows 10 Operating System           256 GB SSD    14 inch   \n",
              "539   8GB    Windows 10 Operating System             1 TB HDD  15.6 inch   \n",
              "544   8GB    Windows 10 Operating System           256 GB SSD    14 inch   \n",
              "\n",
              "         price  \n",
              "41     ₹73,990  \n",
              "61   ₹1,22,900  \n",
              "70     ₹52,324  \n",
              "110    ₹49,999  \n",
              "119    ₹55,990  \n",
              "125  ₹1,17,900  \n",
              "136    ₹57,990  \n",
              "218    ₹49,990  \n",
              "220  ₹1,15,729  \n",
              "223    ₹87,168  \n",
              "235  ₹1,05,990  \n",
              "236    ₹62,990  \n",
              "244  ₹1,19,520  \n",
              "245  ₹1,15,167  \n",
              "246  ₹1,20,000  \n",
              "247  ₹1,04,990  \n",
              "248  ₹1,13,290  \n",
              "249    ₹99,000  \n",
              "253    ₹99,433  \n",
              "259    ₹27,990  \n",
              "284    ₹72,690  \n",
              "286  ₹1,27,990  \n",
              "287  ₹1,16,990  \n",
              "300    ₹83,085  \n",
              "310    ₹89,999  \n",
              "325  ₹2,02,990  \n",
              "326  ₹2,02,990  \n",
              "329  ₹3,09,990  \n",
              "330    ₹96,490  \n",
              "397    ₹66,990  \n",
              "439  ₹1,01,390  \n",
              "518    ₹76,090  \n",
              "524    ₹76,990  \n",
              "525    ₹76,990  \n",
              "528    ₹79,990  \n",
              "529    ₹79,990  \n",
              "530    ₹79,990  \n",
              "531    ₹79,990  \n",
              "539    ₹55,534  \n",
              "544    ₹79,990  "
            ],
            "text/html": [
              "\n",
              "  <div id=\"df-2ae968dc-6cd7-4731-8184-c7dbe03a1bb8\">\n",
              "    <div class=\"colab-df-container\">\n",
              "      <div>\n",
              "<style scoped>\n",
              "    .dataframe tbody tr th:only-of-type {\n",
              "        vertical-align: middle;\n",
              "    }\n",
              "\n",
              "    .dataframe tbody tr th {\n",
              "        vertical-align: top;\n",
              "    }\n",
              "\n",
              "    .dataframe thead th {\n",
              "        text-align: right;\n",
              "    }\n",
              "</style>\n",
              "<table border=\"1\" class=\"dataframe\">\n",
              "  <thead>\n",
              "    <tr style=\"text-align: right;\">\n",
              "      <th></th>\n",
              "      <th>company</th>\n",
              "      <th>model_name</th>\n",
              "      <th>rating</th>\n",
              "      <th>processor_name</th>\n",
              "      <th>processor_type</th>\n",
              "      <th>generation</th>\n",
              "      <th>ram</th>\n",
              "      <th>os</th>\n",
              "      <th>storage</th>\n",
              "      <th>size</th>\n",
              "      <th>price</th>\n",
              "    </tr>\n",
              "  </thead>\n",
              "  <tbody>\n",
              "    <tr>\n",
              "      <th>41</th>\n",
              "      <td>ASUS</td>\n",
              "      <td>VivoBook</td>\n",
              "      <td>4.5</td>\n",
              "      <td>Intel</td>\n",
              "      <td>Corei5</td>\n",
              "      <td>11thGen</td>\n",
              "      <td>8GB</td>\n",
              "      <td>Windows 10 Operating System</td>\n",
              "      <td>512 GB SSD</td>\n",
              "      <td>14 inch</td>\n",
              "      <td>₹73,990</td>\n",
              "    </tr>\n",
              "    <tr>\n",
              "      <th>61</th>\n",
              "      <td>APPLE</td>\n",
              "      <td>MacBook</td>\n",
              "      <td>4.7</td>\n",
              "      <td>Apple</td>\n",
              "      <td>M1Processor</td>\n",
              "      <td>NaN</td>\n",
              "      <td>8GB</td>\n",
              "      <td>Mac OS Operating System</td>\n",
              "      <td>256 GB SSD</td>\n",
              "      <td>13.3 inch</td>\n",
              "      <td>₹1,22,900</td>\n",
              "    </tr>\n",
              "    <tr>\n",
              "      <th>70</th>\n",
              "      <td>HP</td>\n",
              "      <td>Core</td>\n",
              "      <td>4.3</td>\n",
              "      <td>Intel</td>\n",
              "      <td>Corei3</td>\n",
              "      <td>11thGen</td>\n",
              "      <td>8GB</td>\n",
              "      <td>Windows 10 Operating System</td>\n",
              "      <td>512 GB SSD</td>\n",
              "      <td>15.6 inch</td>\n",
              "      <td>₹52,324</td>\n",
              "    </tr>\n",
              "    <tr>\n",
              "      <th>110</th>\n",
              "      <td>Infinix</td>\n",
              "      <td>X1</td>\n",
              "      <td>4.2</td>\n",
              "      <td>Intel</td>\n",
              "      <td>Corei3</td>\n",
              "      <td>10thGen</td>\n",
              "      <td>8GB</td>\n",
              "      <td>Windows 11 Operating System</td>\n",
              "      <td>256 GB SSD</td>\n",
              "      <td>14 inch</td>\n",
              "      <td>₹49,999</td>\n",
              "    </tr>\n",
              "    <tr>\n",
              "      <th>119</th>\n",
              "      <td>MSI</td>\n",
              "      <td>Core</td>\n",
              "      <td>NaN</td>\n",
              "      <td>Intel</td>\n",
              "      <td>Corei3</td>\n",
              "      <td>10thGen</td>\n",
              "      <td>8GB</td>\n",
              "      <td>Windows 10 Operating System</td>\n",
              "      <td>512 GB SSD</td>\n",
              "      <td>14 inch</td>\n",
              "      <td>₹55,990</td>\n",
              "    </tr>\n",
              "    <tr>\n",
              "      <th>125</th>\n",
              "      <td>APPLE</td>\n",
              "      <td>MacBook</td>\n",
              "      <td>4.7</td>\n",
              "      <td>Apple</td>\n",
              "      <td>M1Processor</td>\n",
              "      <td>NaN</td>\n",
              "      <td>8GB</td>\n",
              "      <td>Mac OS Operating System</td>\n",
              "      <td>512 GB SSD</td>\n",
              "      <td>13.3 inch</td>\n",
              "      <td>₹1,17,900</td>\n",
              "    </tr>\n",
              "    <tr>\n",
              "      <th>136</th>\n",
              "      <td>ASUS</td>\n",
              "      <td>Vivobook</td>\n",
              "      <td>NaN</td>\n",
              "      <td>Intel</td>\n",
              "      <td>Corei3</td>\n",
              "      <td>11thGen</td>\n",
              "      <td>8GB</td>\n",
              "      <td>Windows 11 Operating System</td>\n",
              "      <td>1 TB HDD|256 GB SSD</td>\n",
              "      <td>14.1 inch</td>\n",
              "      <td>₹57,990</td>\n",
              "    </tr>\n",
              "    <tr>\n",
              "      <th>218</th>\n",
              "      <td>ASUS</td>\n",
              "      <td>VivoBook</td>\n",
              "      <td>4.4</td>\n",
              "      <td>Intel</td>\n",
              "      <td>Corei3</td>\n",
              "      <td>10thGen</td>\n",
              "      <td>4GB</td>\n",
              "      <td>Windows 10 Operating System</td>\n",
              "      <td>512 GB SSD</td>\n",
              "      <td>14 inch</td>\n",
              "      <td>₹49,990</td>\n",
              "    </tr>\n",
              "    <tr>\n",
              "      <th>220</th>\n",
              "      <td>DELL</td>\n",
              "      <td>XPS</td>\n",
              "      <td>NaN</td>\n",
              "      <td>Intel</td>\n",
              "      <td>Corei5</td>\n",
              "      <td>11thGen</td>\n",
              "      <td>16GB</td>\n",
              "      <td>Windows 10 Operating System</td>\n",
              "      <td>512 GB SSD</td>\n",
              "      <td>13.3 Inch</td>\n",
              "      <td>₹1,15,729</td>\n",
              "    </tr>\n",
              "    <tr>\n",
              "      <th>223</th>\n",
              "      <td>DELL</td>\n",
              "      <td>Vostro</td>\n",
              "      <td>4.1</td>\n",
              "      <td>Intel</td>\n",
              "      <td>Corei5</td>\n",
              "      <td>11thGen</td>\n",
              "      <td>8GB</td>\n",
              "      <td>Windows 10 Operating System</td>\n",
              "      <td>512 GB SSD</td>\n",
              "      <td>14 inch</td>\n",
              "      <td>₹87,168</td>\n",
              "    </tr>\n",
              "    <tr>\n",
              "      <th>235</th>\n",
              "      <td>ASUS</td>\n",
              "      <td>TUF</td>\n",
              "      <td>4.4</td>\n",
              "      <td>AMD</td>\n",
              "      <td>Ryzen7</td>\n",
              "      <td>NaN</td>\n",
              "      <td>8GB</td>\n",
              "      <td>Windows 10 Operating System</td>\n",
              "      <td>1 TB SSD</td>\n",
              "      <td>15.6 inch</td>\n",
              "      <td>₹1,05,990</td>\n",
              "    </tr>\n",
              "    <tr>\n",
              "      <th>236</th>\n",
              "      <td>ASUS</td>\n",
              "      <td>Ryzen</td>\n",
              "      <td>4.6</td>\n",
              "      <td>AMD</td>\n",
              "      <td>Ryzen5</td>\n",
              "      <td>NaN</td>\n",
              "      <td>8GB</td>\n",
              "      <td>Windows 10 Operating System</td>\n",
              "      <td>512 GB SSD</td>\n",
              "      <td>15.6 inch</td>\n",
              "      <td>₹62,990</td>\n",
              "    </tr>\n",
              "    <tr>\n",
              "      <th>244</th>\n",
              "      <td>Lenovo</td>\n",
              "      <td>Core</td>\n",
              "      <td>NaN</td>\n",
              "      <td>Intel</td>\n",
              "      <td>Corei5</td>\n",
              "      <td>11thGen</td>\n",
              "      <td>16GB</td>\n",
              "      <td>Windows 10 Operating System</td>\n",
              "      <td>512 GB SSD</td>\n",
              "      <td>15 inch</td>\n",
              "      <td>₹1,19,520</td>\n",
              "    </tr>\n",
              "    <tr>\n",
              "      <th>245</th>\n",
              "      <td>Lenovo</td>\n",
              "      <td>Thinkbook</td>\n",
              "      <td>4.0</td>\n",
              "      <td>Intel</td>\n",
              "      <td>Corei5</td>\n",
              "      <td>11thGen</td>\n",
              "      <td>8GB</td>\n",
              "      <td>Windows 10 Operating System</td>\n",
              "      <td>512 GB SSD</td>\n",
              "      <td>15 inch</td>\n",
              "      <td>₹1,15,167</td>\n",
              "    </tr>\n",
              "    <tr>\n",
              "      <th>246</th>\n",
              "      <td>Lenovo</td>\n",
              "      <td>X390</td>\n",
              "      <td>NaN</td>\n",
              "      <td>Intel</td>\n",
              "      <td>Corei5</td>\n",
              "      <td>10thGen</td>\n",
              "      <td>8GB</td>\n",
              "      <td>Windows 10 Operating System</td>\n",
              "      <td>512 GB SSD</td>\n",
              "      <td>13.3 inch</td>\n",
              "      <td>₹1,20,000</td>\n",
              "    </tr>\n",
              "    <tr>\n",
              "      <th>247</th>\n",
              "      <td>ASUS</td>\n",
              "      <td>Zenbook</td>\n",
              "      <td>5.0</td>\n",
              "      <td>Intel</td>\n",
              "      <td>Corei5</td>\n",
              "      <td>11thGen</td>\n",
              "      <td>16GB</td>\n",
              "      <td>Windows 10 Operating System</td>\n",
              "      <td>512 GB SSD</td>\n",
              "      <td>13.3 inch</td>\n",
              "      <td>₹1,04,990</td>\n",
              "    </tr>\n",
              "    <tr>\n",
              "      <th>248</th>\n",
              "      <td>Lenovo</td>\n",
              "      <td>Yoga</td>\n",
              "      <td>4.0</td>\n",
              "      <td>Intel</td>\n",
              "      <td>Corei5</td>\n",
              "      <td>10thGen</td>\n",
              "      <td>8GB</td>\n",
              "      <td>Windows 10 Operating System</td>\n",
              "      <td>512 GB SSD</td>\n",
              "      <td>14 inch</td>\n",
              "      <td>₹1,13,290</td>\n",
              "    </tr>\n",
              "    <tr>\n",
              "      <th>249</th>\n",
              "      <td>LG</td>\n",
              "      <td>Gram</td>\n",
              "      <td>4.5</td>\n",
              "      <td>Intel</td>\n",
              "      <td>Corei5</td>\n",
              "      <td>10thGen</td>\n",
              "      <td>8GB</td>\n",
              "      <td>Windows 10 Operating System</td>\n",
              "      <td>256 GB SSD</td>\n",
              "      <td>14 inch</td>\n",
              "      <td>₹99,000</td>\n",
              "    </tr>\n",
              "    <tr>\n",
              "      <th>253</th>\n",
              "      <td>DELL</td>\n",
              "      <td>Inspiron</td>\n",
              "      <td>4.3</td>\n",
              "      <td>Intel</td>\n",
              "      <td>Corei5</td>\n",
              "      <td>10thGen</td>\n",
              "      <td>8GB</td>\n",
              "      <td>Windows 10 Operating System</td>\n",
              "      <td>512 GB SSD</td>\n",
              "      <td>14 inch</td>\n",
              "      <td>₹99,433</td>\n",
              "    </tr>\n",
              "    <tr>\n",
              "      <th>259</th>\n",
              "      <td>Avita</td>\n",
              "      <td>PURA</td>\n",
              "      <td>3.7</td>\n",
              "      <td>AMD</td>\n",
              "      <td>APUDual</td>\n",
              "      <td>NaN</td>\n",
              "      <td>4GB</td>\n",
              "      <td>Windows 10 Operating System</td>\n",
              "      <td>128 GB SSD</td>\n",
              "      <td>14 inches</td>\n",
              "      <td>₹27,990</td>\n",
              "    </tr>\n",
              "    <tr>\n",
              "      <th>284</th>\n",
              "      <td>Lenovo</td>\n",
              "      <td>Ideapad</td>\n",
              "      <td>NaN</td>\n",
              "      <td>Intel</td>\n",
              "      <td>Corei5</td>\n",
              "      <td>11thGen</td>\n",
              "      <td>8GB</td>\n",
              "      <td>Windows 10 Operating System</td>\n",
              "      <td>512 GB SSD</td>\n",
              "      <td>14 inch</td>\n",
              "      <td>₹72,690</td>\n",
              "    </tr>\n",
              "    <tr>\n",
              "      <th>286</th>\n",
              "      <td>ASUS</td>\n",
              "      <td>TUF</td>\n",
              "      <td>NaN</td>\n",
              "      <td>Intel</td>\n",
              "      <td>Corei7</td>\n",
              "      <td>11thGen</td>\n",
              "      <td>8GB</td>\n",
              "      <td>Windows 10 Operating System</td>\n",
              "      <td>1 TB SSD</td>\n",
              "      <td>15.6 Inch</td>\n",
              "      <td>₹1,27,990</td>\n",
              "    </tr>\n",
              "    <tr>\n",
              "      <th>287</th>\n",
              "      <td>ASUS</td>\n",
              "      <td>ZenBook</td>\n",
              "      <td>4.8</td>\n",
              "      <td>Intel</td>\n",
              "      <td>Corei5</td>\n",
              "      <td>11thGen</td>\n",
              "      <td>8GB</td>\n",
              "      <td>Windows 10 Operating System</td>\n",
              "      <td>512 GB SSD</td>\n",
              "      <td>14 inch</td>\n",
              "      <td>₹1,16,990</td>\n",
              "    </tr>\n",
              "    <tr>\n",
              "      <th>300</th>\n",
              "      <td>HP</td>\n",
              "      <td>Pavilion</td>\n",
              "      <td>4.5</td>\n",
              "      <td>AMD</td>\n",
              "      <td>Ryzen5</td>\n",
              "      <td>NaN</td>\n",
              "      <td>8GB</td>\n",
              "      <td>Windows 10 Operating System</td>\n",
              "      <td>1 TB HDD|256 GB SSD</td>\n",
              "      <td>15.6 inch</td>\n",
              "      <td>₹83,085</td>\n",
              "    </tr>\n",
              "    <tr>\n",
              "      <th>310</th>\n",
              "      <td>Lenovo</td>\n",
              "      <td>Ideapad</td>\n",
              "      <td>NaN</td>\n",
              "      <td>Intel</td>\n",
              "      <td>Corei5</td>\n",
              "      <td>10thGen</td>\n",
              "      <td>8GB</td>\n",
              "      <td>Windows 11 Operating System</td>\n",
              "      <td>512 GB SSD</td>\n",
              "      <td>15.6 inch</td>\n",
              "      <td>₹89,999</td>\n",
              "    </tr>\n",
              "    <tr>\n",
              "      <th>325</th>\n",
              "      <td>ASUS</td>\n",
              "      <td>ExpertBook</td>\n",
              "      <td>NaN</td>\n",
              "      <td>Intel</td>\n",
              "      <td>Corei7</td>\n",
              "      <td>10thGen</td>\n",
              "      <td>16GB</td>\n",
              "      <td>Windows 10 Operating System</td>\n",
              "      <td>1 TB SSD</td>\n",
              "      <td>14 inch</td>\n",
              "      <td>₹2,02,990</td>\n",
              "    </tr>\n",
              "    <tr>\n",
              "      <th>326</th>\n",
              "      <td>ASUS</td>\n",
              "      <td>ExpertBook</td>\n",
              "      <td>NaN</td>\n",
              "      <td>Intel</td>\n",
              "      <td>Corei7</td>\n",
              "      <td>10thGen</td>\n",
              "      <td>16GB</td>\n",
              "      <td>Windows 10 Operating System</td>\n",
              "      <td>1 TB SSD</td>\n",
              "      <td>14 inch</td>\n",
              "      <td>₹2,02,990</td>\n",
              "    </tr>\n",
              "    <tr>\n",
              "      <th>329</th>\n",
              "      <td>ASUS</td>\n",
              "      <td>ROG</td>\n",
              "      <td>NaN</td>\n",
              "      <td>Intel</td>\n",
              "      <td>Corei7</td>\n",
              "      <td>10thGen</td>\n",
              "      <td>32GB</td>\n",
              "      <td>Windows 10 Operating System</td>\n",
              "      <td>1 TB SSD</td>\n",
              "      <td>17.3 inch</td>\n",
              "      <td>₹3,09,990</td>\n",
              "    </tr>\n",
              "    <tr>\n",
              "      <th>330</th>\n",
              "      <td>Lenovo</td>\n",
              "      <td>Ideapad</td>\n",
              "      <td>4.3</td>\n",
              "      <td>Intel</td>\n",
              "      <td>Corei5</td>\n",
              "      <td>11thGen</td>\n",
              "      <td>8GB</td>\n",
              "      <td>Windows 10 Operating System</td>\n",
              "      <td>1 TB HDD|256 GB SSD</td>\n",
              "      <td>15.6 inch</td>\n",
              "      <td>₹96,490</td>\n",
              "    </tr>\n",
              "    <tr>\n",
              "      <th>397</th>\n",
              "      <td>Vaio</td>\n",
              "      <td>E</td>\n",
              "      <td>4.1</td>\n",
              "      <td>AMD</td>\n",
              "      <td>Ryzen5</td>\n",
              "      <td>NaN</td>\n",
              "      <td>8GB</td>\n",
              "      <td>Windows 10 Operating System</td>\n",
              "      <td>512 GB SSD</td>\n",
              "      <td>15.6 inch</td>\n",
              "      <td>₹66,990</td>\n",
              "    </tr>\n",
              "    <tr>\n",
              "      <th>439</th>\n",
              "      <td>Lenovo</td>\n",
              "      <td>Core</td>\n",
              "      <td>NaN</td>\n",
              "      <td>Intel</td>\n",
              "      <td>Corei5</td>\n",
              "      <td>11thGen</td>\n",
              "      <td>16GB</td>\n",
              "      <td>Windows 10 Operating System</td>\n",
              "      <td>512 GB SSD</td>\n",
              "      <td>15.6 inch</td>\n",
              "      <td>₹1,01,390</td>\n",
              "    </tr>\n",
              "    <tr>\n",
              "      <th>518</th>\n",
              "      <td>Vaio</td>\n",
              "      <td>E</td>\n",
              "      <td>3.8</td>\n",
              "      <td>AMD</td>\n",
              "      <td>Ryzen7</td>\n",
              "      <td>NaN</td>\n",
              "      <td>8GB</td>\n",
              "      <td>Windows 10 Operating System</td>\n",
              "      <td>512 GB SSD</td>\n",
              "      <td>15.6 inch</td>\n",
              "      <td>₹76,090</td>\n",
              "    </tr>\n",
              "    <tr>\n",
              "      <th>524</th>\n",
              "      <td>Avita</td>\n",
              "      <td>Liber</td>\n",
              "      <td>3.4</td>\n",
              "      <td>Intel</td>\n",
              "      <td>Corei5</td>\n",
              "      <td>8thGen</td>\n",
              "      <td>8GB</td>\n",
              "      <td>Windows 10 Operating System</td>\n",
              "      <td>512 GB SSD</td>\n",
              "      <td>14 inch</td>\n",
              "      <td>₹76,990</td>\n",
              "    </tr>\n",
              "    <tr>\n",
              "      <th>525</th>\n",
              "      <td>Avita</td>\n",
              "      <td>Liber</td>\n",
              "      <td>3.4</td>\n",
              "      <td>Intel</td>\n",
              "      <td>Corei5</td>\n",
              "      <td>8thGen</td>\n",
              "      <td>8GB</td>\n",
              "      <td>Windows 10 Operating System</td>\n",
              "      <td>512 GB SSD</td>\n",
              "      <td>14 inch</td>\n",
              "      <td>₹76,990</td>\n",
              "    </tr>\n",
              "    <tr>\n",
              "      <th>528</th>\n",
              "      <td>Avita</td>\n",
              "      <td>Liber</td>\n",
              "      <td>NaN</td>\n",
              "      <td>Intel</td>\n",
              "      <td>Corei5</td>\n",
              "      <td>7thGen</td>\n",
              "      <td>8GB</td>\n",
              "      <td>Windows 10 Operating System</td>\n",
              "      <td>512 GB SSD</td>\n",
              "      <td>13.3 inch</td>\n",
              "      <td>₹79,990</td>\n",
              "    </tr>\n",
              "    <tr>\n",
              "      <th>529</th>\n",
              "      <td>Avita</td>\n",
              "      <td>Liber</td>\n",
              "      <td>NaN</td>\n",
              "      <td>Intel</td>\n",
              "      <td>Corei7</td>\n",
              "      <td>8thGen</td>\n",
              "      <td>8GB</td>\n",
              "      <td>Windows 10 Operating System</td>\n",
              "      <td>256 GB SSD</td>\n",
              "      <td>14 inch</td>\n",
              "      <td>₹79,990</td>\n",
              "    </tr>\n",
              "    <tr>\n",
              "      <th>530</th>\n",
              "      <td>Avita</td>\n",
              "      <td>Liber</td>\n",
              "      <td>NaN</td>\n",
              "      <td>Intel</td>\n",
              "      <td>Corei7</td>\n",
              "      <td>8thGen</td>\n",
              "      <td>8GB</td>\n",
              "      <td>Windows 10 Operating System</td>\n",
              "      <td>256 GB SSD</td>\n",
              "      <td>14 inch</td>\n",
              "      <td>₹79,990</td>\n",
              "    </tr>\n",
              "    <tr>\n",
              "      <th>531</th>\n",
              "      <td>Avita</td>\n",
              "      <td>Liber</td>\n",
              "      <td>NaN</td>\n",
              "      <td>Intel</td>\n",
              "      <td>Corei7</td>\n",
              "      <td>8thGen</td>\n",
              "      <td>8GB</td>\n",
              "      <td>Windows 10 Operating System</td>\n",
              "      <td>256 GB SSD</td>\n",
              "      <td>14 inch</td>\n",
              "      <td>₹79,990</td>\n",
              "    </tr>\n",
              "    <tr>\n",
              "      <th>539</th>\n",
              "      <td>DELL</td>\n",
              "      <td>Inspiron</td>\n",
              "      <td>NaN</td>\n",
              "      <td>Intel</td>\n",
              "      <td>Corei3</td>\n",
              "      <td>10thGen</td>\n",
              "      <td>8GB</td>\n",
              "      <td>Windows 10 Operating System</td>\n",
              "      <td>1 TB HDD</td>\n",
              "      <td>15.6 inch</td>\n",
              "      <td>₹55,534</td>\n",
              "    </tr>\n",
              "    <tr>\n",
              "      <th>544</th>\n",
              "      <td>Avita</td>\n",
              "      <td>Liber</td>\n",
              "      <td>NaN</td>\n",
              "      <td>Intel</td>\n",
              "      <td>Corei7</td>\n",
              "      <td>8thGen</td>\n",
              "      <td>8GB</td>\n",
              "      <td>Windows 10 Operating System</td>\n",
              "      <td>256 GB SSD</td>\n",
              "      <td>14 inch</td>\n",
              "      <td>₹79,990</td>\n",
              "    </tr>\n",
              "  </tbody>\n",
              "</table>\n",
              "</div>\n",
              "      <button class=\"colab-df-convert\" onclick=\"convertToInteractive('df-2ae968dc-6cd7-4731-8184-c7dbe03a1bb8')\"\n",
              "              title=\"Convert this dataframe to an interactive table.\"\n",
              "              style=\"display:none;\">\n",
              "        \n",
              "  <svg xmlns=\"http://www.w3.org/2000/svg\" height=\"24px\"viewBox=\"0 0 24 24\"\n",
              "       width=\"24px\">\n",
              "    <path d=\"M0 0h24v24H0V0z\" fill=\"none\"/>\n",
              "    <path d=\"M18.56 5.44l.94 2.06.94-2.06 2.06-.94-2.06-.94-.94-2.06-.94 2.06-2.06.94zm-11 1L8.5 8.5l.94-2.06 2.06-.94-2.06-.94L8.5 2.5l-.94 2.06-2.06.94zm10 10l.94 2.06.94-2.06 2.06-.94-2.06-.94-.94-2.06-.94 2.06-2.06.94z\"/><path d=\"M17.41 7.96l-1.37-1.37c-.4-.4-.92-.59-1.43-.59-.52 0-1.04.2-1.43.59L10.3 9.45l-7.72 7.72c-.78.78-.78 2.05 0 2.83L4 21.41c.39.39.9.59 1.41.59.51 0 1.02-.2 1.41-.59l7.78-7.78 2.81-2.81c.8-.78.8-2.07 0-2.86zM5.41 20L4 18.59l7.72-7.72 1.47 1.35L5.41 20z\"/>\n",
              "  </svg>\n",
              "      </button>\n",
              "      \n",
              "  <style>\n",
              "    .colab-df-container {\n",
              "      display:flex;\n",
              "      flex-wrap:wrap;\n",
              "      gap: 12px;\n",
              "    }\n",
              "\n",
              "    .colab-df-convert {\n",
              "      background-color: #E8F0FE;\n",
              "      border: none;\n",
              "      border-radius: 50%;\n",
              "      cursor: pointer;\n",
              "      display: none;\n",
              "      fill: #1967D2;\n",
              "      height: 32px;\n",
              "      padding: 0 0 0 0;\n",
              "      width: 32px;\n",
              "    }\n",
              "\n",
              "    .colab-df-convert:hover {\n",
              "      background-color: #E2EBFA;\n",
              "      box-shadow: 0px 1px 2px rgba(60, 64, 67, 0.3), 0px 1px 3px 1px rgba(60, 64, 67, 0.15);\n",
              "      fill: #174EA6;\n",
              "    }\n",
              "\n",
              "    [theme=dark] .colab-df-convert {\n",
              "      background-color: #3B4455;\n",
              "      fill: #D2E3FC;\n",
              "    }\n",
              "\n",
              "    [theme=dark] .colab-df-convert:hover {\n",
              "      background-color: #434B5C;\n",
              "      box-shadow: 0px 1px 3px 1px rgba(0, 0, 0, 0.15);\n",
              "      filter: drop-shadow(0px 1px 2px rgba(0, 0, 0, 0.3));\n",
              "      fill: #FFFFFF;\n",
              "    }\n",
              "  </style>\n",
              "\n",
              "      <script>\n",
              "        const buttonEl =\n",
              "          document.querySelector('#df-2ae968dc-6cd7-4731-8184-c7dbe03a1bb8 button.colab-df-convert');\n",
              "        buttonEl.style.display =\n",
              "          google.colab.kernel.accessAllowed ? 'block' : 'none';\n",
              "\n",
              "        async function convertToInteractive(key) {\n",
              "          const element = document.querySelector('#df-2ae968dc-6cd7-4731-8184-c7dbe03a1bb8');\n",
              "          const dataTable =\n",
              "            await google.colab.kernel.invokeFunction('convertToInteractive',\n",
              "                                                     [key], {});\n",
              "          if (!dataTable) return;\n",
              "\n",
              "          const docLinkHtml = 'Like what you see? Visit the ' +\n",
              "            '<a target=\"_blank\" href=https://colab.research.google.com/notebooks/data_table.ipynb>data table notebook</a>'\n",
              "            + ' to learn more about interactive tables.';\n",
              "          element.innerHTML = '';\n",
              "          dataTable['output_type'] = 'display_data';\n",
              "          await google.colab.output.renderOutput(dataTable, element);\n",
              "          const docLink = document.createElement('div');\n",
              "          docLink.innerHTML = docLinkHtml;\n",
              "          element.appendChild(docLink);\n",
              "        }\n",
              "      </script>\n",
              "    </div>\n",
              "  </div>\n",
              "  "
            ]
          },
          "metadata": {},
          "execution_count": 101
        }
      ]
    },
    {
      "cell_type": "code",
      "source": [
        "#removing duplicate values\n",
        "df.drop_duplicates(keep=False, inplace=True)"
      ],
      "metadata": {
        "id": "E7P_8LapJTL_"
      },
      "execution_count": null,
      "outputs": []
    },
    {
      "cell_type": "markdown",
      "source": [
        "filling null values with most occuring values"
      ],
      "metadata": {
        "id": "6NQA4UeSko1Z"
      }
    },
    {
      "cell_type": "code",
      "source": [
        "df['rating']=df['rating'].fillna(df['rating'].mode()[0])"
      ],
      "metadata": {
        "id": "LS5ev_fAajJ4"
      },
      "execution_count": null,
      "outputs": []
    },
    {
      "cell_type": "code",
      "source": [
        "df['generation']=df['generation'].fillna(df['generation'].mode()[0])"
      ],
      "metadata": {
        "id": "yBPPJve72DT1"
      },
      "execution_count": null,
      "outputs": []
    },
    {
      "cell_type": "code",
      "source": [
        "df.shape"
      ],
      "metadata": {
        "colab": {
          "base_uri": "https://localhost:8080/"
        },
        "id": "DfWIClvsaSnR",
        "outputId": "bfeb06d3-cc67-4059-9e0a-175c543afe81"
      },
      "execution_count": null,
      "outputs": [
        {
          "output_type": "execute_result",
          "data": {
            "text/plain": [
              "(497, 11)"
            ]
          },
          "metadata": {},
          "execution_count": 103
        }
      ]
    },
    {
      "cell_type": "code",
      "source": [
        "df.info()"
      ],
      "metadata": {
        "colab": {
          "base_uri": "https://localhost:8080/"
        },
        "id": "UNHM5M0A32Kg",
        "outputId": "a1f59386-eb33-4152-8c7a-c089b5a51e39"
      },
      "execution_count": null,
      "outputs": [
        {
          "output_type": "stream",
          "name": "stdout",
          "text": [
            "<class 'pandas.core.frame.DataFrame'>\n",
            "Int64Index: 497 entries, 0 to 571\n",
            "Data columns (total 11 columns):\n",
            " #   Column          Non-Null Count  Dtype  \n",
            "---  ------          --------------  -----  \n",
            " 0   company         497 non-null    object \n",
            " 1   model_name      497 non-null    object \n",
            " 2   rating          497 non-null    float64\n",
            " 3   processor_name  497 non-null    object \n",
            " 4   processor_type  497 non-null    object \n",
            " 5   generation      497 non-null    object \n",
            " 6   ram             497 non-null    object \n",
            " 7   os              497 non-null    object \n",
            " 8   storage         497 non-null    object \n",
            " 9   size            497 non-null    object \n",
            " 10  price           497 non-null    object \n",
            "dtypes: float64(1), object(10)\n",
            "memory usage: 46.6+ KB\n"
          ]
        }
      ]
    },
    {
      "cell_type": "code",
      "source": [
        "df['generation'].unique()"
      ],
      "metadata": {
        "colab": {
          "base_uri": "https://localhost:8080/"
        },
        "id": "VfrJqt7Z56zh",
        "outputId": "a5cef7e5-ed97-4e9e-d346-887ce58290ea"
      },
      "execution_count": null,
      "outputs": [
        {
          "output_type": "execute_result",
          "data": {
            "text/plain": [
              "array(['11thGen', '10thGen', '10th', '9thGen', '8thGen', '4thGen', '4th',\n",
              "       '7thGen'], dtype=object)"
            ]
          },
          "metadata": {},
          "execution_count": 13
        }
      ]
    },
    {
      "cell_type": "code",
      "source": [
        "df.isnull().sum()"
      ],
      "metadata": {
        "colab": {
          "base_uri": "https://localhost:8080/"
        },
        "id": "tpW5hqqDV0Fj",
        "outputId": "e5ec6774-aa63-4d96-8a16-1e45a77a06ac"
      },
      "execution_count": null,
      "outputs": [
        {
          "output_type": "execute_result",
          "data": {
            "text/plain": [
              "company           0\n",
              "model_name        0\n",
              "rating            0\n",
              "processor_name    0\n",
              "processor_type    0\n",
              "generation        0\n",
              "ram               0\n",
              "os                0\n",
              "storage           0\n",
              "size              0\n",
              "price             0\n",
              "dtype: int64"
            ]
          },
          "metadata": {},
          "execution_count": 14
        }
      ]
    },
    {
      "cell_type": "code",
      "source": [
        "#removing GB from each row and add it in the column name instead\n",
        "df['ram'] = df['ram'].str.replace('GB', '')"
      ],
      "metadata": {
        "id": "qZG7WP5sze5N"
      },
      "execution_count": null,
      "outputs": []
    },
    {
      "cell_type": "code",
      "source": [
        "#Rename the column ram(GB) to ram\n",
        "df.rename(columns={'ram': 'ram(GB)'}, inplace=True)"
      ],
      "metadata": {
        "id": "9tDYDnKu1n09"
      },
      "execution_count": null,
      "outputs": []
    },
    {
      "cell_type": "code",
      "source": [
        "#Change the data type to integer\n",
        "df['ram(GB)'] = df['ram(GB)'].astype(int)"
      ],
      "metadata": {
        "id": "ky_yfyIk2aCy"
      },
      "execution_count": null,
      "outputs": []
    },
    {
      "cell_type": "code",
      "source": [
        "#Removing thGen in generation\n",
        "df['generation'] = df['generation'].str.replace('thGen', '')"
      ],
      "metadata": {
        "id": "yQd-qZsQPPXw"
      },
      "execution_count": null,
      "outputs": []
    },
    {
      "cell_type": "code",
      "source": [
        "#Removing th in generation\n",
        "df['generation']=df['generation'].str.replace('th','')"
      ],
      "metadata": {
        "id": "D1K5vXdfTwnY"
      },
      "execution_count": null,
      "outputs": []
    },
    {
      "cell_type": "code",
      "source": [
        "df['generation'].unique()"
      ],
      "metadata": {
        "colab": {
          "base_uri": "https://localhost:8080/"
        },
        "id": "ExNkVHbKTpRP",
        "outputId": "a23d97b9-3ee7-4fb8-cbaf-80d6b238382a"
      },
      "execution_count": null,
      "outputs": [
        {
          "output_type": "execute_result",
          "data": {
            "text/plain": [
              "array(['11', '10', '9', '8', '4', '7'], dtype=object)"
            ]
          },
          "metadata": {},
          "execution_count": 112
        }
      ]
    },
    {
      "cell_type": "code",
      "source": [
        "#Change the data type into integer\n",
        "df['generation'] = df['generation'].astype(int)"
      ],
      "metadata": {
        "id": "rqcK9sXiUKk8"
      },
      "execution_count": null,
      "outputs": []
    },
    {
      "cell_type": "code",
      "source": [
        "df.info()"
      ],
      "metadata": {
        "colab": {
          "base_uri": "https://localhost:8080/"
        },
        "id": "utXHnxQbUEOs",
        "outputId": "ea9d7017-ccde-41e1-bd22-82fd6e7e52a1"
      },
      "execution_count": null,
      "outputs": [
        {
          "output_type": "stream",
          "name": "stdout",
          "text": [
            "<class 'pandas.core.frame.DataFrame'>\n",
            "Int64Index: 497 entries, 0 to 571\n",
            "Data columns (total 11 columns):\n",
            " #   Column          Non-Null Count  Dtype  \n",
            "---  ------          --------------  -----  \n",
            " 0   company         497 non-null    object \n",
            " 1   model_name      497 non-null    object \n",
            " 2   rating          497 non-null    float64\n",
            " 3   processor_name  497 non-null    object \n",
            " 4   processor_type  497 non-null    object \n",
            " 5   generation      497 non-null    int64  \n",
            " 6   ram(GB)         497 non-null    int64  \n",
            " 7   os              497 non-null    object \n",
            " 8   storage         497 non-null    object \n",
            " 9   size            497 non-null    object \n",
            " 10  price           497 non-null    object \n",
            "dtypes: float64(1), int64(2), object(8)\n",
            "memory usage: 46.6+ KB\n"
          ]
        }
      ]
    },
    {
      "cell_type": "code",
      "source": [
        "df.head()"
      ],
      "metadata": {
        "colab": {
          "base_uri": "https://localhost:8080/",
          "height": 206
        },
        "id": "hxLSItjF0Hpz",
        "outputId": "9b6d40dd-c04a-402d-ea10-417d15133f1f"
      },
      "execution_count": null,
      "outputs": [
        {
          "output_type": "execute_result",
          "data": {
            "text/plain": [
              "  company model_name  rating processor_name processor_type  generation  \\\n",
              "0  Lenovo    IdeaPad     4.4          Intel         Corei3          11   \n",
              "1    ASUS        TUF     4.4          Intel         Corei5          10   \n",
              "2     MSI       GF65     4.4          Intel         Corei7          10   \n",
              "3    DELL     Vostro     3.9          Intel         Corei3          11   \n",
              "4    ASUS       Core     4.3          Intel         Corei3          10   \n",
              "\n",
              "   ram(GB)                             os     storage       size      price  \n",
              "0        8    Windows 10 Operating System  512 GB SSD  15.6 inch    ₹63,790  \n",
              "1        8    Windows 10 Operating System  512 GB SSD  15.6 Inch    ₹89,990  \n",
              "2       16    Windows 10 Operating System    1 TB SSD  15.6 inch  ₹1,23,990  \n",
              "3        8    Windows 10 Operating System    1 TB HDD    14 inch    ₹41,715  \n",
              "4        4    Windows 10 Operating System  512 GB SSD  15.6 inch    ₹48,990  "
            ],
            "text/html": [
              "\n",
              "  <div id=\"df-10afdafe-baf1-47de-9a94-70011b8245a4\">\n",
              "    <div class=\"colab-df-container\">\n",
              "      <div>\n",
              "<style scoped>\n",
              "    .dataframe tbody tr th:only-of-type {\n",
              "        vertical-align: middle;\n",
              "    }\n",
              "\n",
              "    .dataframe tbody tr th {\n",
              "        vertical-align: top;\n",
              "    }\n",
              "\n",
              "    .dataframe thead th {\n",
              "        text-align: right;\n",
              "    }\n",
              "</style>\n",
              "<table border=\"1\" class=\"dataframe\">\n",
              "  <thead>\n",
              "    <tr style=\"text-align: right;\">\n",
              "      <th></th>\n",
              "      <th>company</th>\n",
              "      <th>model_name</th>\n",
              "      <th>rating</th>\n",
              "      <th>processor_name</th>\n",
              "      <th>processor_type</th>\n",
              "      <th>generation</th>\n",
              "      <th>ram(GB)</th>\n",
              "      <th>os</th>\n",
              "      <th>storage</th>\n",
              "      <th>size</th>\n",
              "      <th>price</th>\n",
              "    </tr>\n",
              "  </thead>\n",
              "  <tbody>\n",
              "    <tr>\n",
              "      <th>0</th>\n",
              "      <td>Lenovo</td>\n",
              "      <td>IdeaPad</td>\n",
              "      <td>4.4</td>\n",
              "      <td>Intel</td>\n",
              "      <td>Corei3</td>\n",
              "      <td>11</td>\n",
              "      <td>8</td>\n",
              "      <td>Windows 10 Operating System</td>\n",
              "      <td>512 GB SSD</td>\n",
              "      <td>15.6 inch</td>\n",
              "      <td>₹63,790</td>\n",
              "    </tr>\n",
              "    <tr>\n",
              "      <th>1</th>\n",
              "      <td>ASUS</td>\n",
              "      <td>TUF</td>\n",
              "      <td>4.4</td>\n",
              "      <td>Intel</td>\n",
              "      <td>Corei5</td>\n",
              "      <td>10</td>\n",
              "      <td>8</td>\n",
              "      <td>Windows 10 Operating System</td>\n",
              "      <td>512 GB SSD</td>\n",
              "      <td>15.6 Inch</td>\n",
              "      <td>₹89,990</td>\n",
              "    </tr>\n",
              "    <tr>\n",
              "      <th>2</th>\n",
              "      <td>MSI</td>\n",
              "      <td>GF65</td>\n",
              "      <td>4.4</td>\n",
              "      <td>Intel</td>\n",
              "      <td>Corei7</td>\n",
              "      <td>10</td>\n",
              "      <td>16</td>\n",
              "      <td>Windows 10 Operating System</td>\n",
              "      <td>1 TB SSD</td>\n",
              "      <td>15.6 inch</td>\n",
              "      <td>₹1,23,990</td>\n",
              "    </tr>\n",
              "    <tr>\n",
              "      <th>3</th>\n",
              "      <td>DELL</td>\n",
              "      <td>Vostro</td>\n",
              "      <td>3.9</td>\n",
              "      <td>Intel</td>\n",
              "      <td>Corei3</td>\n",
              "      <td>11</td>\n",
              "      <td>8</td>\n",
              "      <td>Windows 10 Operating System</td>\n",
              "      <td>1 TB HDD</td>\n",
              "      <td>14 inch</td>\n",
              "      <td>₹41,715</td>\n",
              "    </tr>\n",
              "    <tr>\n",
              "      <th>4</th>\n",
              "      <td>ASUS</td>\n",
              "      <td>Core</td>\n",
              "      <td>4.3</td>\n",
              "      <td>Intel</td>\n",
              "      <td>Corei3</td>\n",
              "      <td>10</td>\n",
              "      <td>4</td>\n",
              "      <td>Windows 10 Operating System</td>\n",
              "      <td>512 GB SSD</td>\n",
              "      <td>15.6 inch</td>\n",
              "      <td>₹48,990</td>\n",
              "    </tr>\n",
              "  </tbody>\n",
              "</table>\n",
              "</div>\n",
              "      <button class=\"colab-df-convert\" onclick=\"convertToInteractive('df-10afdafe-baf1-47de-9a94-70011b8245a4')\"\n",
              "              title=\"Convert this dataframe to an interactive table.\"\n",
              "              style=\"display:none;\">\n",
              "        \n",
              "  <svg xmlns=\"http://www.w3.org/2000/svg\" height=\"24px\"viewBox=\"0 0 24 24\"\n",
              "       width=\"24px\">\n",
              "    <path d=\"M0 0h24v24H0V0z\" fill=\"none\"/>\n",
              "    <path d=\"M18.56 5.44l.94 2.06.94-2.06 2.06-.94-2.06-.94-.94-2.06-.94 2.06-2.06.94zm-11 1L8.5 8.5l.94-2.06 2.06-.94-2.06-.94L8.5 2.5l-.94 2.06-2.06.94zm10 10l.94 2.06.94-2.06 2.06-.94-2.06-.94-.94-2.06-.94 2.06-2.06.94z\"/><path d=\"M17.41 7.96l-1.37-1.37c-.4-.4-.92-.59-1.43-.59-.52 0-1.04.2-1.43.59L10.3 9.45l-7.72 7.72c-.78.78-.78 2.05 0 2.83L4 21.41c.39.39.9.59 1.41.59.51 0 1.02-.2 1.41-.59l7.78-7.78 2.81-2.81c.8-.78.8-2.07 0-2.86zM5.41 20L4 18.59l7.72-7.72 1.47 1.35L5.41 20z\"/>\n",
              "  </svg>\n",
              "      </button>\n",
              "      \n",
              "  <style>\n",
              "    .colab-df-container {\n",
              "      display:flex;\n",
              "      flex-wrap:wrap;\n",
              "      gap: 12px;\n",
              "    }\n",
              "\n",
              "    .colab-df-convert {\n",
              "      background-color: #E8F0FE;\n",
              "      border: none;\n",
              "      border-radius: 50%;\n",
              "      cursor: pointer;\n",
              "      display: none;\n",
              "      fill: #1967D2;\n",
              "      height: 32px;\n",
              "      padding: 0 0 0 0;\n",
              "      width: 32px;\n",
              "    }\n",
              "\n",
              "    .colab-df-convert:hover {\n",
              "      background-color: #E2EBFA;\n",
              "      box-shadow: 0px 1px 2px rgba(60, 64, 67, 0.3), 0px 1px 3px 1px rgba(60, 64, 67, 0.15);\n",
              "      fill: #174EA6;\n",
              "    }\n",
              "\n",
              "    [theme=dark] .colab-df-convert {\n",
              "      background-color: #3B4455;\n",
              "      fill: #D2E3FC;\n",
              "    }\n",
              "\n",
              "    [theme=dark] .colab-df-convert:hover {\n",
              "      background-color: #434B5C;\n",
              "      box-shadow: 0px 1px 3px 1px rgba(0, 0, 0, 0.15);\n",
              "      filter: drop-shadow(0px 1px 2px rgba(0, 0, 0, 0.3));\n",
              "      fill: #FFFFFF;\n",
              "    }\n",
              "  </style>\n",
              "\n",
              "      <script>\n",
              "        const buttonEl =\n",
              "          document.querySelector('#df-10afdafe-baf1-47de-9a94-70011b8245a4 button.colab-df-convert');\n",
              "        buttonEl.style.display =\n",
              "          google.colab.kernel.accessAllowed ? 'block' : 'none';\n",
              "\n",
              "        async function convertToInteractive(key) {\n",
              "          const element = document.querySelector('#df-10afdafe-baf1-47de-9a94-70011b8245a4');\n",
              "          const dataTable =\n",
              "            await google.colab.kernel.invokeFunction('convertToInteractive',\n",
              "                                                     [key], {});\n",
              "          if (!dataTable) return;\n",
              "\n",
              "          const docLinkHtml = 'Like what you see? Visit the ' +\n",
              "            '<a target=\"_blank\" href=https://colab.research.google.com/notebooks/data_table.ipynb>data table notebook</a>'\n",
              "            + ' to learn more about interactive tables.';\n",
              "          element.innerHTML = '';\n",
              "          dataTable['output_type'] = 'display_data';\n",
              "          await google.colab.output.renderOutput(dataTable, element);\n",
              "          const docLink = document.createElement('div');\n",
              "          docLink.innerHTML = docLinkHtml;\n",
              "          element.appendChild(docLink);\n",
              "        }\n",
              "      </script>\n",
              "    </div>\n",
              "  </div>\n",
              "  "
            ]
          },
          "metadata": {},
          "execution_count": 23
        }
      ]
    },
    {
      "cell_type": "code",
      "source": [
        "df['size'].unique()"
      ],
      "metadata": {
        "colab": {
          "base_uri": "https://localhost:8080/"
        },
        "id": "jgKs15Uv0rq5",
        "outputId": "4958832d-3e8e-4dea-a99c-30f8b6f277eb"
      },
      "execution_count": null,
      "outputs": [
        {
          "output_type": "execute_result",
          "data": {
            "text/plain": [
              "array(['15.6 inch', '15.6 Inch', '14 inch', '14 Inch', '14 inches',\n",
              "       '13.3 inch', '17.3 inch', '15 inch', '16 Inch', '13.3 inches',\n",
              "       '14.1 inch', '15.6 inches', '13 inch', '13.4 inch', '13.3 Inch',\n",
              "       '16 inch', '14.2 inch', '13.5 inch', '12 inch', '13.4 Inch',\n",
              "       '11.6 inch', '17.3 Inch', '14.5 inch', '16.1 inch', '16 inches',\n",
              "       '14 Inches', '12.2 inch'], dtype=object)"
            ]
          },
          "metadata": {},
          "execution_count": 24
        }
      ]
    },
    {
      "cell_type": "code",
      "source": [
        "#We will remove inch from each row and add it in the column name instead\n",
        "df['size']=df['size'].str.replace('inch','')"
      ],
      "metadata": {
        "id": "vcq52M9vzevv"
      },
      "execution_count": null,
      "outputs": []
    },
    {
      "cell_type": "code",
      "source": [
        "df['size']=df['size'].str.replace('Inch','')\n",
        "df['size']=df['size'].str.replace('Inches','')\n",
        "df['size']=df['size'].str.replace('es','')"
      ],
      "metadata": {
        "id": "CXvaDPeq0mLm"
      },
      "execution_count": null,
      "outputs": []
    },
    {
      "cell_type": "code",
      "source": [
        "df.rename(columns={'size': 'size(inch)'}, inplace=True)"
      ],
      "metadata": {
        "id": "SYW20X7H1YqD"
      },
      "execution_count": null,
      "outputs": []
    },
    {
      "cell_type": "code",
      "source": [
        "df['size(inch)'] = df['size(inch)'].astype(float)"
      ],
      "metadata": {
        "id": "WGCZt1hf2m4j"
      },
      "execution_count": null,
      "outputs": []
    },
    {
      "cell_type": "code",
      "source": [
        "df.head()"
      ],
      "metadata": {
        "colab": {
          "base_uri": "https://localhost:8080/",
          "height": 206
        },
        "id": "uDv7nA6H0WVy",
        "outputId": "fd78070e-a401-4df3-f51f-e5930ba15056"
      },
      "execution_count": null,
      "outputs": [
        {
          "output_type": "execute_result",
          "data": {
            "text/plain": [
              "  company model_name  rating processor_name processor_type  generation  \\\n",
              "0  Lenovo    IdeaPad     4.4          Intel         Corei3          11   \n",
              "1    ASUS        TUF     4.4          Intel         Corei5          10   \n",
              "2     MSI       GF65     4.4          Intel         Corei7          10   \n",
              "3    DELL     Vostro     3.9          Intel         Corei3          11   \n",
              "4    ASUS       Core     4.3          Intel         Corei3          10   \n",
              "\n",
              "   ram(GB)                             os     storage  size(inch)      price  \n",
              "0        8    Windows 10 Operating System  512 GB SSD        15.6    ₹63,790  \n",
              "1        8    Windows 10 Operating System  512 GB SSD        15.6    ₹89,990  \n",
              "2       16    Windows 10 Operating System    1 TB SSD        15.6  ₹1,23,990  \n",
              "3        8    Windows 10 Operating System    1 TB HDD        14.0    ₹41,715  \n",
              "4        4    Windows 10 Operating System  512 GB SSD        15.6    ₹48,990  "
            ],
            "text/html": [
              "\n",
              "  <div id=\"df-ab3fdb48-265a-467c-935c-f5351f12ba00\">\n",
              "    <div class=\"colab-df-container\">\n",
              "      <div>\n",
              "<style scoped>\n",
              "    .dataframe tbody tr th:only-of-type {\n",
              "        vertical-align: middle;\n",
              "    }\n",
              "\n",
              "    .dataframe tbody tr th {\n",
              "        vertical-align: top;\n",
              "    }\n",
              "\n",
              "    .dataframe thead th {\n",
              "        text-align: right;\n",
              "    }\n",
              "</style>\n",
              "<table border=\"1\" class=\"dataframe\">\n",
              "  <thead>\n",
              "    <tr style=\"text-align: right;\">\n",
              "      <th></th>\n",
              "      <th>company</th>\n",
              "      <th>model_name</th>\n",
              "      <th>rating</th>\n",
              "      <th>processor_name</th>\n",
              "      <th>processor_type</th>\n",
              "      <th>generation</th>\n",
              "      <th>ram(GB)</th>\n",
              "      <th>os</th>\n",
              "      <th>storage</th>\n",
              "      <th>size(inch)</th>\n",
              "      <th>price</th>\n",
              "    </tr>\n",
              "  </thead>\n",
              "  <tbody>\n",
              "    <tr>\n",
              "      <th>0</th>\n",
              "      <td>Lenovo</td>\n",
              "      <td>IdeaPad</td>\n",
              "      <td>4.4</td>\n",
              "      <td>Intel</td>\n",
              "      <td>Corei3</td>\n",
              "      <td>11</td>\n",
              "      <td>8</td>\n",
              "      <td>Windows 10 Operating System</td>\n",
              "      <td>512 GB SSD</td>\n",
              "      <td>15.6</td>\n",
              "      <td>₹63,790</td>\n",
              "    </tr>\n",
              "    <tr>\n",
              "      <th>1</th>\n",
              "      <td>ASUS</td>\n",
              "      <td>TUF</td>\n",
              "      <td>4.4</td>\n",
              "      <td>Intel</td>\n",
              "      <td>Corei5</td>\n",
              "      <td>10</td>\n",
              "      <td>8</td>\n",
              "      <td>Windows 10 Operating System</td>\n",
              "      <td>512 GB SSD</td>\n",
              "      <td>15.6</td>\n",
              "      <td>₹89,990</td>\n",
              "    </tr>\n",
              "    <tr>\n",
              "      <th>2</th>\n",
              "      <td>MSI</td>\n",
              "      <td>GF65</td>\n",
              "      <td>4.4</td>\n",
              "      <td>Intel</td>\n",
              "      <td>Corei7</td>\n",
              "      <td>10</td>\n",
              "      <td>16</td>\n",
              "      <td>Windows 10 Operating System</td>\n",
              "      <td>1 TB SSD</td>\n",
              "      <td>15.6</td>\n",
              "      <td>₹1,23,990</td>\n",
              "    </tr>\n",
              "    <tr>\n",
              "      <th>3</th>\n",
              "      <td>DELL</td>\n",
              "      <td>Vostro</td>\n",
              "      <td>3.9</td>\n",
              "      <td>Intel</td>\n",
              "      <td>Corei3</td>\n",
              "      <td>11</td>\n",
              "      <td>8</td>\n",
              "      <td>Windows 10 Operating System</td>\n",
              "      <td>1 TB HDD</td>\n",
              "      <td>14.0</td>\n",
              "      <td>₹41,715</td>\n",
              "    </tr>\n",
              "    <tr>\n",
              "      <th>4</th>\n",
              "      <td>ASUS</td>\n",
              "      <td>Core</td>\n",
              "      <td>4.3</td>\n",
              "      <td>Intel</td>\n",
              "      <td>Corei3</td>\n",
              "      <td>10</td>\n",
              "      <td>4</td>\n",
              "      <td>Windows 10 Operating System</td>\n",
              "      <td>512 GB SSD</td>\n",
              "      <td>15.6</td>\n",
              "      <td>₹48,990</td>\n",
              "    </tr>\n",
              "  </tbody>\n",
              "</table>\n",
              "</div>\n",
              "      <button class=\"colab-df-convert\" onclick=\"convertToInteractive('df-ab3fdb48-265a-467c-935c-f5351f12ba00')\"\n",
              "              title=\"Convert this dataframe to an interactive table.\"\n",
              "              style=\"display:none;\">\n",
              "        \n",
              "  <svg xmlns=\"http://www.w3.org/2000/svg\" height=\"24px\"viewBox=\"0 0 24 24\"\n",
              "       width=\"24px\">\n",
              "    <path d=\"M0 0h24v24H0V0z\" fill=\"none\"/>\n",
              "    <path d=\"M18.56 5.44l.94 2.06.94-2.06 2.06-.94-2.06-.94-.94-2.06-.94 2.06-2.06.94zm-11 1L8.5 8.5l.94-2.06 2.06-.94-2.06-.94L8.5 2.5l-.94 2.06-2.06.94zm10 10l.94 2.06.94-2.06 2.06-.94-2.06-.94-.94-2.06-.94 2.06-2.06.94z\"/><path d=\"M17.41 7.96l-1.37-1.37c-.4-.4-.92-.59-1.43-.59-.52 0-1.04.2-1.43.59L10.3 9.45l-7.72 7.72c-.78.78-.78 2.05 0 2.83L4 21.41c.39.39.9.59 1.41.59.51 0 1.02-.2 1.41-.59l7.78-7.78 2.81-2.81c.8-.78.8-2.07 0-2.86zM5.41 20L4 18.59l7.72-7.72 1.47 1.35L5.41 20z\"/>\n",
              "  </svg>\n",
              "      </button>\n",
              "      \n",
              "  <style>\n",
              "    .colab-df-container {\n",
              "      display:flex;\n",
              "      flex-wrap:wrap;\n",
              "      gap: 12px;\n",
              "    }\n",
              "\n",
              "    .colab-df-convert {\n",
              "      background-color: #E8F0FE;\n",
              "      border: none;\n",
              "      border-radius: 50%;\n",
              "      cursor: pointer;\n",
              "      display: none;\n",
              "      fill: #1967D2;\n",
              "      height: 32px;\n",
              "      padding: 0 0 0 0;\n",
              "      width: 32px;\n",
              "    }\n",
              "\n",
              "    .colab-df-convert:hover {\n",
              "      background-color: #E2EBFA;\n",
              "      box-shadow: 0px 1px 2px rgba(60, 64, 67, 0.3), 0px 1px 3px 1px rgba(60, 64, 67, 0.15);\n",
              "      fill: #174EA6;\n",
              "    }\n",
              "\n",
              "    [theme=dark] .colab-df-convert {\n",
              "      background-color: #3B4455;\n",
              "      fill: #D2E3FC;\n",
              "    }\n",
              "\n",
              "    [theme=dark] .colab-df-convert:hover {\n",
              "      background-color: #434B5C;\n",
              "      box-shadow: 0px 1px 3px 1px rgba(0, 0, 0, 0.15);\n",
              "      filter: drop-shadow(0px 1px 2px rgba(0, 0, 0, 0.3));\n",
              "      fill: #FFFFFF;\n",
              "    }\n",
              "  </style>\n",
              "\n",
              "      <script>\n",
              "        const buttonEl =\n",
              "          document.querySelector('#df-ab3fdb48-265a-467c-935c-f5351f12ba00 button.colab-df-convert');\n",
              "        buttonEl.style.display =\n",
              "          google.colab.kernel.accessAllowed ? 'block' : 'none';\n",
              "\n",
              "        async function convertToInteractive(key) {\n",
              "          const element = document.querySelector('#df-ab3fdb48-265a-467c-935c-f5351f12ba00');\n",
              "          const dataTable =\n",
              "            await google.colab.kernel.invokeFunction('convertToInteractive',\n",
              "                                                     [key], {});\n",
              "          if (!dataTable) return;\n",
              "\n",
              "          const docLinkHtml = 'Like what you see? Visit the ' +\n",
              "            '<a target=\"_blank\" href=https://colab.research.google.com/notebooks/data_table.ipynb>data table notebook</a>'\n",
              "            + ' to learn more about interactive tables.';\n",
              "          element.innerHTML = '';\n",
              "          dataTable['output_type'] = 'display_data';\n",
              "          await google.colab.output.renderOutput(dataTable, element);\n",
              "          const docLink = document.createElement('div');\n",
              "          docLink.innerHTML = docLinkHtml;\n",
              "          element.appendChild(docLink);\n",
              "        }\n",
              "      </script>\n",
              "    </div>\n",
              "  </div>\n",
              "  "
            ]
          },
          "metadata": {},
          "execution_count": 29
        }
      ]
    },
    {
      "cell_type": "code",
      "source": [
        "df['size(inch)'].unique()"
      ],
      "metadata": {
        "colab": {
          "base_uri": "https://localhost:8080/"
        },
        "id": "O9ZJ_7LL0WNv",
        "outputId": "3d155eb4-41a1-4a5c-83d3-0e0d1bf0ccc3"
      },
      "execution_count": null,
      "outputs": [
        {
          "output_type": "execute_result",
          "data": {
            "text/plain": [
              "array([15.6, 14. , 13.3, 17.3, 15. , 16. , 14.1, 13. , 13.4, 14.2, 13.5,\n",
              "       12. , 11.6, 14.5, 16.1, 12.2])"
            ]
          },
          "metadata": {},
          "execution_count": 30
        }
      ]
    },
    {
      "cell_type": "code",
      "source": [
        "df.corr()"
      ],
      "metadata": {
        "colab": {
          "base_uri": "https://localhost:8080/",
          "height": 175
        },
        "id": "YtargwMNIcU5",
        "outputId": "b5f552f5-e9fc-4f43-f0ba-1bc31a97eec3"
      },
      "execution_count": null,
      "outputs": [
        {
          "output_type": "execute_result",
          "data": {
            "text/plain": [
              "              rating  generation   ram(GB)  size(inch)\n",
              "rating      1.000000    0.181012  0.215530   -0.033881\n",
              "generation  0.181012    1.000000  0.198294    0.166068\n",
              "ram(GB)     0.215530    0.198294  1.000000   -0.005337\n",
              "size(inch) -0.033881    0.166068 -0.005337    1.000000"
            ],
            "text/html": [
              "\n",
              "  <div id=\"df-b4210c1a-27ab-4457-b397-f9642a3308ec\">\n",
              "    <div class=\"colab-df-container\">\n",
              "      <div>\n",
              "<style scoped>\n",
              "    .dataframe tbody tr th:only-of-type {\n",
              "        vertical-align: middle;\n",
              "    }\n",
              "\n",
              "    .dataframe tbody tr th {\n",
              "        vertical-align: top;\n",
              "    }\n",
              "\n",
              "    .dataframe thead th {\n",
              "        text-align: right;\n",
              "    }\n",
              "</style>\n",
              "<table border=\"1\" class=\"dataframe\">\n",
              "  <thead>\n",
              "    <tr style=\"text-align: right;\">\n",
              "      <th></th>\n",
              "      <th>rating</th>\n",
              "      <th>generation</th>\n",
              "      <th>ram(GB)</th>\n",
              "      <th>size(inch)</th>\n",
              "    </tr>\n",
              "  </thead>\n",
              "  <tbody>\n",
              "    <tr>\n",
              "      <th>rating</th>\n",
              "      <td>1.000000</td>\n",
              "      <td>0.181012</td>\n",
              "      <td>0.215530</td>\n",
              "      <td>-0.033881</td>\n",
              "    </tr>\n",
              "    <tr>\n",
              "      <th>generation</th>\n",
              "      <td>0.181012</td>\n",
              "      <td>1.000000</td>\n",
              "      <td>0.198294</td>\n",
              "      <td>0.166068</td>\n",
              "    </tr>\n",
              "    <tr>\n",
              "      <th>ram(GB)</th>\n",
              "      <td>0.215530</td>\n",
              "      <td>0.198294</td>\n",
              "      <td>1.000000</td>\n",
              "      <td>-0.005337</td>\n",
              "    </tr>\n",
              "    <tr>\n",
              "      <th>size(inch)</th>\n",
              "      <td>-0.033881</td>\n",
              "      <td>0.166068</td>\n",
              "      <td>-0.005337</td>\n",
              "      <td>1.000000</td>\n",
              "    </tr>\n",
              "  </tbody>\n",
              "</table>\n",
              "</div>\n",
              "      <button class=\"colab-df-convert\" onclick=\"convertToInteractive('df-b4210c1a-27ab-4457-b397-f9642a3308ec')\"\n",
              "              title=\"Convert this dataframe to an interactive table.\"\n",
              "              style=\"display:none;\">\n",
              "        \n",
              "  <svg xmlns=\"http://www.w3.org/2000/svg\" height=\"24px\"viewBox=\"0 0 24 24\"\n",
              "       width=\"24px\">\n",
              "    <path d=\"M0 0h24v24H0V0z\" fill=\"none\"/>\n",
              "    <path d=\"M18.56 5.44l.94 2.06.94-2.06 2.06-.94-2.06-.94-.94-2.06-.94 2.06-2.06.94zm-11 1L8.5 8.5l.94-2.06 2.06-.94-2.06-.94L8.5 2.5l-.94 2.06-2.06.94zm10 10l.94 2.06.94-2.06 2.06-.94-2.06-.94-.94-2.06-.94 2.06-2.06.94z\"/><path d=\"M17.41 7.96l-1.37-1.37c-.4-.4-.92-.59-1.43-.59-.52 0-1.04.2-1.43.59L10.3 9.45l-7.72 7.72c-.78.78-.78 2.05 0 2.83L4 21.41c.39.39.9.59 1.41.59.51 0 1.02-.2 1.41-.59l7.78-7.78 2.81-2.81c.8-.78.8-2.07 0-2.86zM5.41 20L4 18.59l7.72-7.72 1.47 1.35L5.41 20z\"/>\n",
              "  </svg>\n",
              "      </button>\n",
              "      \n",
              "  <style>\n",
              "    .colab-df-container {\n",
              "      display:flex;\n",
              "      flex-wrap:wrap;\n",
              "      gap: 12px;\n",
              "    }\n",
              "\n",
              "    .colab-df-convert {\n",
              "      background-color: #E8F0FE;\n",
              "      border: none;\n",
              "      border-radius: 50%;\n",
              "      cursor: pointer;\n",
              "      display: none;\n",
              "      fill: #1967D2;\n",
              "      height: 32px;\n",
              "      padding: 0 0 0 0;\n",
              "      width: 32px;\n",
              "    }\n",
              "\n",
              "    .colab-df-convert:hover {\n",
              "      background-color: #E2EBFA;\n",
              "      box-shadow: 0px 1px 2px rgba(60, 64, 67, 0.3), 0px 1px 3px 1px rgba(60, 64, 67, 0.15);\n",
              "      fill: #174EA6;\n",
              "    }\n",
              "\n",
              "    [theme=dark] .colab-df-convert {\n",
              "      background-color: #3B4455;\n",
              "      fill: #D2E3FC;\n",
              "    }\n",
              "\n",
              "    [theme=dark] .colab-df-convert:hover {\n",
              "      background-color: #434B5C;\n",
              "      box-shadow: 0px 1px 3px 1px rgba(0, 0, 0, 0.15);\n",
              "      filter: drop-shadow(0px 1px 2px rgba(0, 0, 0, 0.3));\n",
              "      fill: #FFFFFF;\n",
              "    }\n",
              "  </style>\n",
              "\n",
              "      <script>\n",
              "        const buttonEl =\n",
              "          document.querySelector('#df-b4210c1a-27ab-4457-b397-f9642a3308ec button.colab-df-convert');\n",
              "        buttonEl.style.display =\n",
              "          google.colab.kernel.accessAllowed ? 'block' : 'none';\n",
              "\n",
              "        async function convertToInteractive(key) {\n",
              "          const element = document.querySelector('#df-b4210c1a-27ab-4457-b397-f9642a3308ec');\n",
              "          const dataTable =\n",
              "            await google.colab.kernel.invokeFunction('convertToInteractive',\n",
              "                                                     [key], {});\n",
              "          if (!dataTable) return;\n",
              "\n",
              "          const docLinkHtml = 'Like what you see? Visit the ' +\n",
              "            '<a target=\"_blank\" href=https://colab.research.google.com/notebooks/data_table.ipynb>data table notebook</a>'\n",
              "            + ' to learn more about interactive tables.';\n",
              "          element.innerHTML = '';\n",
              "          dataTable['output_type'] = 'display_data';\n",
              "          await google.colab.output.renderOutput(dataTable, element);\n",
              "          const docLink = document.createElement('div');\n",
              "          docLink.innerHTML = docLinkHtml;\n",
              "          element.appendChild(docLink);\n",
              "        }\n",
              "      </script>\n",
              "    </div>\n",
              "  </div>\n",
              "  "
            ]
          },
          "metadata": {},
          "execution_count": 33
        }
      ]
    },
    {
      "cell_type": "code",
      "source": [
        "df['OS'] = df['os'].copy() # Creating a copy of Operating System\n",
        "df['OS'].unique()"
      ],
      "metadata": {
        "colab": {
          "base_uri": "https://localhost:8080/"
        },
        "id": "-IPcXdSk7JFt",
        "outputId": "13fbf11b-840a-463d-ef18-0182ebb749cb"
      },
      "execution_count": null,
      "outputs": [
        {
          "output_type": "execute_result",
          "data": {
            "text/plain": [
              "array(['  Windows 10 Operating System', '  Windows 11 Operating System',\n",
              "       'Windows 10 Operating System', 'Mac OS Operating System',\n",
              "       '  DOS Operating System', 'Windows 11 Operating System',\n",
              "       '  Windows 8 Operating System', 'DOS Operating System'],\n",
              "      dtype=object)"
            ]
          },
          "metadata": {},
          "execution_count": 34
        }
      ]
    },
    {
      "cell_type": "code",
      "source": [
        "OS = []\n",
        "for i in df['OS']:\n",
        "  if('Windows' in i): # Windows Operating System\n",
        "    OS.append('Windows')\n",
        "  elif('Mac' in i):   # Mac Operating System\n",
        "    OS.append('Mac')\n",
        "  elif('DOS' in i):   # DOS Operating System\n",
        "    OS.append('DOS')\n",
        "df['OS'] = OS\n",
        "print(len(df['OS']))\n",
        "df['OS']"
      ],
      "metadata": {
        "colab": {
          "base_uri": "https://localhost:8080/"
        },
        "id": "QmlePa3b7PT5",
        "outputId": "7550e9c9-19e2-456e-b928-be52943307dc"
      },
      "execution_count": null,
      "outputs": [
        {
          "output_type": "stream",
          "name": "stdout",
          "text": [
            "572\n"
          ]
        },
        {
          "output_type": "execute_result",
          "data": {
            "text/plain": [
              "0      Windows\n",
              "1      Windows\n",
              "2      Windows\n",
              "3      Windows\n",
              "4      Windows\n",
              "        ...   \n",
              "567        DOS\n",
              "568    Windows\n",
              "569    Windows\n",
              "570        DOS\n",
              "571    Windows\n",
              "Name: OS, Length: 572, dtype: object"
            ]
          },
          "metadata": {},
          "execution_count": 35
        }
      ]
    },
    {
      "cell_type": "code",
      "source": [
        "df.drop('os',axis = 1, inplace = True)"
      ],
      "metadata": {
        "id": "I_Cn-ca_7Uh6"
      },
      "execution_count": null,
      "outputs": []
    },
    {
      "cell_type": "code",
      "source": [
        "df.head()"
      ],
      "metadata": {
        "colab": {
          "base_uri": "https://localhost:8080/",
          "height": 206
        },
        "id": "HjM51PR17V5t",
        "outputId": "5abacdd9-d8a0-49a8-81bf-fa0e8b174e5e"
      },
      "execution_count": null,
      "outputs": [
        {
          "output_type": "execute_result",
          "data": {
            "text/plain": [
              "  company model_name  rating processor_name processor_type  generation  \\\n",
              "0  Lenovo    IdeaPad     4.4          Intel         Corei3          11   \n",
              "1    ASUS        TUF     4.4          Intel         Corei5          10   \n",
              "2     MSI       GF65     4.4          Intel         Corei7          10   \n",
              "3    DELL     Vostro     3.9          Intel         Corei3          11   \n",
              "4    ASUS       Core     4.3          Intel         Corei3          10   \n",
              "\n",
              "   ram(GB)     storage  size(inch)      price       OS  \n",
              "0        8  512 GB SSD        15.6    ₹63,790  Windows  \n",
              "1        8  512 GB SSD        15.6    ₹89,990  Windows  \n",
              "2       16    1 TB SSD        15.6  ₹1,23,990  Windows  \n",
              "3        8    1 TB HDD        14.0    ₹41,715  Windows  \n",
              "4        4  512 GB SSD        15.6    ₹48,990  Windows  "
            ],
            "text/html": [
              "\n",
              "  <div id=\"df-3330e221-ece0-44aa-b3a1-1ff74b1ab352\">\n",
              "    <div class=\"colab-df-container\">\n",
              "      <div>\n",
              "<style scoped>\n",
              "    .dataframe tbody tr th:only-of-type {\n",
              "        vertical-align: middle;\n",
              "    }\n",
              "\n",
              "    .dataframe tbody tr th {\n",
              "        vertical-align: top;\n",
              "    }\n",
              "\n",
              "    .dataframe thead th {\n",
              "        text-align: right;\n",
              "    }\n",
              "</style>\n",
              "<table border=\"1\" class=\"dataframe\">\n",
              "  <thead>\n",
              "    <tr style=\"text-align: right;\">\n",
              "      <th></th>\n",
              "      <th>company</th>\n",
              "      <th>model_name</th>\n",
              "      <th>rating</th>\n",
              "      <th>processor_name</th>\n",
              "      <th>processor_type</th>\n",
              "      <th>generation</th>\n",
              "      <th>ram(GB)</th>\n",
              "      <th>storage</th>\n",
              "      <th>size(inch)</th>\n",
              "      <th>price</th>\n",
              "      <th>OS</th>\n",
              "    </tr>\n",
              "  </thead>\n",
              "  <tbody>\n",
              "    <tr>\n",
              "      <th>0</th>\n",
              "      <td>Lenovo</td>\n",
              "      <td>IdeaPad</td>\n",
              "      <td>4.4</td>\n",
              "      <td>Intel</td>\n",
              "      <td>Corei3</td>\n",
              "      <td>11</td>\n",
              "      <td>8</td>\n",
              "      <td>512 GB SSD</td>\n",
              "      <td>15.6</td>\n",
              "      <td>₹63,790</td>\n",
              "      <td>Windows</td>\n",
              "    </tr>\n",
              "    <tr>\n",
              "      <th>1</th>\n",
              "      <td>ASUS</td>\n",
              "      <td>TUF</td>\n",
              "      <td>4.4</td>\n",
              "      <td>Intel</td>\n",
              "      <td>Corei5</td>\n",
              "      <td>10</td>\n",
              "      <td>8</td>\n",
              "      <td>512 GB SSD</td>\n",
              "      <td>15.6</td>\n",
              "      <td>₹89,990</td>\n",
              "      <td>Windows</td>\n",
              "    </tr>\n",
              "    <tr>\n",
              "      <th>2</th>\n",
              "      <td>MSI</td>\n",
              "      <td>GF65</td>\n",
              "      <td>4.4</td>\n",
              "      <td>Intel</td>\n",
              "      <td>Corei7</td>\n",
              "      <td>10</td>\n",
              "      <td>16</td>\n",
              "      <td>1 TB SSD</td>\n",
              "      <td>15.6</td>\n",
              "      <td>₹1,23,990</td>\n",
              "      <td>Windows</td>\n",
              "    </tr>\n",
              "    <tr>\n",
              "      <th>3</th>\n",
              "      <td>DELL</td>\n",
              "      <td>Vostro</td>\n",
              "      <td>3.9</td>\n",
              "      <td>Intel</td>\n",
              "      <td>Corei3</td>\n",
              "      <td>11</td>\n",
              "      <td>8</td>\n",
              "      <td>1 TB HDD</td>\n",
              "      <td>14.0</td>\n",
              "      <td>₹41,715</td>\n",
              "      <td>Windows</td>\n",
              "    </tr>\n",
              "    <tr>\n",
              "      <th>4</th>\n",
              "      <td>ASUS</td>\n",
              "      <td>Core</td>\n",
              "      <td>4.3</td>\n",
              "      <td>Intel</td>\n",
              "      <td>Corei3</td>\n",
              "      <td>10</td>\n",
              "      <td>4</td>\n",
              "      <td>512 GB SSD</td>\n",
              "      <td>15.6</td>\n",
              "      <td>₹48,990</td>\n",
              "      <td>Windows</td>\n",
              "    </tr>\n",
              "  </tbody>\n",
              "</table>\n",
              "</div>\n",
              "      <button class=\"colab-df-convert\" onclick=\"convertToInteractive('df-3330e221-ece0-44aa-b3a1-1ff74b1ab352')\"\n",
              "              title=\"Convert this dataframe to an interactive table.\"\n",
              "              style=\"display:none;\">\n",
              "        \n",
              "  <svg xmlns=\"http://www.w3.org/2000/svg\" height=\"24px\"viewBox=\"0 0 24 24\"\n",
              "       width=\"24px\">\n",
              "    <path d=\"M0 0h24v24H0V0z\" fill=\"none\"/>\n",
              "    <path d=\"M18.56 5.44l.94 2.06.94-2.06 2.06-.94-2.06-.94-.94-2.06-.94 2.06-2.06.94zm-11 1L8.5 8.5l.94-2.06 2.06-.94-2.06-.94L8.5 2.5l-.94 2.06-2.06.94zm10 10l.94 2.06.94-2.06 2.06-.94-2.06-.94-.94-2.06-.94 2.06-2.06.94z\"/><path d=\"M17.41 7.96l-1.37-1.37c-.4-.4-.92-.59-1.43-.59-.52 0-1.04.2-1.43.59L10.3 9.45l-7.72 7.72c-.78.78-.78 2.05 0 2.83L4 21.41c.39.39.9.59 1.41.59.51 0 1.02-.2 1.41-.59l7.78-7.78 2.81-2.81c.8-.78.8-2.07 0-2.86zM5.41 20L4 18.59l7.72-7.72 1.47 1.35L5.41 20z\"/>\n",
              "  </svg>\n",
              "      </button>\n",
              "      \n",
              "  <style>\n",
              "    .colab-df-container {\n",
              "      display:flex;\n",
              "      flex-wrap:wrap;\n",
              "      gap: 12px;\n",
              "    }\n",
              "\n",
              "    .colab-df-convert {\n",
              "      background-color: #E8F0FE;\n",
              "      border: none;\n",
              "      border-radius: 50%;\n",
              "      cursor: pointer;\n",
              "      display: none;\n",
              "      fill: #1967D2;\n",
              "      height: 32px;\n",
              "      padding: 0 0 0 0;\n",
              "      width: 32px;\n",
              "    }\n",
              "\n",
              "    .colab-df-convert:hover {\n",
              "      background-color: #E2EBFA;\n",
              "      box-shadow: 0px 1px 2px rgba(60, 64, 67, 0.3), 0px 1px 3px 1px rgba(60, 64, 67, 0.15);\n",
              "      fill: #174EA6;\n",
              "    }\n",
              "\n",
              "    [theme=dark] .colab-df-convert {\n",
              "      background-color: #3B4455;\n",
              "      fill: #D2E3FC;\n",
              "    }\n",
              "\n",
              "    [theme=dark] .colab-df-convert:hover {\n",
              "      background-color: #434B5C;\n",
              "      box-shadow: 0px 1px 3px 1px rgba(0, 0, 0, 0.15);\n",
              "      filter: drop-shadow(0px 1px 2px rgba(0, 0, 0, 0.3));\n",
              "      fill: #FFFFFF;\n",
              "    }\n",
              "  </style>\n",
              "\n",
              "      <script>\n",
              "        const buttonEl =\n",
              "          document.querySelector('#df-3330e221-ece0-44aa-b3a1-1ff74b1ab352 button.colab-df-convert');\n",
              "        buttonEl.style.display =\n",
              "          google.colab.kernel.accessAllowed ? 'block' : 'none';\n",
              "\n",
              "        async function convertToInteractive(key) {\n",
              "          const element = document.querySelector('#df-3330e221-ece0-44aa-b3a1-1ff74b1ab352');\n",
              "          const dataTable =\n",
              "            await google.colab.kernel.invokeFunction('convertToInteractive',\n",
              "                                                     [key], {});\n",
              "          if (!dataTable) return;\n",
              "\n",
              "          const docLinkHtml = 'Like what you see? Visit the ' +\n",
              "            '<a target=\"_blank\" href=https://colab.research.google.com/notebooks/data_table.ipynb>data table notebook</a>'\n",
              "            + ' to learn more about interactive tables.';\n",
              "          element.innerHTML = '';\n",
              "          dataTable['output_type'] = 'display_data';\n",
              "          await google.colab.output.renderOutput(dataTable, element);\n",
              "          const docLink = document.createElement('div');\n",
              "          docLink.innerHTML = docLinkHtml;\n",
              "          element.appendChild(docLink);\n",
              "        }\n",
              "      </script>\n",
              "    </div>\n",
              "  </div>\n",
              "  "
            ]
          },
          "metadata": {},
          "execution_count": 37
        }
      ]
    },
    {
      "cell_type": "code",
      "source": [
        "df['storage']"
      ],
      "metadata": {
        "colab": {
          "base_uri": "https://localhost:8080/"
        },
        "id": "RzOmtDVFL3KP",
        "outputId": "00d46f73-bf8b-45eb-b0a2-0a854a3c17c3"
      },
      "execution_count": null,
      "outputs": [
        {
          "output_type": "execute_result",
          "data": {
            "text/plain": [
              "0      512 GB SSD\n",
              "1      512 GB SSD\n",
              "2        1 TB SSD\n",
              "3        1 TB HDD\n",
              "4      512 GB SSD\n",
              "          ...    \n",
              "567    256 GB SSD\n",
              "568      1 TB HDD\n",
              "569      1 TB HDD\n",
              "570      1 TB HDD\n",
              "571    512 GB SSD\n",
              "Name: storage, Length: 572, dtype: object"
            ]
          },
          "metadata": {},
          "execution_count": 38
        }
      ]
    },
    {
      "cell_type": "code",
      "source": [
        "df['storage'].value_counts()"
      ],
      "metadata": {
        "colab": {
          "base_uri": "https://localhost:8080/"
        },
        "id": "aK7R9a_Zzer6",
        "outputId": "fe7023c5-3a13-4b6f-fa54-adf3d790442f"
      },
      "execution_count": null,
      "outputs": [
        {
          "output_type": "execute_result",
          "data": {
            "text/plain": [
              "512 GB SSD               263\n",
              "1 TB HDD                  83\n",
              "256 GB SSD                74\n",
              "1 TB SSD                  73\n",
              "1 TB HDD|256 GB SSD       56\n",
              "128 GB SSD                 7\n",
              "1 TB HDD|128 GB SSD        5\n",
              "512 GB HDD|512 GB SSD      3\n",
              "2 TB SSD                   3\n",
              "1 TB HDD|512 GB SSD        1\n",
              "3 TB SSD                   1\n",
              "8 GB SSD                   1\n",
              "2 TB HDD                   1\n",
              "256 GB HDD|256 GB SSD      1\n",
              "Name: storage, dtype: int64"
            ]
          },
          "metadata": {},
          "execution_count": 39
        }
      ]
    },
    {
      "cell_type": "code",
      "source": [
        "df['storage_1']=df['storage']"
      ],
      "metadata": {
        "id": "PLVe1dQ-3YKZ"
      },
      "execution_count": null,
      "outputs": []
    },
    {
      "cell_type": "code",
      "source": [
        "#converting all the element into GB\n",
        "df['storage_1']=df['storage_1'].str.replace('1.0TB','1TB', regex=True)\n",
        "df['storage_1']=df['storage_1'].str.replace('1TB','1000GB')\n",
        "df['storage_1']=df['storage_1'].str.replace('2TB','2000GB')\n",
        "df['storage_1']=df['storage_1'].str.replace('GB','')\n",
        "df['storage_1'].value_counts()"
      ],
      "metadata": {
        "colab": {
          "base_uri": "https://localhost:8080/"
        },
        "id": "A34HJVoD3X70",
        "outputId": "fa0893e3-a456-4a3d-d521-fd7477043afc"
      },
      "execution_count": null,
      "outputs": [
        {
          "output_type": "execute_result",
          "data": {
            "text/plain": [
              "512  SSD             263\n",
              "1 TB HDD              83\n",
              "256  SSD              74\n",
              "1 TB SSD              73\n",
              "1 TB HDD|256  SSD     56\n",
              "128  SSD               7\n",
              "1 TB HDD|128  SSD      5\n",
              "512  HDD|512  SSD      3\n",
              "2 TB SSD               3\n",
              "1 TB HDD|512  SSD      1\n",
              "3 TB SSD               1\n",
              "8  SSD                 1\n",
              "2 TB HDD               1\n",
              "256  HDD|256  SSD      1\n",
              "Name: storage_1, dtype: int64"
            ]
          },
          "metadata": {},
          "execution_count": 41
        }
      ]
    },
    {
      "cell_type": "code",
      "source": [
        "df['storage2']=df['storage_1'].str.replace(r' ','')\n",
        "df['storage2'].value_counts()"
      ],
      "metadata": {
        "colab": {
          "base_uri": "https://localhost:8080/"
        },
        "id": "8bZdPNfZ3X3Y",
        "outputId": "8c6f84b1-53b5-4983-b7b1-57997e1c19f8"
      },
      "execution_count": null,
      "outputs": [
        {
          "output_type": "execute_result",
          "data": {
            "text/plain": [
              "512SSD           263\n",
              "1TBHDD            83\n",
              "256SSD            74\n",
              "1TBSSD            73\n",
              "1TBHDD|256SSD     56\n",
              "128SSD             7\n",
              "1TBHDD|128SSD      5\n",
              "512HDD|512SSD      3\n",
              "2TBSSD             3\n",
              "1TBHDD|512SSD      1\n",
              "3TBSSD             1\n",
              "8SSD               1\n",
              "2TBHDD             1\n",
              "256HDD|256SSD      1\n",
              "Name: storage2, dtype: int64"
            ]
          },
          "metadata": {},
          "execution_count": 42
        }
      ]
    },
    {
      "cell_type": "markdown",
      "source": [
        " We can see that some laptops have 2 hard drives, there are 4 differnt types of disks: 'SSD', ''HDD', 'Hybrid' and 'Flash Storage'. We will create new columns to include all these information."
      ],
      "metadata": {
        "id": "XuppnU4WBtX5"
      }
    },
    {
      "cell_type": "code",
      "source": [
        "#separated the drives into two lists\n",
        "storage_1=[]\n",
        "storage_2=[]\n",
        "for i in df['storage2']:\n",
        "    if len(re.findall(r'\\+',i))==1: # DOUBLE DRIVE\n",
        "        one=re.findall(r'(\\w+)',i)\n",
        "        storage_1.append(one[0])\n",
        "        storage_2.append(one[1])\n",
        "    else: # SINGLE DRIVE\n",
        "        one=re.findall(r'(\\w+)',i)\n",
        "        storage_1.append(one[0])\n",
        "        storage_2.append('NaN')"
      ],
      "metadata": {
        "id": "AoldpVfC4soH"
      },
      "execution_count": null,
      "outputs": []
    },
    {
      "cell_type": "code",
      "source": [
        "df.head()"
      ],
      "metadata": {
        "colab": {
          "base_uri": "https://localhost:8080/",
          "height": 206
        },
        "id": "aQhAw0FB7nC4",
        "outputId": "d05613b9-5d3d-49b1-cca3-9ce95aa2478e"
      },
      "execution_count": null,
      "outputs": [
        {
          "output_type": "execute_result",
          "data": {
            "text/plain": [
              "  company model_name  rating processor_name processor_type  generation  \\\n",
              "0  Lenovo    IdeaPad     4.4          Intel         Corei3          11   \n",
              "1    ASUS        TUF     4.4          Intel         Corei5          10   \n",
              "2     MSI       GF65     4.4          Intel         Corei7          10   \n",
              "3    DELL     Vostro     3.9          Intel         Corei3          11   \n",
              "4    ASUS       Core     4.3          Intel         Corei3          10   \n",
              "\n",
              "   ram(GB)     storage  size(inch)      price       OS storage_1 storage2  \n",
              "0        8  512 GB SSD        15.6    ₹63,790  Windows  512  SSD   512SSD  \n",
              "1        8  512 GB SSD        15.6    ₹89,990  Windows  512  SSD   512SSD  \n",
              "2       16    1 TB SSD        15.6  ₹1,23,990  Windows  1 TB SSD   1TBSSD  \n",
              "3        8    1 TB HDD        14.0    ₹41,715  Windows  1 TB HDD   1TBHDD  \n",
              "4        4  512 GB SSD        15.6    ₹48,990  Windows  512  SSD   512SSD  "
            ],
            "text/html": [
              "\n",
              "  <div id=\"df-e79aa53d-49fe-40d7-a4da-dc6df3f70725\">\n",
              "    <div class=\"colab-df-container\">\n",
              "      <div>\n",
              "<style scoped>\n",
              "    .dataframe tbody tr th:only-of-type {\n",
              "        vertical-align: middle;\n",
              "    }\n",
              "\n",
              "    .dataframe tbody tr th {\n",
              "        vertical-align: top;\n",
              "    }\n",
              "\n",
              "    .dataframe thead th {\n",
              "        text-align: right;\n",
              "    }\n",
              "</style>\n",
              "<table border=\"1\" class=\"dataframe\">\n",
              "  <thead>\n",
              "    <tr style=\"text-align: right;\">\n",
              "      <th></th>\n",
              "      <th>company</th>\n",
              "      <th>model_name</th>\n",
              "      <th>rating</th>\n",
              "      <th>processor_name</th>\n",
              "      <th>processor_type</th>\n",
              "      <th>generation</th>\n",
              "      <th>ram(GB)</th>\n",
              "      <th>storage</th>\n",
              "      <th>size(inch)</th>\n",
              "      <th>price</th>\n",
              "      <th>OS</th>\n",
              "      <th>storage_1</th>\n",
              "      <th>storage2</th>\n",
              "    </tr>\n",
              "  </thead>\n",
              "  <tbody>\n",
              "    <tr>\n",
              "      <th>0</th>\n",
              "      <td>Lenovo</td>\n",
              "      <td>IdeaPad</td>\n",
              "      <td>4.4</td>\n",
              "      <td>Intel</td>\n",
              "      <td>Corei3</td>\n",
              "      <td>11</td>\n",
              "      <td>8</td>\n",
              "      <td>512 GB SSD</td>\n",
              "      <td>15.6</td>\n",
              "      <td>₹63,790</td>\n",
              "      <td>Windows</td>\n",
              "      <td>512  SSD</td>\n",
              "      <td>512SSD</td>\n",
              "    </tr>\n",
              "    <tr>\n",
              "      <th>1</th>\n",
              "      <td>ASUS</td>\n",
              "      <td>TUF</td>\n",
              "      <td>4.4</td>\n",
              "      <td>Intel</td>\n",
              "      <td>Corei5</td>\n",
              "      <td>10</td>\n",
              "      <td>8</td>\n",
              "      <td>512 GB SSD</td>\n",
              "      <td>15.6</td>\n",
              "      <td>₹89,990</td>\n",
              "      <td>Windows</td>\n",
              "      <td>512  SSD</td>\n",
              "      <td>512SSD</td>\n",
              "    </tr>\n",
              "    <tr>\n",
              "      <th>2</th>\n",
              "      <td>MSI</td>\n",
              "      <td>GF65</td>\n",
              "      <td>4.4</td>\n",
              "      <td>Intel</td>\n",
              "      <td>Corei7</td>\n",
              "      <td>10</td>\n",
              "      <td>16</td>\n",
              "      <td>1 TB SSD</td>\n",
              "      <td>15.6</td>\n",
              "      <td>₹1,23,990</td>\n",
              "      <td>Windows</td>\n",
              "      <td>1 TB SSD</td>\n",
              "      <td>1TBSSD</td>\n",
              "    </tr>\n",
              "    <tr>\n",
              "      <th>3</th>\n",
              "      <td>DELL</td>\n",
              "      <td>Vostro</td>\n",
              "      <td>3.9</td>\n",
              "      <td>Intel</td>\n",
              "      <td>Corei3</td>\n",
              "      <td>11</td>\n",
              "      <td>8</td>\n",
              "      <td>1 TB HDD</td>\n",
              "      <td>14.0</td>\n",
              "      <td>₹41,715</td>\n",
              "      <td>Windows</td>\n",
              "      <td>1 TB HDD</td>\n",
              "      <td>1TBHDD</td>\n",
              "    </tr>\n",
              "    <tr>\n",
              "      <th>4</th>\n",
              "      <td>ASUS</td>\n",
              "      <td>Core</td>\n",
              "      <td>4.3</td>\n",
              "      <td>Intel</td>\n",
              "      <td>Corei3</td>\n",
              "      <td>10</td>\n",
              "      <td>4</td>\n",
              "      <td>512 GB SSD</td>\n",
              "      <td>15.6</td>\n",
              "      <td>₹48,990</td>\n",
              "      <td>Windows</td>\n",
              "      <td>512  SSD</td>\n",
              "      <td>512SSD</td>\n",
              "    </tr>\n",
              "  </tbody>\n",
              "</table>\n",
              "</div>\n",
              "      <button class=\"colab-df-convert\" onclick=\"convertToInteractive('df-e79aa53d-49fe-40d7-a4da-dc6df3f70725')\"\n",
              "              title=\"Convert this dataframe to an interactive table.\"\n",
              "              style=\"display:none;\">\n",
              "        \n",
              "  <svg xmlns=\"http://www.w3.org/2000/svg\" height=\"24px\"viewBox=\"0 0 24 24\"\n",
              "       width=\"24px\">\n",
              "    <path d=\"M0 0h24v24H0V0z\" fill=\"none\"/>\n",
              "    <path d=\"M18.56 5.44l.94 2.06.94-2.06 2.06-.94-2.06-.94-.94-2.06-.94 2.06-2.06.94zm-11 1L8.5 8.5l.94-2.06 2.06-.94-2.06-.94L8.5 2.5l-.94 2.06-2.06.94zm10 10l.94 2.06.94-2.06 2.06-.94-2.06-.94-.94-2.06-.94 2.06-2.06.94z\"/><path d=\"M17.41 7.96l-1.37-1.37c-.4-.4-.92-.59-1.43-.59-.52 0-1.04.2-1.43.59L10.3 9.45l-7.72 7.72c-.78.78-.78 2.05 0 2.83L4 21.41c.39.39.9.59 1.41.59.51 0 1.02-.2 1.41-.59l7.78-7.78 2.81-2.81c.8-.78.8-2.07 0-2.86zM5.41 20L4 18.59l7.72-7.72 1.47 1.35L5.41 20z\"/>\n",
              "  </svg>\n",
              "      </button>\n",
              "      \n",
              "  <style>\n",
              "    .colab-df-container {\n",
              "      display:flex;\n",
              "      flex-wrap:wrap;\n",
              "      gap: 12px;\n",
              "    }\n",
              "\n",
              "    .colab-df-convert {\n",
              "      background-color: #E8F0FE;\n",
              "      border: none;\n",
              "      border-radius: 50%;\n",
              "      cursor: pointer;\n",
              "      display: none;\n",
              "      fill: #1967D2;\n",
              "      height: 32px;\n",
              "      padding: 0 0 0 0;\n",
              "      width: 32px;\n",
              "    }\n",
              "\n",
              "    .colab-df-convert:hover {\n",
              "      background-color: #E2EBFA;\n",
              "      box-shadow: 0px 1px 2px rgba(60, 64, 67, 0.3), 0px 1px 3px 1px rgba(60, 64, 67, 0.15);\n",
              "      fill: #174EA6;\n",
              "    }\n",
              "\n",
              "    [theme=dark] .colab-df-convert {\n",
              "      background-color: #3B4455;\n",
              "      fill: #D2E3FC;\n",
              "    }\n",
              "\n",
              "    [theme=dark] .colab-df-convert:hover {\n",
              "      background-color: #434B5C;\n",
              "      box-shadow: 0px 1px 3px 1px rgba(0, 0, 0, 0.15);\n",
              "      filter: drop-shadow(0px 1px 2px rgba(0, 0, 0, 0.3));\n",
              "      fill: #FFFFFF;\n",
              "    }\n",
              "  </style>\n",
              "\n",
              "      <script>\n",
              "        const buttonEl =\n",
              "          document.querySelector('#df-e79aa53d-49fe-40d7-a4da-dc6df3f70725 button.colab-df-convert');\n",
              "        buttonEl.style.display =\n",
              "          google.colab.kernel.accessAllowed ? 'block' : 'none';\n",
              "\n",
              "        async function convertToInteractive(key) {\n",
              "          const element = document.querySelector('#df-e79aa53d-49fe-40d7-a4da-dc6df3f70725');\n",
              "          const dataTable =\n",
              "            await google.colab.kernel.invokeFunction('convertToInteractive',\n",
              "                                                     [key], {});\n",
              "          if (!dataTable) return;\n",
              "\n",
              "          const docLinkHtml = 'Like what you see? Visit the ' +\n",
              "            '<a target=\"_blank\" href=https://colab.research.google.com/notebooks/data_table.ipynb>data table notebook</a>'\n",
              "            + ' to learn more about interactive tables.';\n",
              "          element.innerHTML = '';\n",
              "          dataTable['output_type'] = 'display_data';\n",
              "          await google.colab.output.renderOutput(dataTable, element);\n",
              "          const docLink = document.createElement('div');\n",
              "          docLink.innerHTML = docLinkHtml;\n",
              "          element.appendChild(docLink);\n",
              "        }\n",
              "      </script>\n",
              "    </div>\n",
              "  </div>\n",
              "  "
            ]
          },
          "metadata": {},
          "execution_count": 44
        }
      ]
    },
    {
      "cell_type": "code",
      "source": [
        "#create two more lists that will contain the memory types\n",
        "storage_1_gb=[]\n",
        "storage_1_type=[]\n",
        "for i in storage_1:\n",
        "    storage_1_type.append(re.findall(r'(\\D\\w+)',i)[0])\n",
        "    storage_1_gb.append(re.findall(r'(\\d+)',i)[0])"
      ],
      "metadata": {
        "id": "UCCS9pty4skf"
      },
      "execution_count": null,
      "outputs": []
    },
    {
      "cell_type": "code",
      "source": [
        "#created the same two lists that will contain type and capacity also for the second drive\n",
        "storage_2_gb=[]\n",
        "storage_2_type=[]\n",
        "for i in storage_2:\n",
        "    if i != 'NaN':\n",
        "        storage_2_type.append(re.findall(r'(\\D\\w+)',i)[0])\n",
        "        storage_2_gb.append(re.findall(r'(\\d+)',i)[0])\n",
        "    else:\n",
        "        storage_2_type.append('NaN')\n",
        "        storage_2_gb.append(0)"
      ],
      "metadata": {
        "id": "8uX5Z0Gf4shc"
      },
      "execution_count": null,
      "outputs": []
    },
    {
      "cell_type": "code",
      "source": [
        "df['storage_1_sto(GB)'] = storage_1_gb\n",
        "df['storage_1_type'] = storage_1_type\n",
        "df['storage_2_sto(GB)'] = storage_2_gb\n",
        "df['storage_2_type'] = storage_2_type"
      ],
      "metadata": {
        "id": "GT-UiHeo6nnn"
      },
      "execution_count": null,
      "outputs": []
    },
    {
      "cell_type": "code",
      "source": [
        "#convert the capacity related columns to floats\n",
        "df['storage_1_sto(GB)'] = df['storage_1_sto(GB)'].astype(float)\n",
        "df['storage_2_sto(GB)'] = df['storage_2_sto(GB)'].astype(float)"
      ],
      "metadata": {
        "id": "oINMo5dg6nhZ"
      },
      "execution_count": null,
      "outputs": []
    },
    {
      "cell_type": "code",
      "source": [
        "df.head()"
      ],
      "metadata": {
        "colab": {
          "base_uri": "https://localhost:8080/",
          "height": 357
        },
        "id": "LaUq8gpz7C-5",
        "outputId": "c5109f3a-c41b-4d1d-8fae-cb5ebdd25b81"
      },
      "execution_count": null,
      "outputs": [
        {
          "output_type": "execute_result",
          "data": {
            "text/plain": [
              "  company model_name  rating processor_name processor_type  generation  \\\n",
              "0  Lenovo    IdeaPad     4.4          Intel         Corei3          11   \n",
              "1    ASUS        TUF     4.4          Intel         Corei5          10   \n",
              "2     MSI       GF65     4.4          Intel         Corei7          10   \n",
              "3    DELL     Vostro     3.9          Intel         Corei3          11   \n",
              "4    ASUS       Core     4.3          Intel         Corei3          10   \n",
              "\n",
              "   ram(GB)     storage  size(inch)      price       OS storage_1 storage2  \\\n",
              "0        8  512 GB SSD        15.6    ₹63,790  Windows  512  SSD   512SSD   \n",
              "1        8  512 GB SSD        15.6    ₹89,990  Windows  512  SSD   512SSD   \n",
              "2       16    1 TB SSD        15.6  ₹1,23,990  Windows  1 TB SSD   1TBSSD   \n",
              "3        8    1 TB HDD        14.0    ₹41,715  Windows  1 TB HDD   1TBHDD   \n",
              "4        4  512 GB SSD        15.6    ₹48,990  Windows  512  SSD   512SSD   \n",
              "\n",
              "   storage_1_sto(GB) storage_1_type  storage_2_sto(GB) storage_2_type  \n",
              "0              512.0            SSD                0.0            NaN  \n",
              "1              512.0            SSD                0.0            NaN  \n",
              "2                1.0          TBSSD                0.0            NaN  \n",
              "3                1.0          TBHDD                0.0            NaN  \n",
              "4              512.0            SSD                0.0            NaN  "
            ],
            "text/html": [
              "\n",
              "  <div id=\"df-d37470fb-3330-42f6-8401-9e582da6697e\">\n",
              "    <div class=\"colab-df-container\">\n",
              "      <div>\n",
              "<style scoped>\n",
              "    .dataframe tbody tr th:only-of-type {\n",
              "        vertical-align: middle;\n",
              "    }\n",
              "\n",
              "    .dataframe tbody tr th {\n",
              "        vertical-align: top;\n",
              "    }\n",
              "\n",
              "    .dataframe thead th {\n",
              "        text-align: right;\n",
              "    }\n",
              "</style>\n",
              "<table border=\"1\" class=\"dataframe\">\n",
              "  <thead>\n",
              "    <tr style=\"text-align: right;\">\n",
              "      <th></th>\n",
              "      <th>company</th>\n",
              "      <th>model_name</th>\n",
              "      <th>rating</th>\n",
              "      <th>processor_name</th>\n",
              "      <th>processor_type</th>\n",
              "      <th>generation</th>\n",
              "      <th>ram(GB)</th>\n",
              "      <th>storage</th>\n",
              "      <th>size(inch)</th>\n",
              "      <th>price</th>\n",
              "      <th>OS</th>\n",
              "      <th>storage_1</th>\n",
              "      <th>storage2</th>\n",
              "      <th>storage_1_sto(GB)</th>\n",
              "      <th>storage_1_type</th>\n",
              "      <th>storage_2_sto(GB)</th>\n",
              "      <th>storage_2_type</th>\n",
              "    </tr>\n",
              "  </thead>\n",
              "  <tbody>\n",
              "    <tr>\n",
              "      <th>0</th>\n",
              "      <td>Lenovo</td>\n",
              "      <td>IdeaPad</td>\n",
              "      <td>4.4</td>\n",
              "      <td>Intel</td>\n",
              "      <td>Corei3</td>\n",
              "      <td>11</td>\n",
              "      <td>8</td>\n",
              "      <td>512 GB SSD</td>\n",
              "      <td>15.6</td>\n",
              "      <td>₹63,790</td>\n",
              "      <td>Windows</td>\n",
              "      <td>512  SSD</td>\n",
              "      <td>512SSD</td>\n",
              "      <td>512.0</td>\n",
              "      <td>SSD</td>\n",
              "      <td>0.0</td>\n",
              "      <td>NaN</td>\n",
              "    </tr>\n",
              "    <tr>\n",
              "      <th>1</th>\n",
              "      <td>ASUS</td>\n",
              "      <td>TUF</td>\n",
              "      <td>4.4</td>\n",
              "      <td>Intel</td>\n",
              "      <td>Corei5</td>\n",
              "      <td>10</td>\n",
              "      <td>8</td>\n",
              "      <td>512 GB SSD</td>\n",
              "      <td>15.6</td>\n",
              "      <td>₹89,990</td>\n",
              "      <td>Windows</td>\n",
              "      <td>512  SSD</td>\n",
              "      <td>512SSD</td>\n",
              "      <td>512.0</td>\n",
              "      <td>SSD</td>\n",
              "      <td>0.0</td>\n",
              "      <td>NaN</td>\n",
              "    </tr>\n",
              "    <tr>\n",
              "      <th>2</th>\n",
              "      <td>MSI</td>\n",
              "      <td>GF65</td>\n",
              "      <td>4.4</td>\n",
              "      <td>Intel</td>\n",
              "      <td>Corei7</td>\n",
              "      <td>10</td>\n",
              "      <td>16</td>\n",
              "      <td>1 TB SSD</td>\n",
              "      <td>15.6</td>\n",
              "      <td>₹1,23,990</td>\n",
              "      <td>Windows</td>\n",
              "      <td>1 TB SSD</td>\n",
              "      <td>1TBSSD</td>\n",
              "      <td>1.0</td>\n",
              "      <td>TBSSD</td>\n",
              "      <td>0.0</td>\n",
              "      <td>NaN</td>\n",
              "    </tr>\n",
              "    <tr>\n",
              "      <th>3</th>\n",
              "      <td>DELL</td>\n",
              "      <td>Vostro</td>\n",
              "      <td>3.9</td>\n",
              "      <td>Intel</td>\n",
              "      <td>Corei3</td>\n",
              "      <td>11</td>\n",
              "      <td>8</td>\n",
              "      <td>1 TB HDD</td>\n",
              "      <td>14.0</td>\n",
              "      <td>₹41,715</td>\n",
              "      <td>Windows</td>\n",
              "      <td>1 TB HDD</td>\n",
              "      <td>1TBHDD</td>\n",
              "      <td>1.0</td>\n",
              "      <td>TBHDD</td>\n",
              "      <td>0.0</td>\n",
              "      <td>NaN</td>\n",
              "    </tr>\n",
              "    <tr>\n",
              "      <th>4</th>\n",
              "      <td>ASUS</td>\n",
              "      <td>Core</td>\n",
              "      <td>4.3</td>\n",
              "      <td>Intel</td>\n",
              "      <td>Corei3</td>\n",
              "      <td>10</td>\n",
              "      <td>4</td>\n",
              "      <td>512 GB SSD</td>\n",
              "      <td>15.6</td>\n",
              "      <td>₹48,990</td>\n",
              "      <td>Windows</td>\n",
              "      <td>512  SSD</td>\n",
              "      <td>512SSD</td>\n",
              "      <td>512.0</td>\n",
              "      <td>SSD</td>\n",
              "      <td>0.0</td>\n",
              "      <td>NaN</td>\n",
              "    </tr>\n",
              "  </tbody>\n",
              "</table>\n",
              "</div>\n",
              "      <button class=\"colab-df-convert\" onclick=\"convertToInteractive('df-d37470fb-3330-42f6-8401-9e582da6697e')\"\n",
              "              title=\"Convert this dataframe to an interactive table.\"\n",
              "              style=\"display:none;\">\n",
              "        \n",
              "  <svg xmlns=\"http://www.w3.org/2000/svg\" height=\"24px\"viewBox=\"0 0 24 24\"\n",
              "       width=\"24px\">\n",
              "    <path d=\"M0 0h24v24H0V0z\" fill=\"none\"/>\n",
              "    <path d=\"M18.56 5.44l.94 2.06.94-2.06 2.06-.94-2.06-.94-.94-2.06-.94 2.06-2.06.94zm-11 1L8.5 8.5l.94-2.06 2.06-.94-2.06-.94L8.5 2.5l-.94 2.06-2.06.94zm10 10l.94 2.06.94-2.06 2.06-.94-2.06-.94-.94-2.06-.94 2.06-2.06.94z\"/><path d=\"M17.41 7.96l-1.37-1.37c-.4-.4-.92-.59-1.43-.59-.52 0-1.04.2-1.43.59L10.3 9.45l-7.72 7.72c-.78.78-.78 2.05 0 2.83L4 21.41c.39.39.9.59 1.41.59.51 0 1.02-.2 1.41-.59l7.78-7.78 2.81-2.81c.8-.78.8-2.07 0-2.86zM5.41 20L4 18.59l7.72-7.72 1.47 1.35L5.41 20z\"/>\n",
              "  </svg>\n",
              "      </button>\n",
              "      \n",
              "  <style>\n",
              "    .colab-df-container {\n",
              "      display:flex;\n",
              "      flex-wrap:wrap;\n",
              "      gap: 12px;\n",
              "    }\n",
              "\n",
              "    .colab-df-convert {\n",
              "      background-color: #E8F0FE;\n",
              "      border: none;\n",
              "      border-radius: 50%;\n",
              "      cursor: pointer;\n",
              "      display: none;\n",
              "      fill: #1967D2;\n",
              "      height: 32px;\n",
              "      padding: 0 0 0 0;\n",
              "      width: 32px;\n",
              "    }\n",
              "\n",
              "    .colab-df-convert:hover {\n",
              "      background-color: #E2EBFA;\n",
              "      box-shadow: 0px 1px 2px rgba(60, 64, 67, 0.3), 0px 1px 3px 1px rgba(60, 64, 67, 0.15);\n",
              "      fill: #174EA6;\n",
              "    }\n",
              "\n",
              "    [theme=dark] .colab-df-convert {\n",
              "      background-color: #3B4455;\n",
              "      fill: #D2E3FC;\n",
              "    }\n",
              "\n",
              "    [theme=dark] .colab-df-convert:hover {\n",
              "      background-color: #434B5C;\n",
              "      box-shadow: 0px 1px 3px 1px rgba(0, 0, 0, 0.15);\n",
              "      filter: drop-shadow(0px 1px 2px rgba(0, 0, 0, 0.3));\n",
              "      fill: #FFFFFF;\n",
              "    }\n",
              "  </style>\n",
              "\n",
              "      <script>\n",
              "        const buttonEl =\n",
              "          document.querySelector('#df-d37470fb-3330-42f6-8401-9e582da6697e button.colab-df-convert');\n",
              "        buttonEl.style.display =\n",
              "          google.colab.kernel.accessAllowed ? 'block' : 'none';\n",
              "\n",
              "        async function convertToInteractive(key) {\n",
              "          const element = document.querySelector('#df-d37470fb-3330-42f6-8401-9e582da6697e');\n",
              "          const dataTable =\n",
              "            await google.colab.kernel.invokeFunction('convertToInteractive',\n",
              "                                                     [key], {});\n",
              "          if (!dataTable) return;\n",
              "\n",
              "          const docLinkHtml = 'Like what you see? Visit the ' +\n",
              "            '<a target=\"_blank\" href=https://colab.research.google.com/notebooks/data_table.ipynb>data table notebook</a>'\n",
              "            + ' to learn more about interactive tables.';\n",
              "          element.innerHTML = '';\n",
              "          dataTable['output_type'] = 'display_data';\n",
              "          await google.colab.output.renderOutput(dataTable, element);\n",
              "          const docLink = document.createElement('div');\n",
              "          docLink.innerHTML = docLinkHtml;\n",
              "          element.appendChild(docLink);\n",
              "        }\n",
              "      </script>\n",
              "    </div>\n",
              "  </div>\n",
              "  "
            ]
          },
          "metadata": {},
          "execution_count": 49
        }
      ]
    },
    {
      "cell_type": "code",
      "source": [
        "df=df.drop(['storage_1','storage2','storage','storage_2_sto(GB)','storage_2_type'], axis=1)"
      ],
      "metadata": {
        "id": "TeAUEALP7jFC"
      },
      "execution_count": null,
      "outputs": []
    },
    {
      "cell_type": "code",
      "source": [
        "df.head()"
      ],
      "metadata": {
        "colab": {
          "base_uri": "https://localhost:8080/",
          "height": 206
        },
        "id": "nA5reQED7i6S",
        "outputId": "3f167574-22ac-41dd-da02-0dd74d77f816"
      },
      "execution_count": null,
      "outputs": [
        {
          "output_type": "execute_result",
          "data": {
            "text/plain": [
              "  company model_name  rating processor_name processor_type  generation  \\\n",
              "0  Lenovo    IdeaPad     4.4          Intel         Corei3          11   \n",
              "1    ASUS        TUF     4.4          Intel         Corei5          10   \n",
              "2     MSI       GF65     4.4          Intel         Corei7          10   \n",
              "3    DELL     Vostro     3.9          Intel         Corei3          11   \n",
              "4    ASUS       Core     4.3          Intel         Corei3          10   \n",
              "\n",
              "   ram(GB)  size(inch)      price       OS  storage_1_sto(GB) storage_1_type  \n",
              "0        8        15.6    ₹63,790  Windows              512.0            SSD  \n",
              "1        8        15.6    ₹89,990  Windows              512.0            SSD  \n",
              "2       16        15.6  ₹1,23,990  Windows                1.0          TBSSD  \n",
              "3        8        14.0    ₹41,715  Windows                1.0          TBHDD  \n",
              "4        4        15.6    ₹48,990  Windows              512.0            SSD  "
            ],
            "text/html": [
              "\n",
              "  <div id=\"df-ae65c912-370b-4475-8a14-523b071cde68\">\n",
              "    <div class=\"colab-df-container\">\n",
              "      <div>\n",
              "<style scoped>\n",
              "    .dataframe tbody tr th:only-of-type {\n",
              "        vertical-align: middle;\n",
              "    }\n",
              "\n",
              "    .dataframe tbody tr th {\n",
              "        vertical-align: top;\n",
              "    }\n",
              "\n",
              "    .dataframe thead th {\n",
              "        text-align: right;\n",
              "    }\n",
              "</style>\n",
              "<table border=\"1\" class=\"dataframe\">\n",
              "  <thead>\n",
              "    <tr style=\"text-align: right;\">\n",
              "      <th></th>\n",
              "      <th>company</th>\n",
              "      <th>model_name</th>\n",
              "      <th>rating</th>\n",
              "      <th>processor_name</th>\n",
              "      <th>processor_type</th>\n",
              "      <th>generation</th>\n",
              "      <th>ram(GB)</th>\n",
              "      <th>size(inch)</th>\n",
              "      <th>price</th>\n",
              "      <th>OS</th>\n",
              "      <th>storage_1_sto(GB)</th>\n",
              "      <th>storage_1_type</th>\n",
              "    </tr>\n",
              "  </thead>\n",
              "  <tbody>\n",
              "    <tr>\n",
              "      <th>0</th>\n",
              "      <td>Lenovo</td>\n",
              "      <td>IdeaPad</td>\n",
              "      <td>4.4</td>\n",
              "      <td>Intel</td>\n",
              "      <td>Corei3</td>\n",
              "      <td>11</td>\n",
              "      <td>8</td>\n",
              "      <td>15.6</td>\n",
              "      <td>₹63,790</td>\n",
              "      <td>Windows</td>\n",
              "      <td>512.0</td>\n",
              "      <td>SSD</td>\n",
              "    </tr>\n",
              "    <tr>\n",
              "      <th>1</th>\n",
              "      <td>ASUS</td>\n",
              "      <td>TUF</td>\n",
              "      <td>4.4</td>\n",
              "      <td>Intel</td>\n",
              "      <td>Corei5</td>\n",
              "      <td>10</td>\n",
              "      <td>8</td>\n",
              "      <td>15.6</td>\n",
              "      <td>₹89,990</td>\n",
              "      <td>Windows</td>\n",
              "      <td>512.0</td>\n",
              "      <td>SSD</td>\n",
              "    </tr>\n",
              "    <tr>\n",
              "      <th>2</th>\n",
              "      <td>MSI</td>\n",
              "      <td>GF65</td>\n",
              "      <td>4.4</td>\n",
              "      <td>Intel</td>\n",
              "      <td>Corei7</td>\n",
              "      <td>10</td>\n",
              "      <td>16</td>\n",
              "      <td>15.6</td>\n",
              "      <td>₹1,23,990</td>\n",
              "      <td>Windows</td>\n",
              "      <td>1.0</td>\n",
              "      <td>TBSSD</td>\n",
              "    </tr>\n",
              "    <tr>\n",
              "      <th>3</th>\n",
              "      <td>DELL</td>\n",
              "      <td>Vostro</td>\n",
              "      <td>3.9</td>\n",
              "      <td>Intel</td>\n",
              "      <td>Corei3</td>\n",
              "      <td>11</td>\n",
              "      <td>8</td>\n",
              "      <td>14.0</td>\n",
              "      <td>₹41,715</td>\n",
              "      <td>Windows</td>\n",
              "      <td>1.0</td>\n",
              "      <td>TBHDD</td>\n",
              "    </tr>\n",
              "    <tr>\n",
              "      <th>4</th>\n",
              "      <td>ASUS</td>\n",
              "      <td>Core</td>\n",
              "      <td>4.3</td>\n",
              "      <td>Intel</td>\n",
              "      <td>Corei3</td>\n",
              "      <td>10</td>\n",
              "      <td>4</td>\n",
              "      <td>15.6</td>\n",
              "      <td>₹48,990</td>\n",
              "      <td>Windows</td>\n",
              "      <td>512.0</td>\n",
              "      <td>SSD</td>\n",
              "    </tr>\n",
              "  </tbody>\n",
              "</table>\n",
              "</div>\n",
              "      <button class=\"colab-df-convert\" onclick=\"convertToInteractive('df-ae65c912-370b-4475-8a14-523b071cde68')\"\n",
              "              title=\"Convert this dataframe to an interactive table.\"\n",
              "              style=\"display:none;\">\n",
              "        \n",
              "  <svg xmlns=\"http://www.w3.org/2000/svg\" height=\"24px\"viewBox=\"0 0 24 24\"\n",
              "       width=\"24px\">\n",
              "    <path d=\"M0 0h24v24H0V0z\" fill=\"none\"/>\n",
              "    <path d=\"M18.56 5.44l.94 2.06.94-2.06 2.06-.94-2.06-.94-.94-2.06-.94 2.06-2.06.94zm-11 1L8.5 8.5l.94-2.06 2.06-.94-2.06-.94L8.5 2.5l-.94 2.06-2.06.94zm10 10l.94 2.06.94-2.06 2.06-.94-2.06-.94-.94-2.06-.94 2.06-2.06.94z\"/><path d=\"M17.41 7.96l-1.37-1.37c-.4-.4-.92-.59-1.43-.59-.52 0-1.04.2-1.43.59L10.3 9.45l-7.72 7.72c-.78.78-.78 2.05 0 2.83L4 21.41c.39.39.9.59 1.41.59.51 0 1.02-.2 1.41-.59l7.78-7.78 2.81-2.81c.8-.78.8-2.07 0-2.86zM5.41 20L4 18.59l7.72-7.72 1.47 1.35L5.41 20z\"/>\n",
              "  </svg>\n",
              "      </button>\n",
              "      \n",
              "  <style>\n",
              "    .colab-df-container {\n",
              "      display:flex;\n",
              "      flex-wrap:wrap;\n",
              "      gap: 12px;\n",
              "    }\n",
              "\n",
              "    .colab-df-convert {\n",
              "      background-color: #E8F0FE;\n",
              "      border: none;\n",
              "      border-radius: 50%;\n",
              "      cursor: pointer;\n",
              "      display: none;\n",
              "      fill: #1967D2;\n",
              "      height: 32px;\n",
              "      padding: 0 0 0 0;\n",
              "      width: 32px;\n",
              "    }\n",
              "\n",
              "    .colab-df-convert:hover {\n",
              "      background-color: #E2EBFA;\n",
              "      box-shadow: 0px 1px 2px rgba(60, 64, 67, 0.3), 0px 1px 3px 1px rgba(60, 64, 67, 0.15);\n",
              "      fill: #174EA6;\n",
              "    }\n",
              "\n",
              "    [theme=dark] .colab-df-convert {\n",
              "      background-color: #3B4455;\n",
              "      fill: #D2E3FC;\n",
              "    }\n",
              "\n",
              "    [theme=dark] .colab-df-convert:hover {\n",
              "      background-color: #434B5C;\n",
              "      box-shadow: 0px 1px 3px 1px rgba(0, 0, 0, 0.15);\n",
              "      filter: drop-shadow(0px 1px 2px rgba(0, 0, 0, 0.3));\n",
              "      fill: #FFFFFF;\n",
              "    }\n",
              "  </style>\n",
              "\n",
              "      <script>\n",
              "        const buttonEl =\n",
              "          document.querySelector('#df-ae65c912-370b-4475-8a14-523b071cde68 button.colab-df-convert');\n",
              "        buttonEl.style.display =\n",
              "          google.colab.kernel.accessAllowed ? 'block' : 'none';\n",
              "\n",
              "        async function convertToInteractive(key) {\n",
              "          const element = document.querySelector('#df-ae65c912-370b-4475-8a14-523b071cde68');\n",
              "          const dataTable =\n",
              "            await google.colab.kernel.invokeFunction('convertToInteractive',\n",
              "                                                     [key], {});\n",
              "          if (!dataTable) return;\n",
              "\n",
              "          const docLinkHtml = 'Like what you see? Visit the ' +\n",
              "            '<a target=\"_blank\" href=https://colab.research.google.com/notebooks/data_table.ipynb>data table notebook</a>'\n",
              "            + ' to learn more about interactive tables.';\n",
              "          element.innerHTML = '';\n",
              "          dataTable['output_type'] = 'display_data';\n",
              "          await google.colab.output.renderOutput(dataTable, element);\n",
              "          const docLink = document.createElement('div');\n",
              "          docLink.innerHTML = docLinkHtml;\n",
              "          element.appendChild(docLink);\n",
              "        }\n",
              "      </script>\n",
              "    </div>\n",
              "  </div>\n",
              "  "
            ]
          },
          "metadata": {},
          "execution_count": 51
        }
      ]
    },
    {
      "cell_type": "code",
      "source": [
        "#removing rupee symbol from price\n",
        "df['price'] = df['price'].str.replace('₹', '')\n",
        "df['price'] = df['price'].str.replace(',', '')"
      ],
      "metadata": {
        "id": "s3CWIwdHoPiY"
      },
      "execution_count": null,
      "outputs": []
    },
    {
      "cell_type": "code",
      "source": [
        "df['price'] = df['price'].astype(float)"
      ],
      "metadata": {
        "id": "W6a3BmCxRRmP"
      },
      "execution_count": null,
      "outputs": []
    },
    {
      "cell_type": "code",
      "source": [
        "df.head()"
      ],
      "metadata": {
        "colab": {
          "base_uri": "https://localhost:8080/",
          "height": 206
        },
        "id": "eKgI79vrlMTR",
        "outputId": "6a080b33-19c1-4fd9-bd9b-8aef2ef49f6b"
      },
      "execution_count": null,
      "outputs": [
        {
          "output_type": "execute_result",
          "data": {
            "text/plain": [
              "  company model_name  rating processor_name processor_type  generation  \\\n",
              "0  Lenovo    IdeaPad     4.4          Intel         Corei3          11   \n",
              "1    ASUS        TUF     4.4          Intel         Corei5          10   \n",
              "2     MSI       GF65     4.4          Intel         Corei7          10   \n",
              "3    DELL     Vostro     3.9          Intel         Corei3          11   \n",
              "4    ASUS       Core     4.3          Intel         Corei3          10   \n",
              "\n",
              "   ram(GB)  size(inch)     price       OS  storage_1_sto(GB) storage_1_type  \n",
              "0        8        15.6   63790.0  Windows              512.0            SSD  \n",
              "1        8        15.6   89990.0  Windows              512.0            SSD  \n",
              "2       16        15.6  123990.0  Windows                1.0          TBSSD  \n",
              "3        8        14.0   41715.0  Windows                1.0          TBHDD  \n",
              "4        4        15.6   48990.0  Windows              512.0            SSD  "
            ],
            "text/html": [
              "\n",
              "  <div id=\"df-79ba6950-a16e-4415-bc87-88a45ea5bcc4\">\n",
              "    <div class=\"colab-df-container\">\n",
              "      <div>\n",
              "<style scoped>\n",
              "    .dataframe tbody tr th:only-of-type {\n",
              "        vertical-align: middle;\n",
              "    }\n",
              "\n",
              "    .dataframe tbody tr th {\n",
              "        vertical-align: top;\n",
              "    }\n",
              "\n",
              "    .dataframe thead th {\n",
              "        text-align: right;\n",
              "    }\n",
              "</style>\n",
              "<table border=\"1\" class=\"dataframe\">\n",
              "  <thead>\n",
              "    <tr style=\"text-align: right;\">\n",
              "      <th></th>\n",
              "      <th>company</th>\n",
              "      <th>model_name</th>\n",
              "      <th>rating</th>\n",
              "      <th>processor_name</th>\n",
              "      <th>processor_type</th>\n",
              "      <th>generation</th>\n",
              "      <th>ram(GB)</th>\n",
              "      <th>size(inch)</th>\n",
              "      <th>price</th>\n",
              "      <th>OS</th>\n",
              "      <th>storage_1_sto(GB)</th>\n",
              "      <th>storage_1_type</th>\n",
              "    </tr>\n",
              "  </thead>\n",
              "  <tbody>\n",
              "    <tr>\n",
              "      <th>0</th>\n",
              "      <td>Lenovo</td>\n",
              "      <td>IdeaPad</td>\n",
              "      <td>4.4</td>\n",
              "      <td>Intel</td>\n",
              "      <td>Corei3</td>\n",
              "      <td>11</td>\n",
              "      <td>8</td>\n",
              "      <td>15.6</td>\n",
              "      <td>63790.0</td>\n",
              "      <td>Windows</td>\n",
              "      <td>512.0</td>\n",
              "      <td>SSD</td>\n",
              "    </tr>\n",
              "    <tr>\n",
              "      <th>1</th>\n",
              "      <td>ASUS</td>\n",
              "      <td>TUF</td>\n",
              "      <td>4.4</td>\n",
              "      <td>Intel</td>\n",
              "      <td>Corei5</td>\n",
              "      <td>10</td>\n",
              "      <td>8</td>\n",
              "      <td>15.6</td>\n",
              "      <td>89990.0</td>\n",
              "      <td>Windows</td>\n",
              "      <td>512.0</td>\n",
              "      <td>SSD</td>\n",
              "    </tr>\n",
              "    <tr>\n",
              "      <th>2</th>\n",
              "      <td>MSI</td>\n",
              "      <td>GF65</td>\n",
              "      <td>4.4</td>\n",
              "      <td>Intel</td>\n",
              "      <td>Corei7</td>\n",
              "      <td>10</td>\n",
              "      <td>16</td>\n",
              "      <td>15.6</td>\n",
              "      <td>123990.0</td>\n",
              "      <td>Windows</td>\n",
              "      <td>1.0</td>\n",
              "      <td>TBSSD</td>\n",
              "    </tr>\n",
              "    <tr>\n",
              "      <th>3</th>\n",
              "      <td>DELL</td>\n",
              "      <td>Vostro</td>\n",
              "      <td>3.9</td>\n",
              "      <td>Intel</td>\n",
              "      <td>Corei3</td>\n",
              "      <td>11</td>\n",
              "      <td>8</td>\n",
              "      <td>14.0</td>\n",
              "      <td>41715.0</td>\n",
              "      <td>Windows</td>\n",
              "      <td>1.0</td>\n",
              "      <td>TBHDD</td>\n",
              "    </tr>\n",
              "    <tr>\n",
              "      <th>4</th>\n",
              "      <td>ASUS</td>\n",
              "      <td>Core</td>\n",
              "      <td>4.3</td>\n",
              "      <td>Intel</td>\n",
              "      <td>Corei3</td>\n",
              "      <td>10</td>\n",
              "      <td>4</td>\n",
              "      <td>15.6</td>\n",
              "      <td>48990.0</td>\n",
              "      <td>Windows</td>\n",
              "      <td>512.0</td>\n",
              "      <td>SSD</td>\n",
              "    </tr>\n",
              "  </tbody>\n",
              "</table>\n",
              "</div>\n",
              "      <button class=\"colab-df-convert\" onclick=\"convertToInteractive('df-79ba6950-a16e-4415-bc87-88a45ea5bcc4')\"\n",
              "              title=\"Convert this dataframe to an interactive table.\"\n",
              "              style=\"display:none;\">\n",
              "        \n",
              "  <svg xmlns=\"http://www.w3.org/2000/svg\" height=\"24px\"viewBox=\"0 0 24 24\"\n",
              "       width=\"24px\">\n",
              "    <path d=\"M0 0h24v24H0V0z\" fill=\"none\"/>\n",
              "    <path d=\"M18.56 5.44l.94 2.06.94-2.06 2.06-.94-2.06-.94-.94-2.06-.94 2.06-2.06.94zm-11 1L8.5 8.5l.94-2.06 2.06-.94-2.06-.94L8.5 2.5l-.94 2.06-2.06.94zm10 10l.94 2.06.94-2.06 2.06-.94-2.06-.94-.94-2.06-.94 2.06-2.06.94z\"/><path d=\"M17.41 7.96l-1.37-1.37c-.4-.4-.92-.59-1.43-.59-.52 0-1.04.2-1.43.59L10.3 9.45l-7.72 7.72c-.78.78-.78 2.05 0 2.83L4 21.41c.39.39.9.59 1.41.59.51 0 1.02-.2 1.41-.59l7.78-7.78 2.81-2.81c.8-.78.8-2.07 0-2.86zM5.41 20L4 18.59l7.72-7.72 1.47 1.35L5.41 20z\"/>\n",
              "  </svg>\n",
              "      </button>\n",
              "      \n",
              "  <style>\n",
              "    .colab-df-container {\n",
              "      display:flex;\n",
              "      flex-wrap:wrap;\n",
              "      gap: 12px;\n",
              "    }\n",
              "\n",
              "    .colab-df-convert {\n",
              "      background-color: #E8F0FE;\n",
              "      border: none;\n",
              "      border-radius: 50%;\n",
              "      cursor: pointer;\n",
              "      display: none;\n",
              "      fill: #1967D2;\n",
              "      height: 32px;\n",
              "      padding: 0 0 0 0;\n",
              "      width: 32px;\n",
              "    }\n",
              "\n",
              "    .colab-df-convert:hover {\n",
              "      background-color: #E2EBFA;\n",
              "      box-shadow: 0px 1px 2px rgba(60, 64, 67, 0.3), 0px 1px 3px 1px rgba(60, 64, 67, 0.15);\n",
              "      fill: #174EA6;\n",
              "    }\n",
              "\n",
              "    [theme=dark] .colab-df-convert {\n",
              "      background-color: #3B4455;\n",
              "      fill: #D2E3FC;\n",
              "    }\n",
              "\n",
              "    [theme=dark] .colab-df-convert:hover {\n",
              "      background-color: #434B5C;\n",
              "      box-shadow: 0px 1px 3px 1px rgba(0, 0, 0, 0.15);\n",
              "      filter: drop-shadow(0px 1px 2px rgba(0, 0, 0, 0.3));\n",
              "      fill: #FFFFFF;\n",
              "    }\n",
              "  </style>\n",
              "\n",
              "      <script>\n",
              "        const buttonEl =\n",
              "          document.querySelector('#df-79ba6950-a16e-4415-bc87-88a45ea5bcc4 button.colab-df-convert');\n",
              "        buttonEl.style.display =\n",
              "          google.colab.kernel.accessAllowed ? 'block' : 'none';\n",
              "\n",
              "        async function convertToInteractive(key) {\n",
              "          const element = document.querySelector('#df-79ba6950-a16e-4415-bc87-88a45ea5bcc4');\n",
              "          const dataTable =\n",
              "            await google.colab.kernel.invokeFunction('convertToInteractive',\n",
              "                                                     [key], {});\n",
              "          if (!dataTable) return;\n",
              "\n",
              "          const docLinkHtml = 'Like what you see? Visit the ' +\n",
              "            '<a target=\"_blank\" href=https://colab.research.google.com/notebooks/data_table.ipynb>data table notebook</a>'\n",
              "            + ' to learn more about interactive tables.';\n",
              "          element.innerHTML = '';\n",
              "          dataTable['output_type'] = 'display_data';\n",
              "          await google.colab.output.renderOutput(dataTable, element);\n",
              "          const docLink = document.createElement('div');\n",
              "          docLink.innerHTML = docLinkHtml;\n",
              "          element.appendChild(docLink);\n",
              "        }\n",
              "      </script>\n",
              "    </div>\n",
              "  </div>\n",
              "  "
            ]
          },
          "metadata": {},
          "execution_count": 55
        }
      ]
    },
    {
      "cell_type": "code",
      "source": [
        "df.info()"
      ],
      "metadata": {
        "colab": {
          "base_uri": "https://localhost:8080/"
        },
        "id": "VkNaOCL08ZrD",
        "outputId": "a269418f-1a92-4d80-995e-3c3bce1a246a"
      },
      "execution_count": null,
      "outputs": [
        {
          "output_type": "stream",
          "name": "stdout",
          "text": [
            "<class 'pandas.core.frame.DataFrame'>\n",
            "RangeIndex: 572 entries, 0 to 571\n",
            "Data columns (total 12 columns):\n",
            " #   Column             Non-Null Count  Dtype  \n",
            "---  ------             --------------  -----  \n",
            " 0   company            572 non-null    object \n",
            " 1   model_name         572 non-null    object \n",
            " 2   rating             572 non-null    float64\n",
            " 3   processor_name     572 non-null    object \n",
            " 4   processor_type     572 non-null    object \n",
            " 5   generation         572 non-null    int64  \n",
            " 6   ram(GB)            572 non-null    int64  \n",
            " 7   size(inch)         572 non-null    float64\n",
            " 8   price              572 non-null    float64\n",
            " 9   OS                 572 non-null    object \n",
            " 10  storage_1_sto(GB)  572 non-null    float64\n",
            " 11  storage_1_type     572 non-null    object \n",
            "dtypes: float64(4), int64(2), object(6)\n",
            "memory usage: 53.8+ KB\n"
          ]
        }
      ]
    },
    {
      "cell_type": "code",
      "source": [
        "df.describe()"
      ],
      "metadata": {
        "id": "le13zD8wTswK",
        "colab": {
          "base_uri": "https://localhost:8080/",
          "height": 300
        },
        "outputId": "757bdef3-b48a-4911-9ddb-8c80bbb09f9b"
      },
      "execution_count": null,
      "outputs": [
        {
          "output_type": "execute_result",
          "data": {
            "text/plain": [
              "           rating  generation     ram(GB)  size(inch)          price  \\\n",
              "count  572.000000  572.000000  572.000000  572.000000     572.000000   \n",
              "mean     4.247028   10.379371   10.111888   14.769231   94017.562937   \n",
              "std      0.366612    1.102994    5.106371    0.978829   52675.971444   \n",
              "min      1.700000    4.000000    4.000000   11.600000   21896.000000   \n",
              "25%      4.200000   10.000000    8.000000   14.000000   58476.500000   \n",
              "50%      4.300000   11.000000    8.000000   15.600000   80850.500000   \n",
              "75%      4.400000   11.000000   16.000000   15.600000  112242.500000   \n",
              "max      5.000000   11.000000   32.000000   17.300000  441990.000000   \n",
              "\n",
              "       storage_1_sto(GB)  \n",
              "count         572.000000  \n",
              "mean          273.645105  \n",
              "std           236.466246  \n",
              "min             1.000000  \n",
              "25%             1.000000  \n",
              "50%           256.000000  \n",
              "75%           512.000000  \n",
              "max           512.000000  "
            ],
            "text/html": [
              "\n",
              "  <div id=\"df-6bf3ccb9-c753-4fab-87ef-c41bf3e83ae0\">\n",
              "    <div class=\"colab-df-container\">\n",
              "      <div>\n",
              "<style scoped>\n",
              "    .dataframe tbody tr th:only-of-type {\n",
              "        vertical-align: middle;\n",
              "    }\n",
              "\n",
              "    .dataframe tbody tr th {\n",
              "        vertical-align: top;\n",
              "    }\n",
              "\n",
              "    .dataframe thead th {\n",
              "        text-align: right;\n",
              "    }\n",
              "</style>\n",
              "<table border=\"1\" class=\"dataframe\">\n",
              "  <thead>\n",
              "    <tr style=\"text-align: right;\">\n",
              "      <th></th>\n",
              "      <th>rating</th>\n",
              "      <th>generation</th>\n",
              "      <th>ram(GB)</th>\n",
              "      <th>size(inch)</th>\n",
              "      <th>price</th>\n",
              "      <th>storage_1_sto(GB)</th>\n",
              "    </tr>\n",
              "  </thead>\n",
              "  <tbody>\n",
              "    <tr>\n",
              "      <th>count</th>\n",
              "      <td>572.000000</td>\n",
              "      <td>572.000000</td>\n",
              "      <td>572.000000</td>\n",
              "      <td>572.000000</td>\n",
              "      <td>572.000000</td>\n",
              "      <td>572.000000</td>\n",
              "    </tr>\n",
              "    <tr>\n",
              "      <th>mean</th>\n",
              "      <td>4.247028</td>\n",
              "      <td>10.379371</td>\n",
              "      <td>10.111888</td>\n",
              "      <td>14.769231</td>\n",
              "      <td>94017.562937</td>\n",
              "      <td>273.645105</td>\n",
              "    </tr>\n",
              "    <tr>\n",
              "      <th>std</th>\n",
              "      <td>0.366612</td>\n",
              "      <td>1.102994</td>\n",
              "      <td>5.106371</td>\n",
              "      <td>0.978829</td>\n",
              "      <td>52675.971444</td>\n",
              "      <td>236.466246</td>\n",
              "    </tr>\n",
              "    <tr>\n",
              "      <th>min</th>\n",
              "      <td>1.700000</td>\n",
              "      <td>4.000000</td>\n",
              "      <td>4.000000</td>\n",
              "      <td>11.600000</td>\n",
              "      <td>21896.000000</td>\n",
              "      <td>1.000000</td>\n",
              "    </tr>\n",
              "    <tr>\n",
              "      <th>25%</th>\n",
              "      <td>4.200000</td>\n",
              "      <td>10.000000</td>\n",
              "      <td>8.000000</td>\n",
              "      <td>14.000000</td>\n",
              "      <td>58476.500000</td>\n",
              "      <td>1.000000</td>\n",
              "    </tr>\n",
              "    <tr>\n",
              "      <th>50%</th>\n",
              "      <td>4.300000</td>\n",
              "      <td>11.000000</td>\n",
              "      <td>8.000000</td>\n",
              "      <td>15.600000</td>\n",
              "      <td>80850.500000</td>\n",
              "      <td>256.000000</td>\n",
              "    </tr>\n",
              "    <tr>\n",
              "      <th>75%</th>\n",
              "      <td>4.400000</td>\n",
              "      <td>11.000000</td>\n",
              "      <td>16.000000</td>\n",
              "      <td>15.600000</td>\n",
              "      <td>112242.500000</td>\n",
              "      <td>512.000000</td>\n",
              "    </tr>\n",
              "    <tr>\n",
              "      <th>max</th>\n",
              "      <td>5.000000</td>\n",
              "      <td>11.000000</td>\n",
              "      <td>32.000000</td>\n",
              "      <td>17.300000</td>\n",
              "      <td>441990.000000</td>\n",
              "      <td>512.000000</td>\n",
              "    </tr>\n",
              "  </tbody>\n",
              "</table>\n",
              "</div>\n",
              "      <button class=\"colab-df-convert\" onclick=\"convertToInteractive('df-6bf3ccb9-c753-4fab-87ef-c41bf3e83ae0')\"\n",
              "              title=\"Convert this dataframe to an interactive table.\"\n",
              "              style=\"display:none;\">\n",
              "        \n",
              "  <svg xmlns=\"http://www.w3.org/2000/svg\" height=\"24px\"viewBox=\"0 0 24 24\"\n",
              "       width=\"24px\">\n",
              "    <path d=\"M0 0h24v24H0V0z\" fill=\"none\"/>\n",
              "    <path d=\"M18.56 5.44l.94 2.06.94-2.06 2.06-.94-2.06-.94-.94-2.06-.94 2.06-2.06.94zm-11 1L8.5 8.5l.94-2.06 2.06-.94-2.06-.94L8.5 2.5l-.94 2.06-2.06.94zm10 10l.94 2.06.94-2.06 2.06-.94-2.06-.94-.94-2.06-.94 2.06-2.06.94z\"/><path d=\"M17.41 7.96l-1.37-1.37c-.4-.4-.92-.59-1.43-.59-.52 0-1.04.2-1.43.59L10.3 9.45l-7.72 7.72c-.78.78-.78 2.05 0 2.83L4 21.41c.39.39.9.59 1.41.59.51 0 1.02-.2 1.41-.59l7.78-7.78 2.81-2.81c.8-.78.8-2.07 0-2.86zM5.41 20L4 18.59l7.72-7.72 1.47 1.35L5.41 20z\"/>\n",
              "  </svg>\n",
              "      </button>\n",
              "      \n",
              "  <style>\n",
              "    .colab-df-container {\n",
              "      display:flex;\n",
              "      flex-wrap:wrap;\n",
              "      gap: 12px;\n",
              "    }\n",
              "\n",
              "    .colab-df-convert {\n",
              "      background-color: #E8F0FE;\n",
              "      border: none;\n",
              "      border-radius: 50%;\n",
              "      cursor: pointer;\n",
              "      display: none;\n",
              "      fill: #1967D2;\n",
              "      height: 32px;\n",
              "      padding: 0 0 0 0;\n",
              "      width: 32px;\n",
              "    }\n",
              "\n",
              "    .colab-df-convert:hover {\n",
              "      background-color: #E2EBFA;\n",
              "      box-shadow: 0px 1px 2px rgba(60, 64, 67, 0.3), 0px 1px 3px 1px rgba(60, 64, 67, 0.15);\n",
              "      fill: #174EA6;\n",
              "    }\n",
              "\n",
              "    [theme=dark] .colab-df-convert {\n",
              "      background-color: #3B4455;\n",
              "      fill: #D2E3FC;\n",
              "    }\n",
              "\n",
              "    [theme=dark] .colab-df-convert:hover {\n",
              "      background-color: #434B5C;\n",
              "      box-shadow: 0px 1px 3px 1px rgba(0, 0, 0, 0.15);\n",
              "      filter: drop-shadow(0px 1px 2px rgba(0, 0, 0, 0.3));\n",
              "      fill: #FFFFFF;\n",
              "    }\n",
              "  </style>\n",
              "\n",
              "      <script>\n",
              "        const buttonEl =\n",
              "          document.querySelector('#df-6bf3ccb9-c753-4fab-87ef-c41bf3e83ae0 button.colab-df-convert');\n",
              "        buttonEl.style.display =\n",
              "          google.colab.kernel.accessAllowed ? 'block' : 'none';\n",
              "\n",
              "        async function convertToInteractive(key) {\n",
              "          const element = document.querySelector('#df-6bf3ccb9-c753-4fab-87ef-c41bf3e83ae0');\n",
              "          const dataTable =\n",
              "            await google.colab.kernel.invokeFunction('convertToInteractive',\n",
              "                                                     [key], {});\n",
              "          if (!dataTable) return;\n",
              "\n",
              "          const docLinkHtml = 'Like what you see? Visit the ' +\n",
              "            '<a target=\"_blank\" href=https://colab.research.google.com/notebooks/data_table.ipynb>data table notebook</a>'\n",
              "            + ' to learn more about interactive tables.';\n",
              "          element.innerHTML = '';\n",
              "          dataTable['output_type'] = 'display_data';\n",
              "          await google.colab.output.renderOutput(dataTable, element);\n",
              "          const docLink = document.createElement('div');\n",
              "          docLink.innerHTML = docLinkHtml;\n",
              "          element.appendChild(docLink);\n",
              "        }\n",
              "      </script>\n",
              "    </div>\n",
              "  </div>\n",
              "  "
            ]
          },
          "metadata": {},
          "execution_count": 57
        }
      ]
    },
    {
      "cell_type": "code",
      "source": [
        "df.corr()"
      ],
      "metadata": {
        "colab": {
          "base_uri": "https://localhost:8080/",
          "height": 237
        },
        "id": "UQ9TC_RwuKpk",
        "outputId": "6042b968-3340-4e58-a0a1-67d500c04598"
      },
      "execution_count": null,
      "outputs": [
        {
          "output_type": "execute_result",
          "data": {
            "text/plain": [
              "                     rating  generation   ram(GB)  size(inch)     price  \\\n",
              "rating             1.000000    0.181012  0.215530   -0.033881  0.212628   \n",
              "generation         0.181012    1.000000  0.198294    0.166068  0.115077   \n",
              "ram(GB)            0.215530    0.198294  1.000000   -0.005337  0.769241   \n",
              "size(inch)        -0.033881    0.166068 -0.005337    1.000000 -0.007368   \n",
              "price              0.212628    0.115077  0.769241   -0.007368  1.000000   \n",
              "storage_1_sto(GB)  0.169764    0.104607 -0.023930   -0.313765 -0.098005   \n",
              "\n",
              "                   storage_1_sto(GB)  \n",
              "rating                      0.169764  \n",
              "generation                  0.104607  \n",
              "ram(GB)                    -0.023930  \n",
              "size(inch)                 -0.313765  \n",
              "price                      -0.098005  \n",
              "storage_1_sto(GB)           1.000000  "
            ],
            "text/html": [
              "\n",
              "  <div id=\"df-f34823af-3802-48f7-bf8d-a387f79e19dc\">\n",
              "    <div class=\"colab-df-container\">\n",
              "      <div>\n",
              "<style scoped>\n",
              "    .dataframe tbody tr th:only-of-type {\n",
              "        vertical-align: middle;\n",
              "    }\n",
              "\n",
              "    .dataframe tbody tr th {\n",
              "        vertical-align: top;\n",
              "    }\n",
              "\n",
              "    .dataframe thead th {\n",
              "        text-align: right;\n",
              "    }\n",
              "</style>\n",
              "<table border=\"1\" class=\"dataframe\">\n",
              "  <thead>\n",
              "    <tr style=\"text-align: right;\">\n",
              "      <th></th>\n",
              "      <th>rating</th>\n",
              "      <th>generation</th>\n",
              "      <th>ram(GB)</th>\n",
              "      <th>size(inch)</th>\n",
              "      <th>price</th>\n",
              "      <th>storage_1_sto(GB)</th>\n",
              "    </tr>\n",
              "  </thead>\n",
              "  <tbody>\n",
              "    <tr>\n",
              "      <th>rating</th>\n",
              "      <td>1.000000</td>\n",
              "      <td>0.181012</td>\n",
              "      <td>0.215530</td>\n",
              "      <td>-0.033881</td>\n",
              "      <td>0.212628</td>\n",
              "      <td>0.169764</td>\n",
              "    </tr>\n",
              "    <tr>\n",
              "      <th>generation</th>\n",
              "      <td>0.181012</td>\n",
              "      <td>1.000000</td>\n",
              "      <td>0.198294</td>\n",
              "      <td>0.166068</td>\n",
              "      <td>0.115077</td>\n",
              "      <td>0.104607</td>\n",
              "    </tr>\n",
              "    <tr>\n",
              "      <th>ram(GB)</th>\n",
              "      <td>0.215530</td>\n",
              "      <td>0.198294</td>\n",
              "      <td>1.000000</td>\n",
              "      <td>-0.005337</td>\n",
              "      <td>0.769241</td>\n",
              "      <td>-0.023930</td>\n",
              "    </tr>\n",
              "    <tr>\n",
              "      <th>size(inch)</th>\n",
              "      <td>-0.033881</td>\n",
              "      <td>0.166068</td>\n",
              "      <td>-0.005337</td>\n",
              "      <td>1.000000</td>\n",
              "      <td>-0.007368</td>\n",
              "      <td>-0.313765</td>\n",
              "    </tr>\n",
              "    <tr>\n",
              "      <th>price</th>\n",
              "      <td>0.212628</td>\n",
              "      <td>0.115077</td>\n",
              "      <td>0.769241</td>\n",
              "      <td>-0.007368</td>\n",
              "      <td>1.000000</td>\n",
              "      <td>-0.098005</td>\n",
              "    </tr>\n",
              "    <tr>\n",
              "      <th>storage_1_sto(GB)</th>\n",
              "      <td>0.169764</td>\n",
              "      <td>0.104607</td>\n",
              "      <td>-0.023930</td>\n",
              "      <td>-0.313765</td>\n",
              "      <td>-0.098005</td>\n",
              "      <td>1.000000</td>\n",
              "    </tr>\n",
              "  </tbody>\n",
              "</table>\n",
              "</div>\n",
              "      <button class=\"colab-df-convert\" onclick=\"convertToInteractive('df-f34823af-3802-48f7-bf8d-a387f79e19dc')\"\n",
              "              title=\"Convert this dataframe to an interactive table.\"\n",
              "              style=\"display:none;\">\n",
              "        \n",
              "  <svg xmlns=\"http://www.w3.org/2000/svg\" height=\"24px\"viewBox=\"0 0 24 24\"\n",
              "       width=\"24px\">\n",
              "    <path d=\"M0 0h24v24H0V0z\" fill=\"none\"/>\n",
              "    <path d=\"M18.56 5.44l.94 2.06.94-2.06 2.06-.94-2.06-.94-.94-2.06-.94 2.06-2.06.94zm-11 1L8.5 8.5l.94-2.06 2.06-.94-2.06-.94L8.5 2.5l-.94 2.06-2.06.94zm10 10l.94 2.06.94-2.06 2.06-.94-2.06-.94-.94-2.06-.94 2.06-2.06.94z\"/><path d=\"M17.41 7.96l-1.37-1.37c-.4-.4-.92-.59-1.43-.59-.52 0-1.04.2-1.43.59L10.3 9.45l-7.72 7.72c-.78.78-.78 2.05 0 2.83L4 21.41c.39.39.9.59 1.41.59.51 0 1.02-.2 1.41-.59l7.78-7.78 2.81-2.81c.8-.78.8-2.07 0-2.86zM5.41 20L4 18.59l7.72-7.72 1.47 1.35L5.41 20z\"/>\n",
              "  </svg>\n",
              "      </button>\n",
              "      \n",
              "  <style>\n",
              "    .colab-df-container {\n",
              "      display:flex;\n",
              "      flex-wrap:wrap;\n",
              "      gap: 12px;\n",
              "    }\n",
              "\n",
              "    .colab-df-convert {\n",
              "      background-color: #E8F0FE;\n",
              "      border: none;\n",
              "      border-radius: 50%;\n",
              "      cursor: pointer;\n",
              "      display: none;\n",
              "      fill: #1967D2;\n",
              "      height: 32px;\n",
              "      padding: 0 0 0 0;\n",
              "      width: 32px;\n",
              "    }\n",
              "\n",
              "    .colab-df-convert:hover {\n",
              "      background-color: #E2EBFA;\n",
              "      box-shadow: 0px 1px 2px rgba(60, 64, 67, 0.3), 0px 1px 3px 1px rgba(60, 64, 67, 0.15);\n",
              "      fill: #174EA6;\n",
              "    }\n",
              "\n",
              "    [theme=dark] .colab-df-convert {\n",
              "      background-color: #3B4455;\n",
              "      fill: #D2E3FC;\n",
              "    }\n",
              "\n",
              "    [theme=dark] .colab-df-convert:hover {\n",
              "      background-color: #434B5C;\n",
              "      box-shadow: 0px 1px 3px 1px rgba(0, 0, 0, 0.15);\n",
              "      filter: drop-shadow(0px 1px 2px rgba(0, 0, 0, 0.3));\n",
              "      fill: #FFFFFF;\n",
              "    }\n",
              "  </style>\n",
              "\n",
              "      <script>\n",
              "        const buttonEl =\n",
              "          document.querySelector('#df-f34823af-3802-48f7-bf8d-a387f79e19dc button.colab-df-convert');\n",
              "        buttonEl.style.display =\n",
              "          google.colab.kernel.accessAllowed ? 'block' : 'none';\n",
              "\n",
              "        async function convertToInteractive(key) {\n",
              "          const element = document.querySelector('#df-f34823af-3802-48f7-bf8d-a387f79e19dc');\n",
              "          const dataTable =\n",
              "            await google.colab.kernel.invokeFunction('convertToInteractive',\n",
              "                                                     [key], {});\n",
              "          if (!dataTable) return;\n",
              "\n",
              "          const docLinkHtml = 'Like what you see? Visit the ' +\n",
              "            '<a target=\"_blank\" href=https://colab.research.google.com/notebooks/data_table.ipynb>data table notebook</a>'\n",
              "            + ' to learn more about interactive tables.';\n",
              "          element.innerHTML = '';\n",
              "          dataTable['output_type'] = 'display_data';\n",
              "          await google.colab.output.renderOutput(dataTable, element);\n",
              "          const docLink = document.createElement('div');\n",
              "          docLink.innerHTML = docLinkHtml;\n",
              "          element.appendChild(docLink);\n",
              "        }\n",
              "      </script>\n",
              "    </div>\n",
              "  </div>\n",
              "  "
            ]
          },
          "metadata": {},
          "execution_count": 58
        }
      ]
    },
    {
      "cell_type": "code",
      "source": [
        "df['processor_name'].unique()"
      ],
      "metadata": {
        "colab": {
          "base_uri": "https://localhost:8080/"
        },
        "id": "1k5q1c5LwkPr",
        "outputId": "b50a1bc3-5c11-4b02-de8f-4b61ec36d88c"
      },
      "execution_count": null,
      "outputs": [
        {
          "output_type": "execute_result",
          "data": {
            "text/plain": [
              "array(['Intel', 'AMD', 'Apple'], dtype=object)"
            ]
          },
          "metadata": {},
          "execution_count": 59
        }
      ]
    },
    {
      "cell_type": "markdown",
      "source": [
        "##**Exploratory Data Analysis EDA**"
      ],
      "metadata": {
        "id": "nyeDTcWkUEPF"
      }
    },
    {
      "cell_type": "code",
      "source": [
        "#most frequent brand\n",
        "ax  = plt.subplots(figsize=(10,5))\n",
        "ax=sns.countplot(x='company', data=df, palette='mako_r', order = df['company'].value_counts().index)\n",
        "ax.set_xticklabels(ax.get_xticklabels(), rotation=70)\n",
        "plt.title('Number of laptops by brands')\n",
        "plt.show()"
      ],
      "metadata": {
        "colab": {
          "base_uri": "https://localhost:8080/",
          "height": 398
        },
        "id": "u3L8xymfTsr2",
        "outputId": "8cda641b-edf7-48a1-c5aa-f0183dbe95a7"
      },
      "execution_count": null,
      "outputs": [
        {
          "output_type": "display_data",
          "data": {
            "image/png": "[encoded data removed]",
            "text/plain": [
              "<Figure size 720x360 with 1 Axes>"
            ]
          },
          "metadata": {
            "needs_background": "light"
          }
        }
      ]
    },
    {
      "cell_type": "markdown",
      "source": [
        "Most of laptops are from ASUS,LENOVO,HP"
      ],
      "metadata": {
        "id": "sSzh6vKpIy2P"
      }
    },
    {
      "cell_type": "code",
      "source": [
        "#Most freqent model\n",
        "ax  = plt.subplots(figsize=(16,9))\n",
        "ax=sns.countplot(x='model_name', data=df,palette='mako_r', order = df['model_name'].value_counts().index)\n",
        "ax.set_xticklabels(ax.get_xticklabels(), rotation=90);\n",
        "plt.title('Laptop types')\n",
        "plt.show()"
      ],
      "metadata": {
        "colab": {
          "base_uri": "https://localhost:8080/",
          "height": 625
        },
        "id": "NVyswEL2SMZd",
        "outputId": "3eb91b07-ba7f-4c37-9a13-3d7655a206a4"
      },
      "execution_count": null,
      "outputs": [
        {
          "output_type": "display_data",
          "data": {
            "image/png": "[encoded data removed]",
            "text/plain": [
              "<Figure size 1152x648 with 1 Axes>"
            ]
          },
          "metadata": {
            "needs_background": "light"
          }
        }
      ]
    },
    {
      "cell_type": "markdown",
      "source": [
        "Most frequent models are Inspiron,IdeaPad,Vivobook"
      ],
      "metadata": {
        "id": "RQgvyVESJOnr"
      }
    },
    {
      "cell_type": "code",
      "source": [
        "#Most popular size\n",
        "ax  = plt.subplots(figsize=(10,5))\n",
        "ax=sns.countplot(x='size(inch)', data=df, palette='viridis_r')\n",
        "ax.set_xticklabels(ax.get_xticklabels(), rotation=450);\n",
        "plt.title('Laptop screen size (inches)')\n",
        "plt.show()"
      ],
      "metadata": {
        "colab": {
          "base_uri": "https://localhost:8080/",
          "height": 362
        },
        "id": "HcKyACkWWHfM",
        "outputId": "ef5b151b-d4ee-44b0-a4ea-68ccec13ccdd"
      },
      "execution_count": null,
      "outputs": [
        {
          "output_type": "display_data",
          "data": {
            "image/png": "[encoded data removed]",
            "text/plain": [
              "<Figure size 720x360 with 1 Axes>"
            ]
          },
          "metadata": {
            "needs_background": "light"
          }
        }
      ]
    },
    {
      "cell_type": "markdown",
      "source": [
        "Most laptops have 15.6 inches"
      ],
      "metadata": {
        "id": "fOGjArWJJ8EG"
      }
    },
    {
      "cell_type": "code",
      "source": [
        "#Custom functions to improve plot readability:\n",
        "def num_plot(df, col, title, symb):\n",
        "    fig, ax = plt.subplots(2, 1, sharex=True, figsize=(8,5),gridspec_kw={\"height_ratios\": (.2, .8)})\n",
        "    ax[0].set_title(title,fontsize=18)\n",
        "    sns.boxplot(x=col, data=df, ax=ax[0])\n",
        "    ax[0].set(yticks=[])\n",
        "    sns.histplot(x=col, data=df, ax=ax[1])\n",
        "    ax[1].set_xlabel(col, fontsize=16)\n",
        "    plt.axvline(df[col].mean(), color='darkgreen', linewidth=2.2, label='mean=' + str(np.round(df[col].mean(),1)) + symb)\n",
        "    plt.axvline(df[col].median(), color='red', linewidth=2.2, label='median='+ str(np.round(df[col].median(),1)) + symb)\n",
        "    plt.axvline(df[col].mode()[0], color='purple', linewidth=2.2, label='mode='+ str(df[col].mode()[0]) + symb)\n",
        "    plt.legend(bbox_to_anchor=(1, 1.03), ncol=1, fontsize=17, fancybox=True, shadow=True, frameon=True)\n",
        "    plt.tight_layout()\n",
        "    plt.show()"
      ],
      "metadata": {
        "id": "Sfa-jYL3ZXNQ"
      },
      "execution_count": null,
      "outputs": []
    },
    {
      "cell_type": "code",
      "source": [
        "ax=plt.subplots(figsize=(12,8))\n",
        "sns.boxplot(x='model_name', y='price', data=df[df['price']>200000], hue='processor_name')"
      ],
      "metadata": {
        "colab": {
          "base_uri": "https://localhost:8080/",
          "height": 515
        },
        "id": "JpZOWyWemeAD",
        "outputId": "d26032c0-d05d-494c-f302-ac62bb312657"
      },
      "execution_count": null,
      "outputs": [
        {
          "output_type": "execute_result",
          "data": {
            "text/plain": [
              "<matplotlib.axes._subplots.AxesSubplot at 0x7f835f295d50>"
            ]
          },
          "metadata": {},
          "execution_count": 73
        },
        {
          "output_type": "display_data",
          "data": {
            "image/png": "[encoded data removed]",
            "text/plain": [
              "<Figure size 864x576 with 1 Axes>"
            ]
          },
          "metadata": {
            "needs_background": "light"
          }
        }
      ]
    },
    {
      "cell_type": "markdown",
      "source": [
        "Most of the laptops with price more than 200000 are Zephyrus,Core and Legion with Intel CPU and ROG with AMD CPU"
      ],
      "metadata": {
        "id": "MRWCjwKtozyF"
      }
    },
    {
      "cell_type": "code",
      "source": [
        "df[df['price']>300000]"
      ],
      "metadata": {
        "colab": {
          "base_uri": "https://localhost:8080/",
          "height": 238
        },
        "id": "rTciHyQsnT8M",
        "outputId": "c752e428-6ec6-419c-ae93-aa4608b1103b"
      },
      "execution_count": null,
      "outputs": [
        {
          "output_type": "execute_result",
          "data": {
            "text/html": [
              "\n",
              "  <div id=\"df-a7a76db7-ffe7-404e-b55f-9b7287b3324e\">\n",
              "    <div class=\"colab-df-container\">\n",
              "      <div>\n",
              "<style scoped>\n",
              "    .dataframe tbody tr th:only-of-type {\n",
              "        vertical-align: middle;\n",
              "    }\n",
              "\n",
              "    .dataframe tbody tr th {\n",
              "        vertical-align: top;\n",
              "    }\n",
              "\n",
              "    .dataframe thead th {\n",
              "        text-align: right;\n",
              "    }\n",
              "</style>\n",
              "<table border=\"1\" class=\"dataframe\">\n",
              "  <thead>\n",
              "    <tr style=\"text-align: right;\">\n",
              "      <th></th>\n",
              "      <th>company</th>\n",
              "      <th>model_name</th>\n",
              "      <th>rating</th>\n",
              "      <th>processor_name</th>\n",
              "      <th>processor_type</th>\n",
              "      <th>generation</th>\n",
              "      <th>ram(GB)</th>\n",
              "      <th>size(inch)</th>\n",
              "      <th>price</th>\n",
              "      <th>OS</th>\n",
              "      <th>storage_1_sto(GB)</th>\n",
              "      <th>storage_1_type</th>\n",
              "    </tr>\n",
              "  </thead>\n",
              "  <tbody>\n",
              "    <tr>\n",
              "      <th>131</th>\n",
              "      <td>ASUS</td>\n",
              "      <td>Zephyrus</td>\n",
              "      <td>4.3</td>\n",
              "      <td>Intel</td>\n",
              "      <td>Corei9</td>\n",
              "      <td>11</td>\n",
              "      <td>32</td>\n",
              "      <td>17.3</td>\n",
              "      <td>441990.0</td>\n",
              "      <td>Windows</td>\n",
              "      <td>3.0</td>\n",
              "      <td>TBSSD</td>\n",
              "    </tr>\n",
              "    <tr>\n",
              "      <th>294</th>\n",
              "      <td>Lenovo</td>\n",
              "      <td>Legion</td>\n",
              "      <td>4.3</td>\n",
              "      <td>Intel</td>\n",
              "      <td>Corei7</td>\n",
              "      <td>10</td>\n",
              "      <td>16</td>\n",
              "      <td>15.6</td>\n",
              "      <td>349890.0</td>\n",
              "      <td>Windows</td>\n",
              "      <td>1.0</td>\n",
              "      <td>TBSSD</td>\n",
              "    </tr>\n",
              "    <tr>\n",
              "      <th>328</th>\n",
              "      <td>ASUS</td>\n",
              "      <td>ROG</td>\n",
              "      <td>4.3</td>\n",
              "      <td>Intel</td>\n",
              "      <td>Corei7</td>\n",
              "      <td>10</td>\n",
              "      <td>32</td>\n",
              "      <td>15.6</td>\n",
              "      <td>324990.0</td>\n",
              "      <td>Windows</td>\n",
              "      <td>1.0</td>\n",
              "      <td>TBSSD</td>\n",
              "    </tr>\n",
              "    <tr>\n",
              "      <th>380</th>\n",
              "      <td>ASUS</td>\n",
              "      <td>Core</td>\n",
              "      <td>5.0</td>\n",
              "      <td>Intel</td>\n",
              "      <td>Corei9</td>\n",
              "      <td>10</td>\n",
              "      <td>32</td>\n",
              "      <td>15.6</td>\n",
              "      <td>326990.0</td>\n",
              "      <td>Windows</td>\n",
              "      <td>1.0</td>\n",
              "      <td>TBSSD</td>\n",
              "    </tr>\n",
              "    <tr>\n",
              "      <th>410</th>\n",
              "      <td>ASUS</td>\n",
              "      <td>ROG</td>\n",
              "      <td>4.3</td>\n",
              "      <td>AMD</td>\n",
              "      <td>Ryzen9</td>\n",
              "      <td>11</td>\n",
              "      <td>32</td>\n",
              "      <td>13.4</td>\n",
              "      <td>350990.0</td>\n",
              "      <td>Windows</td>\n",
              "      <td>1.0</td>\n",
              "      <td>TBSSD</td>\n",
              "    </tr>\n",
              "    <tr>\n",
              "      <th>556</th>\n",
              "      <td>Lenovo</td>\n",
              "      <td>Core</td>\n",
              "      <td>4.3</td>\n",
              "      <td>Intel</td>\n",
              "      <td>Corei9</td>\n",
              "      <td>10</td>\n",
              "      <td>16</td>\n",
              "      <td>15.6</td>\n",
              "      <td>349890.0</td>\n",
              "      <td>Windows</td>\n",
              "      <td>1.0</td>\n",
              "      <td>TBSSD</td>\n",
              "    </tr>\n",
              "  </tbody>\n",
              "</table>\n",
              "</div>\n",
              "      <button class=\"colab-df-convert\" onclick=\"convertToInteractive('df-a7a76db7-ffe7-404e-b55f-9b7287b3324e')\"\n",
              "              title=\"Convert this dataframe to an interactive table.\"\n",
              "              style=\"display:none;\">\n",
              "        \n",
              "  <svg xmlns=\"http://www.w3.org/2000/svg\" height=\"24px\"viewBox=\"0 0 24 24\"\n",
              "       width=\"24px\">\n",
              "    <path d=\"M0 0h24v24H0V0z\" fill=\"none\"/>\n",
              "    <path d=\"M18.56 5.44l.94 2.06.94-2.06 2.06-.94-2.06-.94-.94-2.06-.94 2.06-2.06.94zm-11 1L8.5 8.5l.94-2.06 2.06-.94-2.06-.94L8.5 2.5l-.94 2.06-2.06.94zm10 10l.94 2.06.94-2.06 2.06-.94-2.06-.94-.94-2.06-.94 2.06-2.06.94z\"/><path d=\"M17.41 7.96l-1.37-1.37c-.4-.4-.92-.59-1.43-.59-.52 0-1.04.2-1.43.59L10.3 9.45l-7.72 7.72c-.78.78-.78 2.05 0 2.83L4 21.41c.39.39.9.59 1.41.59.51 0 1.02-.2 1.41-.59l7.78-7.78 2.81-2.81c.8-.78.8-2.07 0-2.86zM5.41 20L4 18.59l7.72-7.72 1.47 1.35L5.41 20z\"/>\n",
              "  </svg>\n",
              "      </button>\n",
              "      \n",
              "  <style>\n",
              "    .colab-df-container {\n",
              "      display:flex;\n",
              "      flex-wrap:wrap;\n",
              "      gap: 12px;\n",
              "    }\n",
              "\n",
              "    .colab-df-convert {\n",
              "      background-color: #E8F0FE;\n",
              "      border: none;\n",
              "      border-radius: 50%;\n",
              "      cursor: pointer;\n",
              "      display: none;\n",
              "      fill: #1967D2;\n",
              "      height: 32px;\n",
              "      padding: 0 0 0 0;\n",
              "      width: 32px;\n",
              "    }\n",
              "\n",
              "    .colab-df-convert:hover {\n",
              "      background-color: #E2EBFA;\n",
              "      box-shadow: 0px 1px 2px rgba(60, 64, 67, 0.3), 0px 1px 3px 1px rgba(60, 64, 67, 0.15);\n",
              "      fill: #174EA6;\n",
              "    }\n",
              "\n",
              "    [theme=dark] .colab-df-convert {\n",
              "      background-color: #3B4455;\n",
              "      fill: #D2E3FC;\n",
              "    }\n",
              "\n",
              "    [theme=dark] .colab-df-convert:hover {\n",
              "      background-color: #434B5C;\n",
              "      box-shadow: 0px 1px 3px 1px rgba(0, 0, 0, 0.15);\n",
              "      filter: drop-shadow(0px 1px 2px rgba(0, 0, 0, 0.3));\n",
              "      fill: #FFFFFF;\n",
              "    }\n",
              "  </style>\n",
              "\n",
              "      <script>\n",
              "        const buttonEl =\n",
              "          document.querySelector('#df-a7a76db7-ffe7-404e-b55f-9b7287b3324e button.colab-df-convert');\n",
              "        buttonEl.style.display =\n",
              "          google.colab.kernel.accessAllowed ? 'block' : 'none';\n",
              "\n",
              "        async function convertToInteractive(key) {\n",
              "          const element = document.querySelector('#df-a7a76db7-ffe7-404e-b55f-9b7287b3324e');\n",
              "          const dataTable =\n",
              "            await google.colab.kernel.invokeFunction('convertToInteractive',\n",
              "                                                     [key], {});\n",
              "          if (!dataTable) return;\n",
              "\n",
              "          const docLinkHtml = 'Like what you see? Visit the ' +\n",
              "            '<a target=\"_blank\" href=https://colab.research.google.com/notebooks/data_table.ipynb>data table notebook</a>'\n",
              "            + ' to learn more about interactive tables.';\n",
              "          element.innerHTML = '';\n",
              "          dataTable['output_type'] = 'display_data';\n",
              "          await google.colab.output.renderOutput(dataTable, element);\n",
              "          const docLink = document.createElement('div');\n",
              "          docLink.innerHTML = docLinkHtml;\n",
              "          element.appendChild(docLink);\n",
              "        }\n",
              "      </script>\n",
              "    </div>\n",
              "  </div>\n",
              "  "
            ],
            "text/plain": [
              "    company model_name  rating  ...       OS storage_1_sto(GB)  storage_1_type\n",
              "131    ASUS   Zephyrus     4.3  ...  Windows               3.0           TBSSD\n",
              "294  Lenovo     Legion     4.3  ...  Windows               1.0           TBSSD\n",
              "328    ASUS        ROG     4.3  ...  Windows               1.0           TBSSD\n",
              "380    ASUS       Core     5.0  ...  Windows               1.0           TBSSD\n",
              "410    ASUS        ROG     4.3  ...  Windows               1.0           TBSSD\n",
              "556  Lenovo       Core     4.3  ...  Windows               1.0           TBSSD\n",
              "\n",
              "[6 rows x 12 columns]"
            ]
          },
          "metadata": {},
          "execution_count": 74
        }
      ]
    },
    {
      "cell_type": "markdown",
      "source": [
        "The expensive laptop is ASUS Zephyrus with Intel Corei9 11thGeneration"
      ],
      "metadata": {
        "id": "h_IiPn1dp1_I"
      }
    },
    {
      "cell_type": "code",
      "source": [
        "num_plot(df, 'ram(GB)','RAM distribution','GB')"
      ],
      "metadata": {
        "colab": {
          "base_uri": "https://localhost:8080/",
          "height": 369
        },
        "id": "q0S8ZHMRpm_4",
        "outputId": "08b16392-4678-4826-be74-11d2bcb9f181"
      },
      "execution_count": null,
      "outputs": [
        {
          "output_type": "display_data",
          "data": {
            "image/png": "[encoded data removed]",
            "text/plain": [
              "<Figure size 576x360 with 2 Axes>"
            ]
          },
          "metadata": {
            "needs_background": "light"
          }
        }
      ]
    },
    {
      "cell_type": "markdown",
      "source": [
        "Most laptops have 8GB ram, which is optimal for Students,Casual users. 8GB is almost sufficient for normal games.However for high end gaming,gamers preffered ram is 16gb or 32gb"
      ],
      "metadata": {
        "id": "T2tuquneqiPs"
      }
    },
    {
      "cell_type": "code",
      "source": [
        "ax  = plt.subplots(figsize=(8,5))\n",
        "ax=sns.countplot(x='storage_1_sto(GB)', data=df, hue='storage_1_type')\n",
        "ax.set_xticklabels(ax.get_xticklabels(), rotation=90)\n",
        "ax.set_xlabel('First Hard Drive memory storage (GB)')\n",
        "plt.title('First Hard Drive Capacity Distribution')\n",
        "plt.legend(loc='upper left', ncol=1, fontsize=15, fancybox=True, shadow=True, frameon=True)\n",
        "plt.show()"
      ],
      "metadata": {
        "colab": {
          "base_uri": "https://localhost:8080/",
          "height": 368
        },
        "id": "-2s1K23cqUtC",
        "outputId": "d07f6d13-ba68-40dc-ca95-e3c78be1722a"
      },
      "execution_count": null,
      "outputs": [
        {
          "output_type": "display_data",
          "data": {
            "image/png": "[encoded data removed]",
            "text/plain": [
              "<Figure size 576x360 with 1 Axes>"
            ]
          },
          "metadata": {
            "needs_background": "light"
          }
        }
      ]
    },
    {
      "cell_type": "markdown",
      "source": [
        "Most PCs have 512 ssd which is for the most part ssd, for storage of 1 TB most of them are HDD."
      ],
      "metadata": {
        "id": "BKt0B2B2zRvX"
      }
    },
    {
      "cell_type": "code",
      "source": [
        "def lr_plot(df, col_x, col_y, leg):\n",
        "    slope, intercept, r_value, p_value, std_err = stats.linregress(df[col_x],df[col_y])\n",
        "    sns.regplot(x=col_x, y = col_y, data=df, color='#0d98ba', line_kws={'label':\"y={0:.1f}x+{1:.1f}\".format(slope,intercept)})\n",
        "    plt.legend(loc=leg, ncol=1, fontsize=15, fancybox=True, shadow=True, frameon=True)\n",
        "    plt.title(col_y + ' VS ' + col_x)\n",
        "    plt.show()\n",
        "\n",
        "    return slope, intercept"
      ],
      "metadata": {
        "id": "39R8dM-xy324"
      },
      "execution_count": null,
      "outputs": []
    },
    {
      "cell_type": "code",
      "source": [
        "slope, intercept = lr_plot(df,'ram(GB)','price', 'lower right')"
      ],
      "metadata": {
        "colab": {
          "base_uri": "https://localhost:8080/",
          "height": 295
        },
        "id": "BcqGB5aGCDwe",
        "outputId": "7ee2c8e3-f052-4f96-eb2d-573fc080a19e"
      },
      "execution_count": null,
      "outputs": [
        {
          "output_type": "display_data",
          "data": {
            "image/png": "[encoded data removed]",
            "text/plain": [
              "<Figure size 432x288 with 1 Axes>"
            ]
          },
          "metadata": {
            "needs_background": "light"
          }
        }
      ]
    },
    {
      "cell_type": "markdown",
      "source": [
        "According to the slope, every GB of RAM added on the PC adds roughly 7898₹ to the laptop value."
      ],
      "metadata": {
        "id": "EtWskfuxD7Wr"
      }
    },
    {
      "cell_type": "code",
      "source": [
        "slope, intercept = lr_plot(df,'generation','price', 'upper left')"
      ],
      "metadata": {
        "colab": {
          "base_uri": "https://localhost:8080/",
          "height": 295
        },
        "id": "XxGeRapcCGW9",
        "outputId": "d1f7f894-0906-4eea-c853-26139f5df5a3"
      },
      "execution_count": null,
      "outputs": [
        {
          "output_type": "display_data",
          "data": {
            "image/png": "[encoded data removed]",
            "text/plain": [
              "<Figure size 432x288 with 1 Axes>"
            ]
          },
          "metadata": {
            "needs_background": "light"
          }
        }
      ]
    },
    {
      "cell_type": "markdown",
      "source": [
        "According to the slop, the PC adds 6138₹ to the laptop when the generation increases"
      ],
      "metadata": {
        "id": "u5yts_os9hnU"
      }
    },
    {
      "cell_type": "code",
      "source": [
        "cpu_palette = {'Intel':'#0d98ba', 'AMD':'#FF0000', 'Apple':'#46C646'}\n",
        "fig, ax = plt.subplots(figsize=(6,5))\n",
        "sns.boxplot(x='processor_name', y='price', data=df,palette=cpu_palette)\n",
        "ax.set_title('Price vs CPU brand ')\n",
        "plt.ylabel('price ($)')\n",
        "plt.legend(loc='upper right', ncol=1, fontsize=15, fancybox=True, shadow=True, frameon=True)\n",
        "plt.title('Price VS CPU brand')\n",
        "plt.show()"
      ],
      "metadata": {
        "colab": {
          "base_uri": "https://localhost:8080/",
          "height": 367
        },
        "id": "Adszrl2GGH3E",
        "outputId": "a7150710-90ac-4611-9ec6-2f6268abb404"
      },
      "execution_count": null,
      "outputs": [
        {
          "output_type": "stream",
          "name": "stderr",
          "text": [
            "No handles with labels found to put in legend.\n"
          ]
        },
        {
          "output_type": "display_data",
          "data": {
            "image/png": "[encoded data removed]",
            "text/plain": [
              "<Figure size 432x360 with 1 Axes>"
            ]
          },
          "metadata": {
            "needs_background": "light"
          }
        }
      ]
    },
    {
      "cell_type": "markdown",
      "source": [
        "Laptop with Intel CPUs are more expensive\n",
        "\n",
        "\n"
      ],
      "metadata": {
        "id": "HntaFByuAVIS"
      }
    },
    {
      "cell_type": "code",
      "source": [
        "cpu_list = df['processor_type'].value_counts()[:15].index.tolist()"
      ],
      "metadata": {
        "id": "xODr3H6o-7uV"
      },
      "execution_count": null,
      "outputs": []
    },
    {
      "cell_type": "code",
      "source": [
        "#Top 15 common CPU\n",
        "plt.figure(figsize=(8,6))\n",
        "ax=sns.countplot(x='processor_type', data=df[df['processor_type'].isin(cpu_list)], order = cpu_list, palette='viridis')\n",
        "plt.xticks(rotation=80);\n",
        "plt.title('TOP 15 common CPUs')\n",
        "plt.xlabel('')\n",
        "plt.show()\n"
      ],
      "metadata": {
        "colab": {
          "base_uri": "https://localhost:8080/",
          "height": 448
        },
        "id": "NvWopgVqBQFa",
        "outputId": "e3107e5a-a273-428b-cb42-5e9bec48882e"
      },
      "execution_count": null,
      "outputs": [
        {
          "output_type": "display_data",
          "data": {
            "image/png": "[encoded data removed]",
            "text/plain": [
              "<Figure size 576x432 with 1 Axes>"
            ]
          },
          "metadata": {
            "needs_background": "light"
          }
        }
      ]
    },
    {
      "cell_type": "markdown",
      "source": [
        "The most common CPU is corei5,second is corei3 and third is corei7"
      ],
      "metadata": {
        "id": "-tdpWYjACMFI"
      }
    },
    {
      "cell_type": "code",
      "source": [
        "df['company'].value_counts()"
      ],
      "metadata": {
        "colab": {
          "base_uri": "https://localhost:8080/"
        },
        "id": "VWBmITZOBvFi",
        "outputId": "b9c7a30b-c891-4977-c5a4-b2a10f7d7c08"
      },
      "execution_count": null,
      "outputs": [
        {
          "output_type": "execute_result",
          "data": {
            "text/plain": [
              "ASUS         145\n",
              "Lenovo       109\n",
              "HP            90\n",
              "DELL          76\n",
              "acer          33\n",
              "MSI           20\n",
              "APPLE          7\n",
              "Nokia          3\n",
              "Avita          2\n",
              "Smartron       2\n",
              "MICROSOFT      2\n",
              "Mi             1\n",
              "ALIENWARE      1\n",
              "RedmiBook      1\n",
              "Nexstgo        1\n",
              "Vaio           1\n",
              "realme         1\n",
              "Infinix        1\n",
              "LG             1\n",
              "Name: company, dtype: int64"
            ]
          },
          "metadata": {},
          "execution_count": 86
        }
      ]
    },
    {
      "cell_type": "code",
      "source": [
        "#Considering laptops with atleast 5 laptops in dataset\n",
        "company_list = df['company'].value_counts().index[:7].tolist()\n",
        "company_list"
      ],
      "metadata": {
        "colab": {
          "base_uri": "https://localhost:8080/"
        },
        "id": "390XT35wEJup",
        "outputId": "cc6ff895-ed80-47be-fd37-35f155f72f7e"
      },
      "execution_count": null,
      "outputs": [
        {
          "output_type": "execute_result",
          "data": {
            "text/plain": [
              "['ASUS', 'Lenovo', 'HP', 'DELL', 'acer', 'MSI', 'APPLE']"
            ]
          },
          "metadata": {},
          "execution_count": 87
        }
      ]
    },
    {
      "cell_type": "code",
      "source": [
        "plt.figure(figsize=(9,5))\n",
        "ax=sns.barplot(x='company', y='price', data=df[df['company'].isin(company_list)],\n",
        "                order=company_list, \n",
        "                palette='Spectral', \n",
        "                ci=False,\n",
        "                edgecolor=\"black\")\n",
        "plt.xticks(rotation=80);\n",
        "plt.title('Average price of laptops by company')\n",
        "plt.show()"
      ],
      "metadata": {
        "colab": {
          "base_uri": "https://localhost:8080/",
          "height": 377
        },
        "id": "7QsV_HmwEl0q",
        "outputId": "6d28d427-ec6f-462e-85a1-20dc432b6cae"
      },
      "execution_count": null,
      "outputs": [
        {
          "output_type": "display_data",
          "data": {
            "image/png": "[encoded data removed]",
            "text/plain": [
              "<Figure size 648x360 with 1 Axes>"
            ]
          },
          "metadata": {
            "needs_background": "light"
          }
        }
      ]
    },
    {
      "cell_type": "markdown",
      "source": [
        "*  APPLE laptops are on average the most expensive,second is MSI and third is ASUS\n",
        "*  DELL laptops are the cheapest among the dataset"
      ],
      "metadata": {
        "id": "QPG8XJHAFETZ"
      }
    },
    {
      "cell_type": "code",
      "source": [
        "#Price distributed among laptops\n",
        "num_plot(df, 'price', 'Price Distribution','₹')"
      ],
      "metadata": {
        "colab": {
          "base_uri": "https://localhost:8080/",
          "height": 369
        },
        "id": "2FsT0H-4O0lB",
        "outputId": "7b237ba5-b210-450d-e9f1-29c6cb32480f"
      },
      "execution_count": null,
      "outputs": [
        {
          "output_type": "display_data",
          "data": {
            "image/png": "[encoded data removed]",
            "text/plain": [
              "<Figure size 576x360 with 2 Axes>"
            ]
          },
          "metadata": {
            "needs_background": "light"
          }
        }
      ]
    },
    {
      "cell_type": "code",
      "source": [
        "ax  = plt.subplots(figsize=(5,3))\n",
        "ax=sns.boxplot(x='price', data=df)"
      ],
      "metadata": {
        "colab": {
          "base_uri": "https://localhost:8080/",
          "height": 225
        },
        "id": "0iLeHQPoO0el",
        "outputId": "9a4efd32-605d-4377-d912-e8e61d59c163"
      },
      "execution_count": null,
      "outputs": [
        {
          "output_type": "display_data",
          "data": {
            "image/png": "[encoded data removed]",
            "text/plain": [
              "<Figure size 360x216 with 1 Axes>"
            ]
          },
          "metadata": {
            "needs_background": "light"
          }
        }
      ]
    },
    {
      "cell_type": "markdown",
      "source": [
        "There are some laptops with a price over 250000 rupee"
      ],
      "metadata": {
        "id": "mHzR45uMPDy1"
      }
    },
    {
      "cell_type": "code",
      "source": [
        "df[df['price']>250000]"
      ],
      "metadata": {
        "colab": {
          "base_uri": "https://localhost:8080/",
          "height": 394
        },
        "id": "0VEJAlSgPJXR",
        "outputId": "c05a2a5a-a7c9-44b2-88bd-9c513ddbb300"
      },
      "execution_count": null,
      "outputs": [
        {
          "output_type": "execute_result",
          "data": {
            "text/plain": [
              "       company model_name  rating processor_name processor_type  generation  \\\n",
              "131       ASUS   Zephyrus     4.3          Intel         Corei9          11   \n",
              "177       ASUS       Core     4.6          Intel         Corei7          10   \n",
              "294     Lenovo     Legion     4.3          Intel         Corei7          10   \n",
              "323       ASUS        ROG     4.3          Intel         Corei7          10   \n",
              "328       ASUS        ROG     4.3          Intel         Corei7          10   \n",
              "329       ASUS        ROG     4.3          Intel         Corei7          10   \n",
              "377  ALIENWARE       Core     4.3          Intel         Corei7           9   \n",
              "380       ASUS       Core     5.0          Intel         Corei9          10   \n",
              "410       ASUS        ROG     4.3            AMD         Ryzen9          11   \n",
              "432       ASUS        ROG     4.8            AMD         Ryzen9          11   \n",
              "556     Lenovo       Core     4.3          Intel         Corei9          10   \n",
              "\n",
              "     ram(GB)  size(inch)     price       OS  storage_1_sto(GB) storage_1_type  \n",
              "131       32        17.3  441990.0  Windows                3.0          TBSSD  \n",
              "177       32        15.6  272990.0  Windows                1.0          TBSSD  \n",
              "294       16        15.6  349890.0  Windows                1.0          TBSSD  \n",
              "323       32        17.3  309990.0  Windows                1.0          TBSSD  \n",
              "328       32        15.6  324990.0  Windows                1.0          TBSSD  \n",
              "329       32        17.3  309990.0  Windows                1.0          TBSSD  \n",
              "377       16        15.6  276120.0  Windows                1.0          TBSSD  \n",
              "380       32        15.6  326990.0  Windows                1.0          TBSSD  \n",
              "410       32        13.4  350990.0  Windows                1.0          TBSSD  \n",
              "432       16        15.6  259990.0  Windows                1.0          TBSSD  \n",
              "556       16        15.6  349890.0  Windows                1.0          TBSSD  "
            ],
            "text/html": [
              "\n",
              "  <div id=\"df-fd29a22c-5a1e-430f-9fe1-4d78cf1aa745\">\n",
              "    <div class=\"colab-df-container\">\n",
              "      <div>\n",
              "<style scoped>\n",
              "    .dataframe tbody tr th:only-of-type {\n",
              "        vertical-align: middle;\n",
              "    }\n",
              "\n",
              "    .dataframe tbody tr th {\n",
              "        vertical-align: top;\n",
              "    }\n",
              "\n",
              "    .dataframe thead th {\n",
              "        text-align: right;\n",
              "    }\n",
              "</style>\n",
              "<table border=\"1\" class=\"dataframe\">\n",
              "  <thead>\n",
              "    <tr style=\"text-align: right;\">\n",
              "      <th></th>\n",
              "      <th>company</th>\n",
              "      <th>model_name</th>\n",
              "      <th>rating</th>\n",
              "      <th>processor_name</th>\n",
              "      <th>processor_type</th>\n",
              "      <th>generation</th>\n",
              "      <th>ram(GB)</th>\n",
              "      <th>size(inch)</th>\n",
              "      <th>price</th>\n",
              "      <th>OS</th>\n",
              "      <th>storage_1_sto(GB)</th>\n",
              "      <th>storage_1_type</th>\n",
              "    </tr>\n",
              "  </thead>\n",
              "  <tbody>\n",
              "    <tr>\n",
              "      <th>131</th>\n",
              "      <td>ASUS</td>\n",
              "      <td>Zephyrus</td>\n",
              "      <td>4.3</td>\n",
              "      <td>Intel</td>\n",
              "      <td>Corei9</td>\n",
              "      <td>11</td>\n",
              "      <td>32</td>\n",
              "      <td>17.3</td>\n",
              "      <td>441990.0</td>\n",
              "      <td>Windows</td>\n",
              "      <td>3.0</td>\n",
              "      <td>TBSSD</td>\n",
              "    </tr>\n",
              "    <tr>\n",
              "      <th>177</th>\n",
              "      <td>ASUS</td>\n",
              "      <td>Core</td>\n",
              "      <td>4.6</td>\n",
              "      <td>Intel</td>\n",
              "      <td>Corei7</td>\n",
              "      <td>10</td>\n",
              "      <td>32</td>\n",
              "      <td>15.6</td>\n",
              "      <td>272990.0</td>\n",
              "      <td>Windows</td>\n",
              "      <td>1.0</td>\n",
              "      <td>TBSSD</td>\n",
              "    </tr>\n",
              "    <tr>\n",
              "      <th>294</th>\n",
              "      <td>Lenovo</td>\n",
              "      <td>Legion</td>\n",
              "      <td>4.3</td>\n",
              "      <td>Intel</td>\n",
              "      <td>Corei7</td>\n",
              "      <td>10</td>\n",
              "      <td>16</td>\n",
              "      <td>15.6</td>\n",
              "      <td>349890.0</td>\n",
              "      <td>Windows</td>\n",
              "      <td>1.0</td>\n",
              "      <td>TBSSD</td>\n",
              "    </tr>\n",
              "    <tr>\n",
              "      <th>323</th>\n",
              "      <td>ASUS</td>\n",
              "      <td>ROG</td>\n",
              "      <td>4.3</td>\n",
              "      <td>Intel</td>\n",
              "      <td>Corei7</td>\n",
              "      <td>10</td>\n",
              "      <td>32</td>\n",
              "      <td>17.3</td>\n",
              "      <td>309990.0</td>\n",
              "      <td>Windows</td>\n",
              "      <td>1.0</td>\n",
              "      <td>TBSSD</td>\n",
              "    </tr>\n",
              "    <tr>\n",
              "      <th>328</th>\n",
              "      <td>ASUS</td>\n",
              "      <td>ROG</td>\n",
              "      <td>4.3</td>\n",
              "      <td>Intel</td>\n",
              "      <td>Corei7</td>\n",
              "      <td>10</td>\n",
              "      <td>32</td>\n",
              "      <td>15.6</td>\n",
              "      <td>324990.0</td>\n",
              "      <td>Windows</td>\n",
              "      <td>1.0</td>\n",
              "      <td>TBSSD</td>\n",
              "    </tr>\n",
              "    <tr>\n",
              "      <th>329</th>\n",
              "      <td>ASUS</td>\n",
              "      <td>ROG</td>\n",
              "      <td>4.3</td>\n",
              "      <td>Intel</td>\n",
              "      <td>Corei7</td>\n",
              "      <td>10</td>\n",
              "      <td>32</td>\n",
              "      <td>17.3</td>\n",
              "      <td>309990.0</td>\n",
              "      <td>Windows</td>\n",
              "      <td>1.0</td>\n",
              "      <td>TBSSD</td>\n",
              "    </tr>\n",
              "    <tr>\n",
              "      <th>377</th>\n",
              "      <td>ALIENWARE</td>\n",
              "      <td>Core</td>\n",
              "      <td>4.3</td>\n",
              "      <td>Intel</td>\n",
              "      <td>Corei7</td>\n",
              "      <td>9</td>\n",
              "      <td>16</td>\n",
              "      <td>15.6</td>\n",
              "      <td>276120.0</td>\n",
              "      <td>Windows</td>\n",
              "      <td>1.0</td>\n",
              "      <td>TBSSD</td>\n",
              "    </tr>\n",
              "    <tr>\n",
              "      <th>380</th>\n",
              "      <td>ASUS</td>\n",
              "      <td>Core</td>\n",
              "      <td>5.0</td>\n",
              "      <td>Intel</td>\n",
              "      <td>Corei9</td>\n",
              "      <td>10</td>\n",
              "      <td>32</td>\n",
              "      <td>15.6</td>\n",
              "      <td>326990.0</td>\n",
              "      <td>Windows</td>\n",
              "      <td>1.0</td>\n",
              "      <td>TBSSD</td>\n",
              "    </tr>\n",
              "    <tr>\n",
              "      <th>410</th>\n",
              "      <td>ASUS</td>\n",
              "      <td>ROG</td>\n",
              "      <td>4.3</td>\n",
              "      <td>AMD</td>\n",
              "      <td>Ryzen9</td>\n",
              "      <td>11</td>\n",
              "      <td>32</td>\n",
              "      <td>13.4</td>\n",
              "      <td>350990.0</td>\n",
              "      <td>Windows</td>\n",
              "      <td>1.0</td>\n",
              "      <td>TBSSD</td>\n",
              "    </tr>\n",
              "    <tr>\n",
              "      <th>432</th>\n",
              "      <td>ASUS</td>\n",
              "      <td>ROG</td>\n",
              "      <td>4.8</td>\n",
              "      <td>AMD</td>\n",
              "      <td>Ryzen9</td>\n",
              "      <td>11</td>\n",
              "      <td>16</td>\n",
              "      <td>15.6</td>\n",
              "      <td>259990.0</td>\n",
              "      <td>Windows</td>\n",
              "      <td>1.0</td>\n",
              "      <td>TBSSD</td>\n",
              "    </tr>\n",
              "    <tr>\n",
              "      <th>556</th>\n",
              "      <td>Lenovo</td>\n",
              "      <td>Core</td>\n",
              "      <td>4.3</td>\n",
              "      <td>Intel</td>\n",
              "      <td>Corei9</td>\n",
              "      <td>10</td>\n",
              "      <td>16</td>\n",
              "      <td>15.6</td>\n",
              "      <td>349890.0</td>\n",
              "      <td>Windows</td>\n",
              "      <td>1.0</td>\n",
              "      <td>TBSSD</td>\n",
              "    </tr>\n",
              "  </tbody>\n",
              "</table>\n",
              "</div>\n",
              "      <button class=\"colab-df-convert\" onclick=\"convertToInteractive('df-fd29a22c-5a1e-430f-9fe1-4d78cf1aa745')\"\n",
              "              title=\"Convert this dataframe to an interactive table.\"\n",
              "              style=\"display:none;\">\n",
              "        \n",
              "  <svg xmlns=\"http://www.w3.org/2000/svg\" height=\"24px\"viewBox=\"0 0 24 24\"\n",
              "       width=\"24px\">\n",
              "    <path d=\"M0 0h24v24H0V0z\" fill=\"none\"/>\n",
              "    <path d=\"M18.56 5.44l.94 2.06.94-2.06 2.06-.94-2.06-.94-.94-2.06-.94 2.06-2.06.94zm-11 1L8.5 8.5l.94-2.06 2.06-.94-2.06-.94L8.5 2.5l-.94 2.06-2.06.94zm10 10l.94 2.06.94-2.06 2.06-.94-2.06-.94-.94-2.06-.94 2.06-2.06.94z\"/><path d=\"M17.41 7.96l-1.37-1.37c-.4-.4-.92-.59-1.43-.59-.52 0-1.04.2-1.43.59L10.3 9.45l-7.72 7.72c-.78.78-.78 2.05 0 2.83L4 21.41c.39.39.9.59 1.41.59.51 0 1.02-.2 1.41-.59l7.78-7.78 2.81-2.81c.8-.78.8-2.07 0-2.86zM5.41 20L4 18.59l7.72-7.72 1.47 1.35L5.41 20z\"/>\n",
              "  </svg>\n",
              "      </button>\n",
              "      \n",
              "  <style>\n",
              "    .colab-df-container {\n",
              "      display:flex;\n",
              "      flex-wrap:wrap;\n",
              "      gap: 12px;\n",
              "    }\n",
              "\n",
              "    .colab-df-convert {\n",
              "      background-color: #E8F0FE;\n",
              "      border: none;\n",
              "      border-radius: 50%;\n",
              "      cursor: pointer;\n",
              "      display: none;\n",
              "      fill: #1967D2;\n",
              "      height: 32px;\n",
              "      padding: 0 0 0 0;\n",
              "      width: 32px;\n",
              "    }\n",
              "\n",
              "    .colab-df-convert:hover {\n",
              "      background-color: #E2EBFA;\n",
              "      box-shadow: 0px 1px 2px rgba(60, 64, 67, 0.3), 0px 1px 3px 1px rgba(60, 64, 67, 0.15);\n",
              "      fill: #174EA6;\n",
              "    }\n",
              "\n",
              "    [theme=dark] .colab-df-convert {\n",
              "      background-color: #3B4455;\n",
              "      fill: #D2E3FC;\n",
              "    }\n",
              "\n",
              "    [theme=dark] .colab-df-convert:hover {\n",
              "      background-color: #434B5C;\n",
              "      box-shadow: 0px 1px 3px 1px rgba(0, 0, 0, 0.15);\n",
              "      filter: drop-shadow(0px 1px 2px rgba(0, 0, 0, 0.3));\n",
              "      fill: #FFFFFF;\n",
              "    }\n",
              "  </style>\n",
              "\n",
              "      <script>\n",
              "        const buttonEl =\n",
              "          document.querySelector('#df-fd29a22c-5a1e-430f-9fe1-4d78cf1aa745 button.colab-df-convert');\n",
              "        buttonEl.style.display =\n",
              "          google.colab.kernel.accessAllowed ? 'block' : 'none';\n",
              "\n",
              "        async function convertToInteractive(key) {\n",
              "          const element = document.querySelector('#df-fd29a22c-5a1e-430f-9fe1-4d78cf1aa745');\n",
              "          const dataTable =\n",
              "            await google.colab.kernel.invokeFunction('convertToInteractive',\n",
              "                                                     [key], {});\n",
              "          if (!dataTable) return;\n",
              "\n",
              "          const docLinkHtml = 'Like what you see? Visit the ' +\n",
              "            '<a target=\"_blank\" href=https://colab.research.google.com/notebooks/data_table.ipynb>data table notebook</a>'\n",
              "            + ' to learn more about interactive tables.';\n",
              "          element.innerHTML = '';\n",
              "          dataTable['output_type'] = 'display_data';\n",
              "          await google.colab.output.renderOutput(dataTable, element);\n",
              "          const docLink = document.createElement('div');\n",
              "          docLink.innerHTML = docLinkHtml;\n",
              "          element.appendChild(docLink);\n",
              "        }\n",
              "      </script>\n",
              "    </div>\n",
              "  </div>\n",
              "  "
            ]
          },
          "metadata": {},
          "execution_count": 60
        }
      ]
    },
    {
      "cell_type": "markdown",
      "source": [
        "Removing outliers"
      ],
      "metadata": {
        "id": "UB48PTc8Pq47"
      }
    },
    {
      "cell_type": "code",
      "source": [
        "df= df[df['price']<250000]"
      ],
      "metadata": {
        "id": "Oan32Lw1PQps"
      },
      "execution_count": null,
      "outputs": []
    },
    {
      "cell_type": "code",
      "source": [
        "plt.figure(figsize=(6,5))\n",
        "sns.heatmap(df.corr(), cmap='RdBu', annot=True, vmin=-1, vmax=1)\n",
        "plt.title('Correlation Matrix')\n",
        "plt.show()\n"
      ],
      "metadata": {
        "colab": {
          "base_uri": "https://localhost:8080/",
          "height": 417
        },
        "id": "qbuFLuSQE8H_",
        "outputId": "485b77a1-e22f-4188-e94c-67f78a1b4024"
      },
      "execution_count": null,
      "outputs": [
        {
          "output_type": "display_data",
          "data": {
            "text/plain": [
              "<Figure size 432x360 with 2 Axes>"
            ],
            "image/png": "[encoded data removed]"
          },
          "metadata": {
            "needs_background": "light"
          }
        }
      ]
    },
    {
      "cell_type": "markdown",
      "source": [
        "RAM has a high positive correlation with price (+0.74):Processor generation and rating also have a positive correlation with price,laptops having more specification tends to have a higher price."
      ],
      "metadata": {
        "id": "h-BD7q3WK597"
      }
    },
    {
      "cell_type": "markdown",
      "source": [
        "**Insights of laptop datas that scrapped from Flipkart**"
      ],
      "metadata": {
        "id": "h3JIam2HRGfo"
      }
    },
    {
      "cell_type": "markdown",
      "source": [
        "\n",
        "\n",
        "*  Laptop with Intel CPUs are more expensive\n",
        "*  Most of the laptops have 8 GB ram\n",
        "*  Most laptops have 15.6 inches\n",
        "*  every GB of RAM added on the PC adds roughly 7898₹ to the laptop value.\n",
        "*  when the generation increases, the PC adds 6138₹ to the laptop\n",
        "*  Most of the laptops have corei5 processor\n",
        "*  Most PCs have 512 ssd which is for the most part ssd, for storage of 1 TB most of them are HDD.\n",
        "*  APPLE laptops are on average the most expensive,second is MSI and third is ASUS\n",
        "*  DELL laptops are the cheapest among the dataset\n",
        "\n"
      ],
      "metadata": {
        "id": "CdlQREK3OdY5"
      }
    },
    {
      "cell_type": "code",
      "source": [
        "df.head()"
      ],
      "metadata": {
        "colab": {
          "base_uri": "https://localhost:8080/",
          "height": 206
        },
        "id": "0vLjdxYG-wkK",
        "outputId": "25894dfd-6d10-4fa5-f261-45e6ca6de211"
      },
      "execution_count": null,
      "outputs": [
        {
          "output_type": "execute_result",
          "data": {
            "text/html": [
              "\n",
              "  <div id=\"df-7a59bede-b58e-4860-b31f-b30fe1938f64\">\n",
              "    <div class=\"colab-df-container\">\n",
              "      <div>\n",
              "<style scoped>\n",
              "    .dataframe tbody tr th:only-of-type {\n",
              "        vertical-align: middle;\n",
              "    }\n",
              "\n",
              "    .dataframe tbody tr th {\n",
              "        vertical-align: top;\n",
              "    }\n",
              "\n",
              "    .dataframe thead th {\n",
              "        text-align: right;\n",
              "    }\n",
              "</style>\n",
              "<table border=\"1\" class=\"dataframe\">\n",
              "  <thead>\n",
              "    <tr style=\"text-align: right;\">\n",
              "      <th></th>\n",
              "      <th>company</th>\n",
              "      <th>model_name</th>\n",
              "      <th>rating</th>\n",
              "      <th>processor_name</th>\n",
              "      <th>processor_type</th>\n",
              "      <th>generation</th>\n",
              "      <th>ram(GB)</th>\n",
              "      <th>size(inch)</th>\n",
              "      <th>price</th>\n",
              "      <th>OS</th>\n",
              "      <th>storage_1_sto(GB)</th>\n",
              "      <th>storage_1_type</th>\n",
              "    </tr>\n",
              "  </thead>\n",
              "  <tbody>\n",
              "    <tr>\n",
              "      <th>0</th>\n",
              "      <td>Lenovo</td>\n",
              "      <td>IdeaPad</td>\n",
              "      <td>4.4</td>\n",
              "      <td>Intel</td>\n",
              "      <td>Corei3</td>\n",
              "      <td>11</td>\n",
              "      <td>8</td>\n",
              "      <td>15.6</td>\n",
              "      <td>63790.0</td>\n",
              "      <td>Windows</td>\n",
              "      <td>512.0</td>\n",
              "      <td>SSD</td>\n",
              "    </tr>\n",
              "    <tr>\n",
              "      <th>1</th>\n",
              "      <td>ASUS</td>\n",
              "      <td>TUF</td>\n",
              "      <td>4.4</td>\n",
              "      <td>Intel</td>\n",
              "      <td>Corei5</td>\n",
              "      <td>10</td>\n",
              "      <td>8</td>\n",
              "      <td>15.6</td>\n",
              "      <td>89990.0</td>\n",
              "      <td>Windows</td>\n",
              "      <td>512.0</td>\n",
              "      <td>SSD</td>\n",
              "    </tr>\n",
              "    <tr>\n",
              "      <th>2</th>\n",
              "      <td>MSI</td>\n",
              "      <td>GF65</td>\n",
              "      <td>4.4</td>\n",
              "      <td>Intel</td>\n",
              "      <td>Corei7</td>\n",
              "      <td>10</td>\n",
              "      <td>16</td>\n",
              "      <td>15.6</td>\n",
              "      <td>123990.0</td>\n",
              "      <td>Windows</td>\n",
              "      <td>1.0</td>\n",
              "      <td>TBSSD</td>\n",
              "    </tr>\n",
              "    <tr>\n",
              "      <th>3</th>\n",
              "      <td>DELL</td>\n",
              "      <td>Vostro</td>\n",
              "      <td>3.9</td>\n",
              "      <td>Intel</td>\n",
              "      <td>Corei3</td>\n",
              "      <td>11</td>\n",
              "      <td>8</td>\n",
              "      <td>14.0</td>\n",
              "      <td>41715.0</td>\n",
              "      <td>Windows</td>\n",
              "      <td>1.0</td>\n",
              "      <td>TBHDD</td>\n",
              "    </tr>\n",
              "    <tr>\n",
              "      <th>4</th>\n",
              "      <td>ASUS</td>\n",
              "      <td>Core</td>\n",
              "      <td>4.3</td>\n",
              "      <td>Intel</td>\n",
              "      <td>Corei3</td>\n",
              "      <td>10</td>\n",
              "      <td>4</td>\n",
              "      <td>15.6</td>\n",
              "      <td>48990.0</td>\n",
              "      <td>Windows</td>\n",
              "      <td>512.0</td>\n",
              "      <td>SSD</td>\n",
              "    </tr>\n",
              "  </tbody>\n",
              "</table>\n",
              "</div>\n",
              "      <button class=\"colab-df-convert\" onclick=\"convertToInteractive('df-7a59bede-b58e-4860-b31f-b30fe1938f64')\"\n",
              "              title=\"Convert this dataframe to an interactive table.\"\n",
              "              style=\"display:none;\">\n",
              "        \n",
              "  <svg xmlns=\"http://www.w3.org/2000/svg\" height=\"24px\"viewBox=\"0 0 24 24\"\n",
              "       width=\"24px\">\n",
              "    <path d=\"M0 0h24v24H0V0z\" fill=\"none\"/>\n",
              "    <path d=\"M18.56 5.44l.94 2.06.94-2.06 2.06-.94-2.06-.94-.94-2.06-.94 2.06-2.06.94zm-11 1L8.5 8.5l.94-2.06 2.06-.94-2.06-.94L8.5 2.5l-.94 2.06-2.06.94zm10 10l.94 2.06.94-2.06 2.06-.94-2.06-.94-.94-2.06-.94 2.06-2.06.94z\"/><path d=\"M17.41 7.96l-1.37-1.37c-.4-.4-.92-.59-1.43-.59-.52 0-1.04.2-1.43.59L10.3 9.45l-7.72 7.72c-.78.78-.78 2.05 0 2.83L4 21.41c.39.39.9.59 1.41.59.51 0 1.02-.2 1.41-.59l7.78-7.78 2.81-2.81c.8-.78.8-2.07 0-2.86zM5.41 20L4 18.59l7.72-7.72 1.47 1.35L5.41 20z\"/>\n",
              "  </svg>\n",
              "      </button>\n",
              "      \n",
              "  <style>\n",
              "    .colab-df-container {\n",
              "      display:flex;\n",
              "      flex-wrap:wrap;\n",
              "      gap: 12px;\n",
              "    }\n",
              "\n",
              "    .colab-df-convert {\n",
              "      background-color: #E8F0FE;\n",
              "      border: none;\n",
              "      border-radius: 50%;\n",
              "      cursor: pointer;\n",
              "      display: none;\n",
              "      fill: #1967D2;\n",
              "      height: 32px;\n",
              "      padding: 0 0 0 0;\n",
              "      width: 32px;\n",
              "    }\n",
              "\n",
              "    .colab-df-convert:hover {\n",
              "      background-color: #E2EBFA;\n",
              "      box-shadow: 0px 1px 2px rgba(60, 64, 67, 0.3), 0px 1px 3px 1px rgba(60, 64, 67, 0.15);\n",
              "      fill: #174EA6;\n",
              "    }\n",
              "\n",
              "    [theme=dark] .colab-df-convert {\n",
              "      background-color: #3B4455;\n",
              "      fill: #D2E3FC;\n",
              "    }\n",
              "\n",
              "    [theme=dark] .colab-df-convert:hover {\n",
              "      background-color: #434B5C;\n",
              "      box-shadow: 0px 1px 3px 1px rgba(0, 0, 0, 0.15);\n",
              "      filter: drop-shadow(0px 1px 2px rgba(0, 0, 0, 0.3));\n",
              "      fill: #FFFFFF;\n",
              "    }\n",
              "  </style>\n",
              "\n",
              "      <script>\n",
              "        const buttonEl =\n",
              "          document.querySelector('#df-7a59bede-b58e-4860-b31f-b30fe1938f64 button.colab-df-convert');\n",
              "        buttonEl.style.display =\n",
              "          google.colab.kernel.accessAllowed ? 'block' : 'none';\n",
              "\n",
              "        async function convertToInteractive(key) {\n",
              "          const element = document.querySelector('#df-7a59bede-b58e-4860-b31f-b30fe1938f64');\n",
              "          const dataTable =\n",
              "            await google.colab.kernel.invokeFunction('convertToInteractive',\n",
              "                                                     [key], {});\n",
              "          if (!dataTable) return;\n",
              "\n",
              "          const docLinkHtml = 'Like what you see? Visit the ' +\n",
              "            '<a target=\"_blank\" href=https://colab.research.google.com/notebooks/data_table.ipynb>data table notebook</a>'\n",
              "            + ' to learn more about interactive tables.';\n",
              "          element.innerHTML = '';\n",
              "          dataTable['output_type'] = 'display_data';\n",
              "          await google.colab.output.renderOutput(dataTable, element);\n",
              "          const docLink = document.createElement('div');\n",
              "          docLink.innerHTML = docLinkHtml;\n",
              "          element.appendChild(docLink);\n",
              "        }\n",
              "      </script>\n",
              "    </div>\n",
              "  </div>\n",
              "  "
            ],
            "text/plain": [
              "  company model_name  rating  ...       OS storage_1_sto(GB)  storage_1_type\n",
              "0  Lenovo    IdeaPad     4.4  ...  Windows             512.0             SSD\n",
              "1    ASUS        TUF     4.4  ...  Windows             512.0             SSD\n",
              "2     MSI       GF65     4.4  ...  Windows               1.0           TBSSD\n",
              "3    DELL     Vostro     3.9  ...  Windows               1.0           TBHDD\n",
              "4    ASUS       Core     4.3  ...  Windows             512.0             SSD\n",
              "\n",
              "[5 rows x 12 columns]"
            ]
          },
          "metadata": {},
          "execution_count": 90
        }
      ]
    },
    {
      "cell_type": "code",
      "source": [
        "df.info()"
      ],
      "metadata": {
        "colab": {
          "base_uri": "https://localhost:8080/"
        },
        "id": "XLJXP7O1NMJb",
        "outputId": "b72abacb-1dfd-4d25-cc26-8512dcb24fc6"
      },
      "execution_count": null,
      "outputs": [
        {
          "output_type": "stream",
          "name": "stdout",
          "text": [
            "<class 'pandas.core.frame.DataFrame'>\n",
            "Int64Index: 561 entries, 0 to 571\n",
            "Data columns (total 12 columns):\n",
            " #   Column             Non-Null Count  Dtype  \n",
            "---  ------             --------------  -----  \n",
            " 0   company            561 non-null    object \n",
            " 1   model_name         561 non-null    object \n",
            " 2   rating             561 non-null    float64\n",
            " 3   processor_name     561 non-null    object \n",
            " 4   processor_type     561 non-null    object \n",
            " 5   generation         561 non-null    int64  \n",
            " 6   ram(GB)            561 non-null    int64  \n",
            " 7   size(inch)         561 non-null    float64\n",
            " 8   price              561 non-null    float64\n",
            " 9   OS                 561 non-null    object \n",
            " 10  storage_1_sto(GB)  561 non-null    float64\n",
            " 11  storage_1_type     561 non-null    object \n",
            "dtypes: float64(4), int64(2), object(6)\n",
            "memory usage: 57.0+ KB\n"
          ]
        }
      ]
    },
    {
      "cell_type": "markdown",
      "source": [
        "**Price Prediction**"
      ],
      "metadata": {
        "id": "sXx67QweDX9h"
      }
    },
    {
      "cell_type": "code",
      "source": [
        "lc=LabelEncoder()"
      ],
      "metadata": {
        "id": "DikJ0_p_QEPz"
      },
      "execution_count": null,
      "outputs": []
    },
    {
      "cell_type": "code",
      "source": [
        "df['company']=lc.fit_transform(df['company'])\n",
        "df['model_name']=lc.fit_transform(df['model_name'])\n",
        "df['processor_name']=lc.fit_transform(df['processor_name'])\n",
        "df['processor_type']=lc.fit_transform(df['processor_type'])\n",
        "df['OS']=lc.fit_transform(df['OS'])\n",
        "df['storage_1_type']=lc.fit_transform(df['storage_1_type'])"
      ],
      "metadata": {
        "id": "0kRHmDEb-t8a"
      },
      "execution_count": null,
      "outputs": []
    },
    {
      "cell_type": "markdown",
      "source": [
        "Label Encoding is done to transform categorical text data to numerical data."
      ],
      "metadata": {
        "id": "MywharYjal-F"
      }
    },
    {
      "cell_type": "code",
      "source": [
        "df.head()"
      ],
      "metadata": {
        "colab": {
          "base_uri": "https://localhost:8080/",
          "height": 206
        },
        "id": "FIij9_pL_cFR",
        "outputId": "baaa7574-3c70-4b96-d20d-fb25ced1f61c"
      },
      "execution_count": null,
      "outputs": [
        {
          "output_type": "execute_result",
          "data": {
            "text/plain": [
              "   company  model_name  rating  processor_name  processor_type  generation  \\\n",
              "0        7          40     4.4               2               3          11   \n",
              "1        1          73     4.4               2               4          10   \n",
              "2        9          35     4.4               2               5          10   \n",
              "3        3          84     3.9               2               3          11   \n",
              "4        1          19     4.3               2               3          10   \n",
              "\n",
              "   ram(GB)  size(inch)     price  OS  storage_1_sto(GB)  storage_1_type  \n",
              "0        8        15.6   63790.0   2              512.0               1  \n",
              "1        8        15.6   89990.0   2              512.0               1  \n",
              "2       16        15.6  123990.0   2                1.0               3  \n",
              "3        8        14.0   41715.0   2                1.0               2  \n",
              "4        4        15.6   48990.0   2              512.0               1  "
            ],
            "text/html": [
              "\n",
              "  <div id=\"df-4760417f-6170-4ffb-9795-10302801fd0e\">\n",
              "    <div class=\"colab-df-container\">\n",
              "      <div>\n",
              "<style scoped>\n",
              "    .dataframe tbody tr th:only-of-type {\n",
              "        vertical-align: middle;\n",
              "    }\n",
              "\n",
              "    .dataframe tbody tr th {\n",
              "        vertical-align: top;\n",
              "    }\n",
              "\n",
              "    .dataframe thead th {\n",
              "        text-align: right;\n",
              "    }\n",
              "</style>\n",
              "<table border=\"1\" class=\"dataframe\">\n",
              "  <thead>\n",
              "    <tr style=\"text-align: right;\">\n",
              "      <th></th>\n",
              "      <th>company</th>\n",
              "      <th>model_name</th>\n",
              "      <th>rating</th>\n",
              "      <th>processor_name</th>\n",
              "      <th>processor_type</th>\n",
              "      <th>generation</th>\n",
              "      <th>ram(GB)</th>\n",
              "      <th>size(inch)</th>\n",
              "      <th>price</th>\n",
              "      <th>OS</th>\n",
              "      <th>storage_1_sto(GB)</th>\n",
              "      <th>storage_1_type</th>\n",
              "    </tr>\n",
              "  </thead>\n",
              "  <tbody>\n",
              "    <tr>\n",
              "      <th>0</th>\n",
              "      <td>7</td>\n",
              "      <td>40</td>\n",
              "      <td>4.4</td>\n",
              "      <td>2</td>\n",
              "      <td>3</td>\n",
              "      <td>11</td>\n",
              "      <td>8</td>\n",
              "      <td>15.6</td>\n",
              "      <td>63790.0</td>\n",
              "      <td>2</td>\n",
              "      <td>512.0</td>\n",
              "      <td>1</td>\n",
              "    </tr>\n",
              "    <tr>\n",
              "      <th>1</th>\n",
              "      <td>1</td>\n",
              "      <td>73</td>\n",
              "      <td>4.4</td>\n",
              "      <td>2</td>\n",
              "      <td>4</td>\n",
              "      <td>10</td>\n",
              "      <td>8</td>\n",
              "      <td>15.6</td>\n",
              "      <td>89990.0</td>\n",
              "      <td>2</td>\n",
              "      <td>512.0</td>\n",
              "      <td>1</td>\n",
              "    </tr>\n",
              "    <tr>\n",
              "      <th>2</th>\n",
              "      <td>9</td>\n",
              "      <td>35</td>\n",
              "      <td>4.4</td>\n",
              "      <td>2</td>\n",
              "      <td>5</td>\n",
              "      <td>10</td>\n",
              "      <td>16</td>\n",
              "      <td>15.6</td>\n",
              "      <td>123990.0</td>\n",
              "      <td>2</td>\n",
              "      <td>1.0</td>\n",
              "      <td>3</td>\n",
              "    </tr>\n",
              "    <tr>\n",
              "      <th>3</th>\n",
              "      <td>3</td>\n",
              "      <td>84</td>\n",
              "      <td>3.9</td>\n",
              "      <td>2</td>\n",
              "      <td>3</td>\n",
              "      <td>11</td>\n",
              "      <td>8</td>\n",
              "      <td>14.0</td>\n",
              "      <td>41715.0</td>\n",
              "      <td>2</td>\n",
              "      <td>1.0</td>\n",
              "      <td>2</td>\n",
              "    </tr>\n",
              "    <tr>\n",
              "      <th>4</th>\n",
              "      <td>1</td>\n",
              "      <td>19</td>\n",
              "      <td>4.3</td>\n",
              "      <td>2</td>\n",
              "      <td>3</td>\n",
              "      <td>10</td>\n",
              "      <td>4</td>\n",
              "      <td>15.6</td>\n",
              "      <td>48990.0</td>\n",
              "      <td>2</td>\n",
              "      <td>512.0</td>\n",
              "      <td>1</td>\n",
              "    </tr>\n",
              "  </tbody>\n",
              "</table>\n",
              "</div>\n",
              "      <button class=\"colab-df-convert\" onclick=\"convertToInteractive('df-4760417f-6170-4ffb-9795-10302801fd0e')\"\n",
              "              title=\"Convert this dataframe to an interactive table.\"\n",
              "              style=\"display:none;\">\n",
              "        \n",
              "  <svg xmlns=\"http://www.w3.org/2000/svg\" height=\"24px\"viewBox=\"0 0 24 24\"\n",
              "       width=\"24px\">\n",
              "    <path d=\"M0 0h24v24H0V0z\" fill=\"none\"/>\n",
              "    <path d=\"M18.56 5.44l.94 2.06.94-2.06 2.06-.94-2.06-.94-.94-2.06-.94 2.06-2.06.94zm-11 1L8.5 8.5l.94-2.06 2.06-.94-2.06-.94L8.5 2.5l-.94 2.06-2.06.94zm10 10l.94 2.06.94-2.06 2.06-.94-2.06-.94-.94-2.06-.94 2.06-2.06.94z\"/><path d=\"M17.41 7.96l-1.37-1.37c-.4-.4-.92-.59-1.43-.59-.52 0-1.04.2-1.43.59L10.3 9.45l-7.72 7.72c-.78.78-.78 2.05 0 2.83L4 21.41c.39.39.9.59 1.41.59.51 0 1.02-.2 1.41-.59l7.78-7.78 2.81-2.81c.8-.78.8-2.07 0-2.86zM5.41 20L4 18.59l7.72-7.72 1.47 1.35L5.41 20z\"/>\n",
              "  </svg>\n",
              "      </button>\n",
              "      \n",
              "  <style>\n",
              "    .colab-df-container {\n",
              "      display:flex;\n",
              "      flex-wrap:wrap;\n",
              "      gap: 12px;\n",
              "    }\n",
              "\n",
              "    .colab-df-convert {\n",
              "      background-color: #E8F0FE;\n",
              "      border: none;\n",
              "      border-radius: 50%;\n",
              "      cursor: pointer;\n",
              "      display: none;\n",
              "      fill: #1967D2;\n",
              "      height: 32px;\n",
              "      padding: 0 0 0 0;\n",
              "      width: 32px;\n",
              "    }\n",
              "\n",
              "    .colab-df-convert:hover {\n",
              "      background-color: #E2EBFA;\n",
              "      box-shadow: 0px 1px 2px rgba(60, 64, 67, 0.3), 0px 1px 3px 1px rgba(60, 64, 67, 0.15);\n",
              "      fill: #174EA6;\n",
              "    }\n",
              "\n",
              "    [theme=dark] .colab-df-convert {\n",
              "      background-color: #3B4455;\n",
              "      fill: #D2E3FC;\n",
              "    }\n",
              "\n",
              "    [theme=dark] .colab-df-convert:hover {\n",
              "      background-color: #434B5C;\n",
              "      box-shadow: 0px 1px 3px 1px rgba(0, 0, 0, 0.15);\n",
              "      filter: drop-shadow(0px 1px 2px rgba(0, 0, 0, 0.3));\n",
              "      fill: #FFFFFF;\n",
              "    }\n",
              "  </style>\n",
              "\n",
              "      <script>\n",
              "        const buttonEl =\n",
              "          document.querySelector('#df-4760417f-6170-4ffb-9795-10302801fd0e button.colab-df-convert');\n",
              "        buttonEl.style.display =\n",
              "          google.colab.kernel.accessAllowed ? 'block' : 'none';\n",
              "\n",
              "        async function convertToInteractive(key) {\n",
              "          const element = document.querySelector('#df-4760417f-6170-4ffb-9795-10302801fd0e');\n",
              "          const dataTable =\n",
              "            await google.colab.kernel.invokeFunction('convertToInteractive',\n",
              "                                                     [key], {});\n",
              "          if (!dataTable) return;\n",
              "\n",
              "          const docLinkHtml = 'Like what you see? Visit the ' +\n",
              "            '<a target=\"_blank\" href=https://colab.research.google.com/notebooks/data_table.ipynb>data table notebook</a>'\n",
              "            + ' to learn more about interactive tables.';\n",
              "          element.innerHTML = '';\n",
              "          dataTable['output_type'] = 'display_data';\n",
              "          await google.colab.output.renderOutput(dataTable, element);\n",
              "          const docLink = document.createElement('div');\n",
              "          docLink.innerHTML = docLinkHtml;\n",
              "          element.appendChild(docLink);\n",
              "        }\n",
              "      </script>\n",
              "    </div>\n",
              "  </div>\n",
              "  "
            ]
          },
          "metadata": {},
          "execution_count": 65
        }
      ]
    },
    {
      "cell_type": "markdown",
      "source": [
        "**Data Preparation**"
      ],
      "metadata": {
        "id": "lBn8VifGMj4b"
      }
    },
    {
      "cell_type": "code",
      "source": [
        "x=df.iloc[:,df.columns!='price']\n",
        "y=df.iloc[:,df.columns=='price']"
      ],
      "metadata": {
        "id": "Bk1L0QWd_eBy"
      },
      "execution_count": null,
      "outputs": []
    },
    {
      "cell_type": "markdown",
      "source": [
        "x is independent variable\n",
        "y is target variable (since price is being predicted,it is the target variable)"
      ],
      "metadata": {
        "id": "JgzamYf9aXoa"
      }
    },
    {
      "cell_type": "code",
      "source": [
        "x.head()"
      ],
      "metadata": {
        "colab": {
          "base_uri": "https://localhost:8080/",
          "height": 206
        },
        "id": "uenyIQKCA8TT",
        "outputId": "f2decf7c-7531-4d9d-c99f-bb1a65ca0e24"
      },
      "execution_count": null,
      "outputs": [
        {
          "output_type": "execute_result",
          "data": {
            "text/plain": [
              "   company  model_name  rating  processor_name  processor_type  generation  \\\n",
              "0        7          40     4.4               2               3          11   \n",
              "1        1          73     4.4               2               4          10   \n",
              "2        9          35     4.4               2               5          10   \n",
              "3        3          84     3.9               2               3          11   \n",
              "4        1          19     4.3               2               3          10   \n",
              "\n",
              "   ram(GB)  size(inch)  OS  storage_1_sto(GB)  storage_1_type  \n",
              "0        8        15.6   2              512.0               1  \n",
              "1        8        15.6   2              512.0               1  \n",
              "2       16        15.6   2                1.0               3  \n",
              "3        8        14.0   2                1.0               2  \n",
              "4        4        15.6   2              512.0               1  "
            ],
            "text/html": [
              "\n",
              "  <div id=\"df-c3294258-a247-447d-9f1e-e521584bcece\">\n",
              "    <div class=\"colab-df-container\">\n",
              "      <div>\n",
              "<style scoped>\n",
              "    .dataframe tbody tr th:only-of-type {\n",
              "        vertical-align: middle;\n",
              "    }\n",
              "\n",
              "    .dataframe tbody tr th {\n",
              "        vertical-align: top;\n",
              "    }\n",
              "\n",
              "    .dataframe thead th {\n",
              "        text-align: right;\n",
              "    }\n",
              "</style>\n",
              "<table border=\"1\" class=\"dataframe\">\n",
              "  <thead>\n",
              "    <tr style=\"text-align: right;\">\n",
              "      <th></th>\n",
              "      <th>company</th>\n",
              "      <th>model_name</th>\n",
              "      <th>rating</th>\n",
              "      <th>processor_name</th>\n",
              "      <th>processor_type</th>\n",
              "      <th>generation</th>\n",
              "      <th>ram(GB)</th>\n",
              "      <th>size(inch)</th>\n",
              "      <th>OS</th>\n",
              "      <th>storage_1_sto(GB)</th>\n",
              "      <th>storage_1_type</th>\n",
              "    </tr>\n",
              "  </thead>\n",
              "  <tbody>\n",
              "    <tr>\n",
              "      <th>0</th>\n",
              "      <td>7</td>\n",
              "      <td>40</td>\n",
              "      <td>4.4</td>\n",
              "      <td>2</td>\n",
              "      <td>3</td>\n",
              "      <td>11</td>\n",
              "      <td>8</td>\n",
              "      <td>15.6</td>\n",
              "      <td>2</td>\n",
              "      <td>512.0</td>\n",
              "      <td>1</td>\n",
              "    </tr>\n",
              "    <tr>\n",
              "      <th>1</th>\n",
              "      <td>1</td>\n",
              "      <td>73</td>\n",
              "      <td>4.4</td>\n",
              "      <td>2</td>\n",
              "      <td>4</td>\n",
              "      <td>10</td>\n",
              "      <td>8</td>\n",
              "      <td>15.6</td>\n",
              "      <td>2</td>\n",
              "      <td>512.0</td>\n",
              "      <td>1</td>\n",
              "    </tr>\n",
              "    <tr>\n",
              "      <th>2</th>\n",
              "      <td>9</td>\n",
              "      <td>35</td>\n",
              "      <td>4.4</td>\n",
              "      <td>2</td>\n",
              "      <td>5</td>\n",
              "      <td>10</td>\n",
              "      <td>16</td>\n",
              "      <td>15.6</td>\n",
              "      <td>2</td>\n",
              "      <td>1.0</td>\n",
              "      <td>3</td>\n",
              "    </tr>\n",
              "    <tr>\n",
              "      <th>3</th>\n",
              "      <td>3</td>\n",
              "      <td>84</td>\n",
              "      <td>3.9</td>\n",
              "      <td>2</td>\n",
              "      <td>3</td>\n",
              "      <td>11</td>\n",
              "      <td>8</td>\n",
              "      <td>14.0</td>\n",
              "      <td>2</td>\n",
              "      <td>1.0</td>\n",
              "      <td>2</td>\n",
              "    </tr>\n",
              "    <tr>\n",
              "      <th>4</th>\n",
              "      <td>1</td>\n",
              "      <td>19</td>\n",
              "      <td>4.3</td>\n",
              "      <td>2</td>\n",
              "      <td>3</td>\n",
              "      <td>10</td>\n",
              "      <td>4</td>\n",
              "      <td>15.6</td>\n",
              "      <td>2</td>\n",
              "      <td>512.0</td>\n",
              "      <td>1</td>\n",
              "    </tr>\n",
              "  </tbody>\n",
              "</table>\n",
              "</div>\n",
              "      <button class=\"colab-df-convert\" onclick=\"convertToInteractive('df-c3294258-a247-447d-9f1e-e521584bcece')\"\n",
              "              title=\"Convert this dataframe to an interactive table.\"\n",
              "              style=\"display:none;\">\n",
              "        \n",
              "  <svg xmlns=\"http://www.w3.org/2000/svg\" height=\"24px\"viewBox=\"0 0 24 24\"\n",
              "       width=\"24px\">\n",
              "    <path d=\"M0 0h24v24H0V0z\" fill=\"none\"/>\n",
              "    <path d=\"M18.56 5.44l.94 2.06.94-2.06 2.06-.94-2.06-.94-.94-2.06-.94 2.06-2.06.94zm-11 1L8.5 8.5l.94-2.06 2.06-.94-2.06-.94L8.5 2.5l-.94 2.06-2.06.94zm10 10l.94 2.06.94-2.06 2.06-.94-2.06-.94-.94-2.06-.94 2.06-2.06.94z\"/><path d=\"M17.41 7.96l-1.37-1.37c-.4-.4-.92-.59-1.43-.59-.52 0-1.04.2-1.43.59L10.3 9.45l-7.72 7.72c-.78.78-.78 2.05 0 2.83L4 21.41c.39.39.9.59 1.41.59.51 0 1.02-.2 1.41-.59l7.78-7.78 2.81-2.81c.8-.78.8-2.07 0-2.86zM5.41 20L4 18.59l7.72-7.72 1.47 1.35L5.41 20z\"/>\n",
              "  </svg>\n",
              "      </button>\n",
              "      \n",
              "  <style>\n",
              "    .colab-df-container {\n",
              "      display:flex;\n",
              "      flex-wrap:wrap;\n",
              "      gap: 12px;\n",
              "    }\n",
              "\n",
              "    .colab-df-convert {\n",
              "      background-color: #E8F0FE;\n",
              "      border: none;\n",
              "      border-radius: 50%;\n",
              "      cursor: pointer;\n",
              "      display: none;\n",
              "      fill: #1967D2;\n",
              "      height: 32px;\n",
              "      padding: 0 0 0 0;\n",
              "      width: 32px;\n",
              "    }\n",
              "\n",
              "    .colab-df-convert:hover {\n",
              "      background-color: #E2EBFA;\n",
              "      box-shadow: 0px 1px 2px rgba(60, 64, 67, 0.3), 0px 1px 3px 1px rgba(60, 64, 67, 0.15);\n",
              "      fill: #174EA6;\n",
              "    }\n",
              "\n",
              "    [theme=dark] .colab-df-convert {\n",
              "      background-color: #3B4455;\n",
              "      fill: #D2E3FC;\n",
              "    }\n",
              "\n",
              "    [theme=dark] .colab-df-convert:hover {\n",
              "      background-color: #434B5C;\n",
              "      box-shadow: 0px 1px 3px 1px rgba(0, 0, 0, 0.15);\n",
              "      filter: drop-shadow(0px 1px 2px rgba(0, 0, 0, 0.3));\n",
              "      fill: #FFFFFF;\n",
              "    }\n",
              "  </style>\n",
              "\n",
              "      <script>\n",
              "        const buttonEl =\n",
              "          document.querySelector('#df-c3294258-a247-447d-9f1e-e521584bcece button.colab-df-convert');\n",
              "        buttonEl.style.display =\n",
              "          google.colab.kernel.accessAllowed ? 'block' : 'none';\n",
              "\n",
              "        async function convertToInteractive(key) {\n",
              "          const element = document.querySelector('#df-c3294258-a247-447d-9f1e-e521584bcece');\n",
              "          const dataTable =\n",
              "            await google.colab.kernel.invokeFunction('convertToInteractive',\n",
              "                                                     [key], {});\n",
              "          if (!dataTable) return;\n",
              "\n",
              "          const docLinkHtml = 'Like what you see? Visit the ' +\n",
              "            '<a target=\"_blank\" href=https://colab.research.google.com/notebooks/data_table.ipynb>data table notebook</a>'\n",
              "            + ' to learn more about interactive tables.';\n",
              "          element.innerHTML = '';\n",
              "          dataTable['output_type'] = 'display_data';\n",
              "          await google.colab.output.renderOutput(dataTable, element);\n",
              "          const docLink = document.createElement('div');\n",
              "          docLink.innerHTML = docLinkHtml;\n",
              "          element.appendChild(docLink);\n",
              "        }\n",
              "      </script>\n",
              "    </div>\n",
              "  </div>\n",
              "  "
            ]
          },
          "metadata": {},
          "execution_count": 67
        }
      ]
    },
    {
      "cell_type": "code",
      "source": [
        "y.head()"
      ],
      "metadata": {
        "colab": {
          "base_uri": "https://localhost:8080/",
          "height": 206
        },
        "id": "AQXWpCXwA9kJ",
        "outputId": "483945ef-ef1b-4999-8c07-8bbdcc2dd2a5"
      },
      "execution_count": null,
      "outputs": [
        {
          "output_type": "execute_result",
          "data": {
            "text/plain": [
              "      price\n",
              "0   63790.0\n",
              "1   89990.0\n",
              "2  123990.0\n",
              "3   41715.0\n",
              "4   48990.0"
            ],
            "text/html": [
              "\n",
              "  <div id=\"df-0f6d4277-6ef8-47bd-9f24-b245e3a5dfa7\">\n",
              "    <div class=\"colab-df-container\">\n",
              "      <div>\n",
              "<style scoped>\n",
              "    .dataframe tbody tr th:only-of-type {\n",
              "        vertical-align: middle;\n",
              "    }\n",
              "\n",
              "    .dataframe tbody tr th {\n",
              "        vertical-align: top;\n",
              "    }\n",
              "\n",
              "    .dataframe thead th {\n",
              "        text-align: right;\n",
              "    }\n",
              "</style>\n",
              "<table border=\"1\" class=\"dataframe\">\n",
              "  <thead>\n",
              "    <tr style=\"text-align: right;\">\n",
              "      <th></th>\n",
              "      <th>price</th>\n",
              "    </tr>\n",
              "  </thead>\n",
              "  <tbody>\n",
              "    <tr>\n",
              "      <th>0</th>\n",
              "      <td>63790.0</td>\n",
              "    </tr>\n",
              "    <tr>\n",
              "      <th>1</th>\n",
              "      <td>89990.0</td>\n",
              "    </tr>\n",
              "    <tr>\n",
              "      <th>2</th>\n",
              "      <td>123990.0</td>\n",
              "    </tr>\n",
              "    <tr>\n",
              "      <th>3</th>\n",
              "      <td>41715.0</td>\n",
              "    </tr>\n",
              "    <tr>\n",
              "      <th>4</th>\n",
              "      <td>48990.0</td>\n",
              "    </tr>\n",
              "  </tbody>\n",
              "</table>\n",
              "</div>\n",
              "      <button class=\"colab-df-convert\" onclick=\"convertToInteractive('df-0f6d4277-6ef8-47bd-9f24-b245e3a5dfa7')\"\n",
              "              title=\"Convert this dataframe to an interactive table.\"\n",
              "              style=\"display:none;\">\n",
              "        \n",
              "  <svg xmlns=\"http://www.w3.org/2000/svg\" height=\"24px\"viewBox=\"0 0 24 24\"\n",
              "       width=\"24px\">\n",
              "    <path d=\"M0 0h24v24H0V0z\" fill=\"none\"/>\n",
              "    <path d=\"M18.56 5.44l.94 2.06.94-2.06 2.06-.94-2.06-.94-.94-2.06-.94 2.06-2.06.94zm-11 1L8.5 8.5l.94-2.06 2.06-.94-2.06-.94L8.5 2.5l-.94 2.06-2.06.94zm10 10l.94 2.06.94-2.06 2.06-.94-2.06-.94-.94-2.06-.94 2.06-2.06.94z\"/><path d=\"M17.41 7.96l-1.37-1.37c-.4-.4-.92-.59-1.43-.59-.52 0-1.04.2-1.43.59L10.3 9.45l-7.72 7.72c-.78.78-.78 2.05 0 2.83L4 21.41c.39.39.9.59 1.41.59.51 0 1.02-.2 1.41-.59l7.78-7.78 2.81-2.81c.8-.78.8-2.07 0-2.86zM5.41 20L4 18.59l7.72-7.72 1.47 1.35L5.41 20z\"/>\n",
              "  </svg>\n",
              "      </button>\n",
              "      \n",
              "  <style>\n",
              "    .colab-df-container {\n",
              "      display:flex;\n",
              "      flex-wrap:wrap;\n",
              "      gap: 12px;\n",
              "    }\n",
              "\n",
              "    .colab-df-convert {\n",
              "      background-color: #E8F0FE;\n",
              "      border: none;\n",
              "      border-radius: 50%;\n",
              "      cursor: pointer;\n",
              "      display: none;\n",
              "      fill: #1967D2;\n",
              "      height: 32px;\n",
              "      padding: 0 0 0 0;\n",
              "      width: 32px;\n",
              "    }\n",
              "\n",
              "    .colab-df-convert:hover {\n",
              "      background-color: #E2EBFA;\n",
              "      box-shadow: 0px 1px 2px rgba(60, 64, 67, 0.3), 0px 1px 3px 1px rgba(60, 64, 67, 0.15);\n",
              "      fill: #174EA6;\n",
              "    }\n",
              "\n",
              "    [theme=dark] .colab-df-convert {\n",
              "      background-color: #3B4455;\n",
              "      fill: #D2E3FC;\n",
              "    }\n",
              "\n",
              "    [theme=dark] .colab-df-convert:hover {\n",
              "      background-color: #434B5C;\n",
              "      box-shadow: 0px 1px 3px 1px rgba(0, 0, 0, 0.15);\n",
              "      filter: drop-shadow(0px 1px 2px rgba(0, 0, 0, 0.3));\n",
              "      fill: #FFFFFF;\n",
              "    }\n",
              "  </style>\n",
              "\n",
              "      <script>\n",
              "        const buttonEl =\n",
              "          document.querySelector('#df-0f6d4277-6ef8-47bd-9f24-b245e3a5dfa7 button.colab-df-convert');\n",
              "        buttonEl.style.display =\n",
              "          google.colab.kernel.accessAllowed ? 'block' : 'none';\n",
              "\n",
              "        async function convertToInteractive(key) {\n",
              "          const element = document.querySelector('#df-0f6d4277-6ef8-47bd-9f24-b245e3a5dfa7');\n",
              "          const dataTable =\n",
              "            await google.colab.kernel.invokeFunction('convertToInteractive',\n",
              "                                                     [key], {});\n",
              "          if (!dataTable) return;\n",
              "\n",
              "          const docLinkHtml = 'Like what you see? Visit the ' +\n",
              "            '<a target=\"_blank\" href=https://colab.research.google.com/notebooks/data_table.ipynb>data table notebook</a>'\n",
              "            + ' to learn more about interactive tables.';\n",
              "          element.innerHTML = '';\n",
              "          dataTable['output_type'] = 'display_data';\n",
              "          await google.colab.output.renderOutput(dataTable, element);\n",
              "          const docLink = document.createElement('div');\n",
              "          docLink.innerHTML = docLinkHtml;\n",
              "          element.appendChild(docLink);\n",
              "        }\n",
              "      </script>\n",
              "    </div>\n",
              "  </div>\n",
              "  "
            ]
          },
          "metadata": {},
          "execution_count": 68
        }
      ]
    },
    {
      "cell_type": "markdown",
      "source": [
        "**Train - Test split**"
      ],
      "metadata": {
        "id": "NvvKgLC3MtSg"
      }
    },
    {
      "cell_type": "code",
      "source": [
        "x_train,x_test,y_train,y_test=train_test_split(x,y,test_size=.30,random_state=42)"
      ],
      "metadata": {
        "id": "3jg2sypXBgWW"
      },
      "execution_count": null,
      "outputs": []
    },
    {
      "cell_type": "code",
      "source": [
        "import statsmodels.api as sm\n",
        "X_sm= x = sm.add_constant(x)\n",
        "model=sm.OLS(y,X_sm)  \n",
        "model.fit().summary() "
      ],
      "metadata": {
        "colab": {
          "base_uri": "https://localhost:8080/",
          "height": 743
        },
        "id": "Sh32Mlx4xvRb",
        "outputId": "ffeb4c71-ded3-4170-8508-eedc4bdf6343"
      },
      "execution_count": null,
      "outputs": [
        {
          "output_type": "stream",
          "name": "stderr",
          "text": [
            "/usr/local/lib/python3.7/dist-packages/statsmodels/tsa/tsatools.py:142: FutureWarning: In a future version of pandas all arguments of concat except for the argument 'objs' will be keyword-only\n",
            "  x = pd.concat(x[::order], 1)\n"
          ]
        },
        {
          "output_type": "execute_result",
          "data": {
            "text/plain": [
              "<class 'statsmodels.iolib.summary.Summary'>\n",
              "\"\"\"\n",
              "                            OLS Regression Results                            \n",
              "==============================================================================\n",
              "Dep. Variable:                  price   R-squared:                       0.662\n",
              "Model:                            OLS   Adj. R-squared:                  0.655\n",
              "Method:                 Least Squares   F-statistic:                     97.82\n",
              "Date:                Thu, 29 Sep 2022   Prob (F-statistic):          1.27e-121\n",
              "Time:                        15:04:47   Log-Likelihood:                -6455.5\n",
              "No. Observations:                 561   AIC:                         1.294e+04\n",
              "Df Residuals:                     549   BIC:                         1.299e+04\n",
              "Df Model:                          11                                         \n",
              "Covariance Type:            nonrobust                                         \n",
              "=====================================================================================\n",
              "                        coef    std err          t      P>|t|      [0.025      0.975]\n",
              "-------------------------------------------------------------------------------------\n",
              "const             -3.462e+04   2.31e+04     -1.501      0.134   -7.99e+04    1.07e+04\n",
              "company             237.7459    261.766      0.908      0.364    -276.439     751.931\n",
              "model_name          183.4712     43.531      4.215      0.000      97.964     268.978\n",
              "rating             6367.9766   2988.431      2.131      0.034     497.819    1.22e+04\n",
              "processor_name     1.482e+04   3080.973      4.809      0.000    8765.984    2.09e+04\n",
              "processor_type     3234.9916    663.821      4.873      0.000    1931.051    4538.932\n",
              "generation         -905.9676   1076.637     -0.841      0.400   -3020.799    1208.864\n",
              "ram(GB)            4437.2425    287.052     15.458      0.000    3873.387    5001.098\n",
              "size(inch)        -3299.3198   1229.416     -2.684      0.008   -5714.254    -884.385\n",
              "OS                -6854.8985   3186.364     -2.151      0.032   -1.31e+04    -595.941\n",
              "storage_1_sto(GB)    73.8643      9.667      7.641      0.000      54.876      92.852\n",
              "storage_1_type       3.5e+04   3286.229     10.652      0.000    2.85e+04    4.15e+04\n",
              "==============================================================================\n",
              "Omnibus:                       78.612   Durbin-Watson:                   1.818\n",
              "Prob(Omnibus):                  0.000   Jarque-Bera (JB):              120.752\n",
              "Skew:                           0.917   Prob(JB):                     6.01e-27\n",
              "Kurtosis:                       4.341   Cond. No.                     8.28e+03\n",
              "==============================================================================\n",
              "\n",
              "Notes:\n",
              "[1] Standard Errors assume that the covariance matrix of the errors is correctly specified.\n",
              "[2] The condition number is large, 8.28e+03. This might indicate that there are\n",
              "strong multicollinearity or other numerical problems.\n",
              "\"\"\""
            ],
            "text/html": [
              "<table class=\"simpletable\">\n",
              "<caption>OLS Regression Results</caption>\n",
              "<tr>\n",
              "  <th>Dep. Variable:</th>          <td>price</td>      <th>  R-squared:         </th> <td>   0.662</td> \n",
              "</tr>\n",
              "<tr>\n",
              "  <th>Model:</th>                   <td>OLS</td>       <th>  Adj. R-squared:    </th> <td>   0.655</td> \n",
              "</tr>\n",
              "<tr>\n",
              "  <th>Method:</th>             <td>Least Squares</td>  <th>  F-statistic:       </th> <td>   97.82</td> \n",
              "</tr>\n",
              "<tr>\n",
              "  <th>Date:</th>             <td>Thu, 29 Sep 2022</td> <th>  Prob (F-statistic):</th> <td>1.27e-121</td>\n",
              "</tr>\n",
              "<tr>\n",
              "  <th>Time:</th>                 <td>15:04:47</td>     <th>  Log-Likelihood:    </th> <td> -6455.5</td> \n",
              "</tr>\n",
              "<tr>\n",
              "  <th>No. Observations:</th>      <td>   561</td>      <th>  AIC:               </th> <td>1.294e+04</td>\n",
              "</tr>\n",
              "<tr>\n",
              "  <th>Df Residuals:</th>          <td>   549</td>      <th>  BIC:               </th> <td>1.299e+04</td>\n",
              "</tr>\n",
              "<tr>\n",
              "  <th>Df Model:</th>              <td>    11</td>      <th>                     </th>     <td> </td>    \n",
              "</tr>\n",
              "<tr>\n",
              "  <th>Covariance Type:</th>      <td>nonrobust</td>    <th>                     </th>     <td> </td>    \n",
              "</tr>\n",
              "</table>\n",
              "<table class=\"simpletable\">\n",
              "<tr>\n",
              "          <td></td>             <th>coef</th>     <th>std err</th>      <th>t</th>      <th>P>|t|</th>  <th>[0.025</th>    <th>0.975]</th>  \n",
              "</tr>\n",
              "<tr>\n",
              "  <th>const</th>             <td>-3.462e+04</td> <td> 2.31e+04</td> <td>   -1.501</td> <td> 0.134</td> <td>-7.99e+04</td> <td> 1.07e+04</td>\n",
              "</tr>\n",
              "<tr>\n",
              "  <th>company</th>           <td>  237.7459</td> <td>  261.766</td> <td>    0.908</td> <td> 0.364</td> <td> -276.439</td> <td>  751.931</td>\n",
              "</tr>\n",
              "<tr>\n",
              "  <th>model_name</th>        <td>  183.4712</td> <td>   43.531</td> <td>    4.215</td> <td> 0.000</td> <td>   97.964</td> <td>  268.978</td>\n",
              "</tr>\n",
              "<tr>\n",
              "  <th>rating</th>            <td> 6367.9766</td> <td> 2988.431</td> <td>    2.131</td> <td> 0.034</td> <td>  497.819</td> <td> 1.22e+04</td>\n",
              "</tr>\n",
              "<tr>\n",
              "  <th>processor_name</th>    <td> 1.482e+04</td> <td> 3080.973</td> <td>    4.809</td> <td> 0.000</td> <td> 8765.984</td> <td> 2.09e+04</td>\n",
              "</tr>\n",
              "<tr>\n",
              "  <th>processor_type</th>    <td> 3234.9916</td> <td>  663.821</td> <td>    4.873</td> <td> 0.000</td> <td> 1931.051</td> <td> 4538.932</td>\n",
              "</tr>\n",
              "<tr>\n",
              "  <th>generation</th>        <td> -905.9676</td> <td> 1076.637</td> <td>   -0.841</td> <td> 0.400</td> <td>-3020.799</td> <td> 1208.864</td>\n",
              "</tr>\n",
              "<tr>\n",
              "  <th>ram(GB)</th>           <td> 4437.2425</td> <td>  287.052</td> <td>   15.458</td> <td> 0.000</td> <td> 3873.387</td> <td> 5001.098</td>\n",
              "</tr>\n",
              "<tr>\n",
              "  <th>size(inch)</th>        <td>-3299.3198</td> <td> 1229.416</td> <td>   -2.684</td> <td> 0.008</td> <td>-5714.254</td> <td> -884.385</td>\n",
              "</tr>\n",
              "<tr>\n",
              "  <th>OS</th>                <td>-6854.8985</td> <td> 3186.364</td> <td>   -2.151</td> <td> 0.032</td> <td>-1.31e+04</td> <td> -595.941</td>\n",
              "</tr>\n",
              "<tr>\n",
              "  <th>storage_1_sto(GB)</th> <td>   73.8643</td> <td>    9.667</td> <td>    7.641</td> <td> 0.000</td> <td>   54.876</td> <td>   92.852</td>\n",
              "</tr>\n",
              "<tr>\n",
              "  <th>storage_1_type</th>    <td>   3.5e+04</td> <td> 3286.229</td> <td>   10.652</td> <td> 0.000</td> <td> 2.85e+04</td> <td> 4.15e+04</td>\n",
              "</tr>\n",
              "</table>\n",
              "<table class=\"simpletable\">\n",
              "<tr>\n",
              "  <th>Omnibus:</th>       <td>78.612</td> <th>  Durbin-Watson:     </th> <td>   1.818</td>\n",
              "</tr>\n",
              "<tr>\n",
              "  <th>Prob(Omnibus):</th> <td> 0.000</td> <th>  Jarque-Bera (JB):  </th> <td> 120.752</td>\n",
              "</tr>\n",
              "<tr>\n",
              "  <th>Skew:</th>          <td> 0.917</td> <th>  Prob(JB):          </th> <td>6.01e-27</td>\n",
              "</tr>\n",
              "<tr>\n",
              "  <th>Kurtosis:</th>      <td> 4.341</td> <th>  Cond. No.          </th> <td>8.28e+03</td>\n",
              "</tr>\n",
              "</table><br/><br/>Notes:<br/>[1] Standard Errors assume that the covariance matrix of the errors is correctly specified.<br/>[2] The condition number is large, 8.28e+03. This might indicate that there are<br/>strong multicollinearity or other numerical problems."
            ]
          },
          "metadata": {},
          "execution_count": 95
        }
      ]
    },
    {
      "cell_type": "markdown",
      "source": [
        "**LinearRegression**"
      ],
      "metadata": {
        "id": "-p6RIF6jMyM1"
      }
    },
    {
      "cell_type": "code",
      "source": [
        "regressor=LinearRegression()\n",
        "regressor.fit(x_train,y_train)"
      ],
      "metadata": {
        "colab": {
          "base_uri": "https://localhost:8080/"
        },
        "id": "Cs_mmEaJGGwP",
        "outputId": "18df84d1-cdac-4a93-ca15-38785756702d"
      },
      "execution_count": null,
      "outputs": [
        {
          "output_type": "execute_result",
          "data": {
            "text/plain": [
              "LinearRegression()"
            ]
          },
          "metadata": {},
          "execution_count": 87
        }
      ]
    },
    {
      "cell_type": "code",
      "source": [
        "print(regressor.intercept_)\n",
        "print(regressor.coef_)"
      ],
      "metadata": {
        "colab": {
          "base_uri": "https://localhost:8080/"
        },
        "id": "Q_mgQTIeGORg",
        "outputId": "dd71db24-460b-4c63-9f3d-644fb168b16e"
      },
      "execution_count": null,
      "outputs": [
        {
          "output_type": "stream",
          "name": "stdout",
          "text": [
            "[-79027.45824541]\n",
            "[[  368.77406      202.30750115  8016.5884125  18606.25544503\n",
            "   4058.6341586   -719.22090781  4254.17660904  -928.28546664\n",
            "  -7256.12706738    66.05383152 30501.56937009]]\n"
          ]
        }
      ]
    },
    {
      "cell_type": "code",
      "source": [
        "y_pred=regressor.predict(x_test)"
      ],
      "metadata": {
        "id": "qyXgOBlsGXpv"
      },
      "execution_count": null,
      "outputs": []
    },
    {
      "cell_type": "code",
      "source": [
        "y_test=y_test.values.reshape(-1,1)"
      ],
      "metadata": {
        "id": "oy2YsrCOw8Hd"
      },
      "execution_count": null,
      "outputs": []
    },
    {
      "cell_type": "code",
      "source": [
        "df=pd.DataFrame({'Actual':y_test.flatten(),'Predicted':y_pred.flatten()})\n",
        "df"
      ],
      "metadata": {
        "colab": {
          "base_uri": "https://localhost:8080/",
          "height": 423
        },
        "id": "Qqdw3PIiGa6O",
        "outputId": "7e402ada-c7d0-4ea2-9584-4376ac387ced"
      },
      "execution_count": null,
      "outputs": [
        {
          "output_type": "execute_result",
          "data": {
            "text/html": [
              "\n",
              "  <div id=\"df-80250e0f-ce1c-41ba-9a74-f93677356c54\">\n",
              "    <div class=\"colab-df-container\">\n",
              "      <div>\n",
              "<style scoped>\n",
              "    .dataframe tbody tr th:only-of-type {\n",
              "        vertical-align: middle;\n",
              "    }\n",
              "\n",
              "    .dataframe tbody tr th {\n",
              "        vertical-align: top;\n",
              "    }\n",
              "\n",
              "    .dataframe thead th {\n",
              "        text-align: right;\n",
              "    }\n",
              "</style>\n",
              "<table border=\"1\" class=\"dataframe\">\n",
              "  <thead>\n",
              "    <tr style=\"text-align: right;\">\n",
              "      <th></th>\n",
              "      <th>Actual</th>\n",
              "      <th>Predicted</th>\n",
              "    </tr>\n",
              "  </thead>\n",
              "  <tbody>\n",
              "    <tr>\n",
              "      <th>0</th>\n",
              "      <td>107786.0</td>\n",
              "      <td>77338.287866</td>\n",
              "    </tr>\n",
              "    <tr>\n",
              "      <th>1</th>\n",
              "      <td>52990.0</td>\n",
              "      <td>66330.100158</td>\n",
              "    </tr>\n",
              "    <tr>\n",
              "      <th>2</th>\n",
              "      <td>187990.0</td>\n",
              "      <td>154878.059700</td>\n",
              "    </tr>\n",
              "    <tr>\n",
              "      <th>3</th>\n",
              "      <td>59990.0</td>\n",
              "      <td>86269.072538</td>\n",
              "    </tr>\n",
              "    <tr>\n",
              "      <th>4</th>\n",
              "      <td>70000.0</td>\n",
              "      <td>92105.142646</td>\n",
              "    </tr>\n",
              "    <tr>\n",
              "      <th>...</th>\n",
              "      <td>...</td>\n",
              "      <td>...</td>\n",
              "    </tr>\n",
              "    <tr>\n",
              "      <th>164</th>\n",
              "      <td>76990.0</td>\n",
              "      <td>76812.209103</td>\n",
              "    </tr>\n",
              "    <tr>\n",
              "      <th>165</th>\n",
              "      <td>156990.0</td>\n",
              "      <td>158774.307407</td>\n",
              "    </tr>\n",
              "    <tr>\n",
              "      <th>166</th>\n",
              "      <td>59999.0</td>\n",
              "      <td>91787.319084</td>\n",
              "    </tr>\n",
              "    <tr>\n",
              "      <th>167</th>\n",
              "      <td>140990.0</td>\n",
              "      <td>125237.303655</td>\n",
              "    </tr>\n",
              "    <tr>\n",
              "      <th>168</th>\n",
              "      <td>49000.0</td>\n",
              "      <td>66438.115493</td>\n",
              "    </tr>\n",
              "  </tbody>\n",
              "</table>\n",
              "<p>169 rows × 2 columns</p>\n",
              "</div>\n",
              "      <button class=\"colab-df-convert\" onclick=\"convertToInteractive('df-80250e0f-ce1c-41ba-9a74-f93677356c54')\"\n",
              "              title=\"Convert this dataframe to an interactive table.\"\n",
              "              style=\"display:none;\">\n",
              "        \n",
              "  <svg xmlns=\"http://www.w3.org/2000/svg\" height=\"24px\"viewBox=\"0 0 24 24\"\n",
              "       width=\"24px\">\n",
              "    <path d=\"M0 0h24v24H0V0z\" fill=\"none\"/>\n",
              "    <path d=\"M18.56 5.44l.94 2.06.94-2.06 2.06-.94-2.06-.94-.94-2.06-.94 2.06-2.06.94zm-11 1L8.5 8.5l.94-2.06 2.06-.94-2.06-.94L8.5 2.5l-.94 2.06-2.06.94zm10 10l.94 2.06.94-2.06 2.06-.94-2.06-.94-.94-2.06-.94 2.06-2.06.94z\"/><path d=\"M17.41 7.96l-1.37-1.37c-.4-.4-.92-.59-1.43-.59-.52 0-1.04.2-1.43.59L10.3 9.45l-7.72 7.72c-.78.78-.78 2.05 0 2.83L4 21.41c.39.39.9.59 1.41.59.51 0 1.02-.2 1.41-.59l7.78-7.78 2.81-2.81c.8-.78.8-2.07 0-2.86zM5.41 20L4 18.59l7.72-7.72 1.47 1.35L5.41 20z\"/>\n",
              "  </svg>\n",
              "      </button>\n",
              "      \n",
              "  <style>\n",
              "    .colab-df-container {\n",
              "      display:flex;\n",
              "      flex-wrap:wrap;\n",
              "      gap: 12px;\n",
              "    }\n",
              "\n",
              "    .colab-df-convert {\n",
              "      background-color: #E8F0FE;\n",
              "      border: none;\n",
              "      border-radius: 50%;\n",
              "      cursor: pointer;\n",
              "      display: none;\n",
              "      fill: #1967D2;\n",
              "      height: 32px;\n",
              "      padding: 0 0 0 0;\n",
              "      width: 32px;\n",
              "    }\n",
              "\n",
              "    .colab-df-convert:hover {\n",
              "      background-color: #E2EBFA;\n",
              "      box-shadow: 0px 1px 2px rgba(60, 64, 67, 0.3), 0px 1px 3px 1px rgba(60, 64, 67, 0.15);\n",
              "      fill: #174EA6;\n",
              "    }\n",
              "\n",
              "    [theme=dark] .colab-df-convert {\n",
              "      background-color: #3B4455;\n",
              "      fill: #D2E3FC;\n",
              "    }\n",
              "\n",
              "    [theme=dark] .colab-df-convert:hover {\n",
              "      background-color: #434B5C;\n",
              "      box-shadow: 0px 1px 3px 1px rgba(0, 0, 0, 0.15);\n",
              "      filter: drop-shadow(0px 1px 2px rgba(0, 0, 0, 0.3));\n",
              "      fill: #FFFFFF;\n",
              "    }\n",
              "  </style>\n",
              "\n",
              "      <script>\n",
              "        const buttonEl =\n",
              "          document.querySelector('#df-80250e0f-ce1c-41ba-9a74-f93677356c54 button.colab-df-convert');\n",
              "        buttonEl.style.display =\n",
              "          google.colab.kernel.accessAllowed ? 'block' : 'none';\n",
              "\n",
              "        async function convertToInteractive(key) {\n",
              "          const element = document.querySelector('#df-80250e0f-ce1c-41ba-9a74-f93677356c54');\n",
              "          const dataTable =\n",
              "            await google.colab.kernel.invokeFunction('convertToInteractive',\n",
              "                                                     [key], {});\n",
              "          if (!dataTable) return;\n",
              "\n",
              "          const docLinkHtml = 'Like what you see? Visit the ' +\n",
              "            '<a target=\"_blank\" href=https://colab.research.google.com/notebooks/data_table.ipynb>data table notebook</a>'\n",
              "            + ' to learn more about interactive tables.';\n",
              "          element.innerHTML = '';\n",
              "          dataTable['output_type'] = 'display_data';\n",
              "          await google.colab.output.renderOutput(dataTable, element);\n",
              "          const docLink = document.createElement('div');\n",
              "          docLink.innerHTML = docLinkHtml;\n",
              "          element.appendChild(docLink);\n",
              "        }\n",
              "      </script>\n",
              "    </div>\n",
              "  </div>\n",
              "  "
            ],
            "text/plain": [
              "       Actual      Predicted\n",
              "0    107786.0   77338.287866\n",
              "1     52990.0   66330.100158\n",
              "2    187990.0  154878.059700\n",
              "3     59990.0   86269.072538\n",
              "4     70000.0   92105.142646\n",
              "..        ...            ...\n",
              "164   76990.0   76812.209103\n",
              "165  156990.0  158774.307407\n",
              "166   59999.0   91787.319084\n",
              "167  140990.0  125237.303655\n",
              "168   49000.0   66438.115493\n",
              "\n",
              "[169 rows x 2 columns]"
            ]
          },
          "metadata": {},
          "execution_count": 91
        }
      ]
    },
    {
      "cell_type": "code",
      "source": [
        "print('Mean Absolute Error:', metrics.mean_absolute_error(y_test, y_pred))  \n",
        "print('Mean Squared Error:', metrics.mean_squared_error(y_test, y_pred))  \n",
        "print('Root Mean Squared Error:', np.sqrt(metrics.mean_squared_error(y_test, y_pred)))"
      ],
      "metadata": {
        "colab": {
          "base_uri": "https://localhost:8080/"
        },
        "id": "BxJj5bwiG0XW",
        "outputId": "fd516b6b-715b-45df-82df-eceed049c8de"
      },
      "execution_count": null,
      "outputs": [
        {
          "output_type": "stream",
          "name": "stdout",
          "text": [
            "Mean Absolute Error: 18363.554684936393\n",
            "Mean Squared Error: 575895631.0324835\n",
            "Root Mean Squared Error: 23997.825548005043\n"
          ]
        }
      ]
    },
    {
      "cell_type": "code",
      "source": [
        "df1 = df.head(30)\n",
        "df1.plot(kind='bar',figsize=(14,10))\n",
        "plt.grid(which='major', linestyle='-', linewidth='0.5', color='yellow')\n",
        "plt.grid(which='minor', linestyle=':', linewidth='0.5', color='black')\n",
        "plt.show()"
      ],
      "metadata": {
        "colab": {
          "base_uri": "https://localhost:8080/",
          "height": 594
        },
        "id": "MLpq8uVbG5YY",
        "outputId": "4fe3813d-48ee-4526-cc31-25b5e27c336c"
      },
      "execution_count": null,
      "outputs": [
        {
          "output_type": "display_data",
          "data": {
            "image/png": "[encoded data removed]",
            "text/plain": [
              "<Figure size 1008x720 with 1 Axes>"
            ]
          },
          "metadata": {
            "needs_background": "light"
          }
        }
      ]
    },
    {
      "cell_type": "code",
      "source": [
        "from sklearn.metrics import r2_score\n",
        "r2_score(y_test,y_pred)"
      ],
      "metadata": {
        "id": "pexF3UysN64h",
        "colab": {
          "base_uri": "https://localhost:8080/"
        },
        "outputId": "6fb150e3-d754-4e65-9af8-ddad0df2970c"
      },
      "execution_count": null,
      "outputs": [
        {
          "output_type": "execute_result",
          "data": {
            "text/plain": [
              "0.7216355043327659"
            ]
          },
          "metadata": {},
          "execution_count": 93
        }
      ]
    },
    {
      "cell_type": "code",
      "source": [
        "c = [i for i in range (1,len(y_test)+1,1)]\n",
        "plt.plot(c,y_test,color='r',linestyle='-')\n",
        "plt.plot(c,y_pred,color='b',linestyle='-')\n",
        "plt.xlabel('actual')\n",
        "plt.ylabel('index')\n",
        "plt.title('Prediction')\n",
        "plt.show()"
      ],
      "metadata": {
        "id": "eWnV7XsAyCx6",
        "outputId": "96c900f5-956d-4fa4-8b28-787b7127520f",
        "colab": {
          "base_uri": "https://localhost:8080/",
          "height": 295
        }
      },
      "execution_count": null,
      "outputs": [
        {
          "output_type": "display_data",
          "data": {
            "image/png": "[encoded data removed]",
            "text/plain": [
              "<Figure size 432x288 with 1 Axes>"
            ]
          },
          "metadata": {
            "needs_background": "light"
          }
        }
      ]
    },
    {
      "cell_type": "code",
      "source": [
        "plt.figure(figsize = (10,5))\n",
        "plt.scatter(y_test,y_pred, alpha=0.5, color='red')\n",
        "plt.plot([0,250000], [0,250000])\n",
        "plt.show()"
      ],
      "metadata": {
        "id": "TE6od7FTyJX-",
        "colab": {
          "base_uri": "https://localhost:8080/",
          "height": 320
        },
        "outputId": "1c3dff36-79ca-4a29-b0d5-8382680d23ec"
      },
      "execution_count": null,
      "outputs": [
        {
          "output_type": "display_data",
          "data": {
            "image/png": "[encoded data removed]",
            "text/plain": [
              "<Figure size 720x360 with 1 Axes>"
            ]
          },
          "metadata": {
            "needs_background": "light"
          }
        }
      ]
    },
    {
      "cell_type": "markdown",
      "source": [
        "**Lasso Regression**"
      ],
      "metadata": {
        "id": "CFqkWO9LynUG"
      }
    },
    {
      "cell_type": "code",
      "source": [
        "from sklearn.model_selection import cross_val_score"
      ],
      "metadata": {
        "id": "n9jwG1cw07-l"
      },
      "execution_count": null,
      "outputs": []
    },
    {
      "cell_type": "code",
      "source": [
        "lm_l = Lasso(alpha=0.13)\n",
        "lm_l.fit(x_train,y_train)\n",
        "np.mean(cross_val_score(lm_l,x_train,y_train,scoring='neg_mean_absolute_error',cv=3))"
      ],
      "metadata": {
        "colab": {
          "base_uri": "https://localhost:8080/"
        },
        "id": "hCvMnFudutII",
        "outputId": "90dc9d8c-897e-4494-eb68-19905685473e"
      },
      "execution_count": null,
      "outputs": [
        {
          "output_type": "execute_result",
          "data": {
            "text/plain": [
              "-19467.307685226024"
            ]
          },
          "metadata": {},
          "execution_count": 79
        }
      ]
    },
    {
      "cell_type": "code",
      "source": [
        "y_lasso = lm_l.predict(x_test)"
      ],
      "metadata": {
        "id": "v-0YZStVvlwx"
      },
      "execution_count": null,
      "outputs": []
    },
    {
      "cell_type": "code",
      "source": [
        "from sklearn.metrics import mean_absolute_error\n",
        "mean_absolute_error(y_lasso,y_test)"
      ],
      "metadata": {
        "colab": {
          "base_uri": "https://localhost:8080/"
        },
        "id": "A4imsQKJvqfi",
        "outputId": "154df631-7e7c-4683-b0fa-85023ba9ed21"
      },
      "execution_count": null,
      "outputs": [
        {
          "output_type": "execute_result",
          "data": {
            "text/plain": [
              "18363.57187996111"
            ]
          },
          "metadata": {},
          "execution_count": 81
        }
      ]
    },
    {
      "cell_type": "code",
      "source": [
        "from sklearn.metrics import r2_score\n",
        "r2_score(y_lasso,y_test)"
      ],
      "metadata": {
        "colab": {
          "base_uri": "https://localhost:8080/"
        },
        "id": "O2YypFMZvxK8",
        "outputId": "2f85409e-bdf5-4e76-b24a-587188498020"
      },
      "execution_count": null,
      "outputs": [
        {
          "output_type": "execute_result",
          "data": {
            "text/plain": [
              "0.5377637441993623"
            ]
          },
          "metadata": {},
          "execution_count": 83
        }
      ]
    },
    {
      "cell_type": "markdown",
      "source": [
        "**XGBoost**"
      ],
      "metadata": {
        "id": "UDt0UoiFy8QO"
      }
    },
    {
      "cell_type": "code",
      "source": [
        "from xgboost import XGBRegressor\n",
        "regressor = XGBRegressor(random_state = 0)\n",
        "regressor.fit(x_train,y_train)"
      ],
      "metadata": {
        "colab": {
          "base_uri": "https://localhost:8080/"
        },
        "id": "PbD6pu9rv1ZH",
        "outputId": "83e15dc6-26ef-4343-b35c-6ca6c3d2537d"
      },
      "execution_count": null,
      "outputs": [
        {
          "output_type": "stream",
          "name": "stdout",
          "text": [
            "[14:58:00] WARNING: /workspace/src/objective/regression_obj.cu:152: reg:linear is now deprecated in favor of reg:squarederror.\n"
          ]
        },
        {
          "output_type": "execute_result",
          "data": {
            "text/plain": [
              "XGBRegressor()"
            ]
          },
          "metadata": {},
          "execution_count": 84
        }
      ]
    },
    {
      "cell_type": "code",
      "source": [
        "y_xgb = regressor.predict(x_test)\n",
        "from sklearn.metrics import mean_absolute_error\n",
        "mean_absolute_error(y_xgb,y_test)"
      ],
      "metadata": {
        "colab": {
          "base_uri": "https://localhost:8080/"
        },
        "id": "TttkJxDowSjL",
        "outputId": "6866991f-6365-4740-f615-181a26edb7ba"
      },
      "execution_count": null,
      "outputs": [
        {
          "output_type": "execute_result",
          "data": {
            "text/plain": [
              "12802.38467316938"
            ]
          },
          "metadata": {},
          "execution_count": 85
        }
      ]
    },
    {
      "cell_type": "code",
      "source": [
        "from sklearn.metrics import r2_score\n",
        "r2_score(y_xgb,y_test)"
      ],
      "metadata": {
        "colab": {
          "base_uri": "https://localhost:8080/"
        },
        "id": "EeuyZeUnwZtE",
        "outputId": "8f087f54-50b8-4ca2-ff13-c2c7c61c7747"
      },
      "execution_count": null,
      "outputs": [
        {
          "output_type": "execute_result",
          "data": {
            "text/plain": [
              "0.809276137733965"
            ]
          },
          "metadata": {},
          "execution_count": 87
        }
      ]
    },
    {
      "cell_type": "code",
      "source": [
        "from xgboost import XGBRegressor\n",
        "xgb1 = XGBRegressor()\n",
        "parameters = {'nthread':[4], #when use hyperthread, xgboost may become slower\n",
        "              'objective':['reg:linear'],\n",
        "              'learning_rate': [.03, 0.05, .07], #so called `eta` value\n",
        "              'max_depth': [5, 6, 7],\n",
        "              'min_child_weight': [4],\n",
        "              'silent': [1],\n",
        "              'subsample': [0.7],\n",
        "              'colsample_bytree': [0.7],\n",
        "              'n_estimators': [500]}"
      ],
      "metadata": {
        "id": "UuBcUaX-wgm8"
      },
      "execution_count": null,
      "outputs": []
    },
    {
      "cell_type": "code",
      "source": [
        "from sklearn.model_selection import GridSearchCV\n",
        "xgb_grid = GridSearchCV(xgb1,\n",
        "                        parameters,\n",
        "                        cv = 2,\n",
        "                        n_jobs = 5,\n",
        "                        verbose=True)"
      ],
      "metadata": {
        "id": "ljRyg7h0wwZs"
      },
      "execution_count": null,
      "outputs": []
    },
    {
      "cell_type": "code",
      "source": [
        "xgb_grid.fit(x_train,y_train)"
      ],
      "metadata": {
        "colab": {
          "base_uri": "https://localhost:8080/"
        },
        "id": "xbj5XhKewzhn",
        "outputId": "275b3d0a-2200-4b73-d9bd-55a2be594553"
      },
      "execution_count": null,
      "outputs": [
        {
          "output_type": "stream",
          "name": "stdout",
          "text": [
            "Fitting 2 folds for each of 9 candidates, totalling 18 fits\n"
          ]
        },
        {
          "output_type": "execute_result",
          "data": {
            "text/plain": [
              "GridSearchCV(cv=2, estimator=XGBRegressor(), n_jobs=5,\n",
              "             param_grid={'colsample_bytree': [0.7],\n",
              "                         'learning_rate': [0.03, 0.05, 0.07],\n",
              "                         'max_depth': [5, 6, 7], 'min_child_weight': [4],\n",
              "                         'n_estimators': [500], 'nthread': [4],\n",
              "                         'objective': ['reg:linear'], 'silent': [1],\n",
              "                         'subsample': [0.7]},\n",
              "             verbose=True)"
            ]
          },
          "metadata": {},
          "execution_count": 90
        }
      ]
    },
    {
      "cell_type": "code",
      "source": [
        "print(xgb_grid.best_score_)\n",
        "print(xgb_grid.best_params_)"
      ],
      "metadata": {
        "colab": {
          "base_uri": "https://localhost:8080/"
        },
        "id": "3mquO3MNw37E",
        "outputId": "7c532d5a-e78b-4d8c-8604-78652f3cd775"
      },
      "execution_count": null,
      "outputs": [
        {
          "output_type": "stream",
          "name": "stdout",
          "text": [
            "0.7271047838399619\n",
            "{'colsample_bytree': 0.7, 'learning_rate': 0.03, 'max_depth': 6, 'min_child_weight': 4, 'n_estimators': 500, 'nthread': 4, 'objective': 'reg:linear', 'silent': 1, 'subsample': 0.7}\n"
          ]
        }
      ]
    },
    {
      "cell_type": "code",
      "source": [
        "y_xgb1 = xgb_grid.predict(x_test)"
      ],
      "metadata": {
        "id": "MztdzhcTw_hB"
      },
      "execution_count": null,
      "outputs": []
    },
    {
      "cell_type": "code",
      "source": [
        "from sklearn.metrics import mean_absolute_error\n",
        "mean_absolute_error(y_xgb1,y_test)"
      ],
      "metadata": {
        "colab": {
          "base_uri": "https://localhost:8080/"
        },
        "id": "uwmBtHR6xFkD",
        "outputId": "84fd7df6-7dc2-4840-9d99-4338fa50eeed"
      },
      "execution_count": null,
      "outputs": [
        {
          "output_type": "execute_result",
          "data": {
            "text/plain": [
              "12193.183362610947"
            ]
          },
          "metadata": {},
          "execution_count": 93
        }
      ]
    },
    {
      "cell_type": "code",
      "source": [
        "from sklearn.metrics import r2_score\n",
        "r2_score(y_xgb1,y_test)"
      ],
      "metadata": {
        "colab": {
          "base_uri": "https://localhost:8080/"
        },
        "id": "psyXBp2PxKnn",
        "outputId": "72ed8319-e454-4a71-e1cf-80b982ef00a8"
      },
      "execution_count": null,
      "outputs": [
        {
          "output_type": "execute_result",
          "data": {
            "text/plain": [
              "0.8324598346061092"
            ]
          },
          "metadata": {},
          "execution_count": 94
        }
      ]
    }
  ]
}